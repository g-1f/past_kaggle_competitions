{
 "cells": [
  {
   "cell_type": "code",
   "execution_count": 533,
   "metadata": {},
   "outputs": [],
   "source": [
    "\n",
    "import pandas as pd\n",
    "import numpy as np\n",
    "import matplotlib.pyplot as plt\n",
    "import optuna\n",
    "import lightgbm as lgb\n",
    "\n",
    "df_train = pd.read_csv(('train.csv'))\n",
    "df_test = pd.read_csv('test.csv')\n",
    "census = pd.read_csv('census_starter.csv', index_col='cfips')\n",
    "df_merged_df = pd.read_csv('sample_submission.csv')\n",
    "df_new = pd.read_csv('revealed_test.csv')"
   ]
  },
  {
   "cell_type": "code",
   "execution_count": 534,
   "metadata": {},
   "outputs": [],
   "source": [
    "df_train = pd.concat([df_train, df_new]).sort_values(by=['cfips', 'first_day_of_month']).reset_index()\n",
    "drop_index = (df_test.first_day_of_month == '2022-11-01') | (df_test.first_day_of_month == '2022-12-01')\n",
    "df_test = df_test.loc[~ drop_index]"
   ]
  },
  {
   "cell_type": "code",
   "execution_count": 535,
   "metadata": {},
   "outputs": [],
   "source": [
    "df_train['is_train'] = 1\n",
    "df_test['is_train'] = 0"
   ]
  },
  {
   "cell_type": "code",
   "execution_count": 536,
   "metadata": {},
   "outputs": [],
   "source": [
    "state_dict = df_train[['cfips', 'state', 'county']]\n",
    "state_dict = state_dict.set_index('cfips')\n",
    "state_dict = state_dict.drop_duplicates()\n",
    "state_dict = state_dict.to_dict()\n",
    "\n",
    "df_test['state'] = df_test['cfips'].map(state_dict['state'])\n",
    "df_test['county'] = df_test['cfips'].map(state_dict['county'])\n",
    "zero_mask = (df_train['microbusiness_density'] == 0) & (df_train['active'] == 0) \n",
    "df_train['ratio'] = df_train.loc[~ zero_mask].groupby('cfips', group_keys=False).apply(lambda x: x.active / x.microbusiness_density)\n",
    "df_train['ratio'] = df_train['ratio'].fillna(0)\n",
    "df = pd.concat([df_train, df_test], axis=0)\n",
    "df.state = df['state'].astype('category').cat.codes\n",
    "df = df.drop(columns=['county'])"
   ]
  },
  {
   "cell_type": "code",
   "execution_count": 537,
   "metadata": {},
   "outputs": [],
   "source": [
    "df.first_day_of_month = pd.to_datetime(df.first_day_of_month)\n",
    "df['month'] = df.first_day_of_month.dt.month\n",
    "df['year'] = df.first_day_of_month.dt.year - 2019\n",
    "df['is_new_year'] = 0\n",
    "df.loc[df.month == 1, 'is_new_year'] = 1\n",
    "seasons = {1: 'Winter', 2: 'Winter', 3: 'Spring', 4: 'Spring', 5: 'Spring', 6: 'Summer', 7: 'Summer', 8: 'Summer', 9: 'Fall', 10: 'Fall', 11: 'Fall', 12: 'Winter'}\n",
    "df['season'] = df['month'].apply(lambda x: seasons[x])\n",
    "df['md_national_avg'] = df.groupby(['year','month'])['microbusiness_density'].transform('mean')\n",
    "df['md_state_avg'] = df.groupby(['state','year','month'])['microbusiness_density'].transform('mean')\n",
    "df['a_national_avg'] = df.groupby(['year','month'])['active'].transform('mean')\n",
    "df['a_state_avg'] = df.groupby(['state','year','month'])['active'].transform('mean')\n"
   ]
  },
  {
   "cell_type": "code",
   "execution_count": 538,
   "metadata": {},
   "outputs": [],
   "source": [
    "df = pd.concat([df, pd.get_dummies(df['season'], prefix='season')], axis=1)\n",
    "df = df.drop(columns='season')"
   ]
  },
  {
   "cell_type": "code",
   "execution_count": 539,
   "metadata": {},
   "outputs": [],
   "source": [
    "from pandas.tseries.holiday import USFederalHolidayCalendar\n",
    "from pandas.tseries.offsets import CustomBusinessDay\n",
    "\n",
    "# Create a US holiday calendar\n",
    "cal = USFederalHolidayCalendar()\n",
    "\n",
    "holidays = cal.holidays(start='2019-01-01', end='2023-06-01')\n",
    "df['holidays'] = pd.to_datetime(df['first_day_of_month'], format='%Y-%m-%d').dt.to_period('M').apply(lambda x: len(holidays[holidays.to_period('M') == x]))"
   ]
  },
  {
   "cell_type": "code",
   "execution_count": 540,
   "metadata": {},
   "outputs": [],
   "source": [
    "df['idx'] = df.groupby('cfips')['cfips'].cumcount()\n",
    "df = df.merge(census, on='cfips')"
   ]
  },
  {
   "cell_type": "code",
   "execution_count": 541,
   "metadata": {},
   "outputs": [],
   "source": [
    "import matplotlib.pyplot as plt\n",
    "%matplotlib inline\n",
    "\n",
    "df = df.set_index('row_id')\n",
    "mask = ((df.microbusiness_density == 0) & (df.active == 0))\n",
    "\n",
    "df['md_state_avg_log_diff'] = df.loc[~ mask].groupby('cfips', group_keys=False)['md_state_avg'].apply(lambda x: np.log(x).diff())\n",
    "df.loc[mask, [f'md_state_avg_log_diff']] = 0\n",
    "df[f'md_state_avg_log_diff'] = df.loc[~ mask].groupby('cfips', group_keys=False)['md_state_avg_log_diff'].bfill()# is backfill needed?\n",
    "\n",
    "df['a_state_avg_log_diff'] = df.loc[~ mask].groupby('cfips', group_keys=False)['a_state_avg'].apply(lambda x: np.log(x).diff())\n",
    "df.loc[mask, [f'a_state_avg_log_diff']] = 0\n",
    "df[f'a_state_avg_log_diff'] = df.loc[~ mask].groupby('cfips', group_keys=False)['a_state_avg_log_diff'].bfill()# is backfill needed?\n",
    "\n",
    "LAGS = [1, 2, 3, 4, 5, 6, 7, 8]\n",
    "for i in LAGS:\n",
    "    df[f'md_log_diff_{i}'] = df.loc[~ mask].groupby('cfips', group_keys=False)['microbusiness_density'].apply(lambda x: np.log(x).diff())\n",
    "    df.loc[mask, [f'md_log_diff_{i}' for i in LAGS]] = 0\n",
    "    df[f'md_log_diff_{i}'] = df.loc[~ mask].groupby('cfips', group_keys=False)[f'md_log_diff_{i}'].bfill()# is backfill needed?\n",
    "    df[f'a_log_diff_{i}'] = df.loc[~ mask].groupby('cfips', group_keys=False)['active'].apply(lambda x: np.log(x).diff())\n",
    "    df.loc[mask, [f'a_log_diff_{i}' for i in LAGS]] = 0\n",
    "    df[f'a_log_diff_{i}'] = df.loc[~ mask].groupby('cfips', group_keys=False)[f'a_log_diff_{i}'].bfill() # is backfill needed?\n",
    "    df[f'md_lag_{i}'] = df.groupby('cfips', group_keys=False)['microbusiness_density'].shift(i)\n",
    "    df[f'a_lag_{i}'] = df.groupby('cfips', group_keys=False)['microbusiness_density'].shift(i)\n",
    "    \n",
    "df['target'] = df.loc[~ mask].groupby('cfips', group_keys=False)['microbusiness_density'].apply(lambda x: np.log(x.shift(-5)) - np.log(x))\n",
    "df.loc[mask, ['target']] = 0"
   ]
  },
  {
   "cell_type": "code",
   "execution_count": 542,
   "metadata": {},
   "outputs": [
    {
     "data": {
      "text/html": [
       "<div>\n",
       "<style scoped>\n",
       "    .dataframe tbody tr th:only-of-type {\n",
       "        vertical-align: middle;\n",
       "    }\n",
       "\n",
       "    .dataframe tbody tr th {\n",
       "        vertical-align: top;\n",
       "    }\n",
       "\n",
       "    .dataframe thead th {\n",
       "        text-align: right;\n",
       "    }\n",
       "</style>\n",
       "<table border=\"1\" class=\"dataframe\">\n",
       "  <thead>\n",
       "    <tr style=\"text-align: right;\">\n",
       "      <th></th>\n",
       "      <th>index</th>\n",
       "      <th>cfips</th>\n",
       "      <th>state</th>\n",
       "      <th>first_day_of_month</th>\n",
       "      <th>microbusiness_density</th>\n",
       "      <th>active</th>\n",
       "      <th>is_train</th>\n",
       "      <th>ratio</th>\n",
       "      <th>month</th>\n",
       "      <th>year</th>\n",
       "      <th>...</th>\n",
       "      <th>a_lag_4</th>\n",
       "      <th>md_lag_5</th>\n",
       "      <th>a_lag_5</th>\n",
       "      <th>md_lag_6</th>\n",
       "      <th>a_lag_6</th>\n",
       "      <th>md_lag_7</th>\n",
       "      <th>a_lag_7</th>\n",
       "      <th>md_lag_8</th>\n",
       "      <th>a_lag_8</th>\n",
       "      <th>target</th>\n",
       "    </tr>\n",
       "    <tr>\n",
       "      <th>row_id</th>\n",
       "      <th></th>\n",
       "      <th></th>\n",
       "      <th></th>\n",
       "      <th></th>\n",
       "      <th></th>\n",
       "      <th></th>\n",
       "      <th></th>\n",
       "      <th></th>\n",
       "      <th></th>\n",
       "      <th></th>\n",
       "      <th></th>\n",
       "      <th></th>\n",
       "      <th></th>\n",
       "      <th></th>\n",
       "      <th></th>\n",
       "      <th></th>\n",
       "      <th></th>\n",
       "      <th></th>\n",
       "      <th></th>\n",
       "      <th></th>\n",
       "      <th></th>\n",
       "    </tr>\n",
       "  </thead>\n",
       "  <tbody>\n",
       "    <tr>\n",
       "      <th>1001_2021-01-01</th>\n",
       "      <td>17.0</td>\n",
       "      <td>1001</td>\n",
       "      <td>0</td>\n",
       "      <td>2021-01-01</td>\n",
       "      <td>2.947244</td>\n",
       "      <td>1243.0</td>\n",
       "      <td>1</td>\n",
       "      <td>421.749990</td>\n",
       "      <td>1</td>\n",
       "      <td>2</td>\n",
       "      <td>...</td>\n",
       "      <td>3.205756</td>\n",
       "      <td>3.174679</td>\n",
       "      <td>3.174679</td>\n",
       "      <td>3.083837</td>\n",
       "      <td>3.083837</td>\n",
       "      <td>3.019292</td>\n",
       "      <td>3.019292</td>\n",
       "      <td>3.004948</td>\n",
       "      <td>3.004948</td>\n",
       "      <td>0.089221</td>\n",
       "    </tr>\n",
       "    <tr>\n",
       "      <th>1001_2021-02-01</th>\n",
       "      <td>18.0</td>\n",
       "      <td>1001</td>\n",
       "      <td>0</td>\n",
       "      <td>2021-02-01</td>\n",
       "      <td>3.106106</td>\n",
       "      <td>1310.0</td>\n",
       "      <td>1</td>\n",
       "      <td>421.749988</td>\n",
       "      <td>2</td>\n",
       "      <td>2</td>\n",
       "      <td>...</td>\n",
       "      <td>3.193804</td>\n",
       "      <td>3.205756</td>\n",
       "      <td>3.205756</td>\n",
       "      <td>3.174679</td>\n",
       "      <td>3.174679</td>\n",
       "      <td>3.083837</td>\n",
       "      <td>3.083837</td>\n",
       "      <td>3.019292</td>\n",
       "      <td>3.019292</td>\n",
       "      <td>0.033036</td>\n",
       "    </tr>\n",
       "    <tr>\n",
       "      <th>1001_2021-03-01</th>\n",
       "      <td>19.0</td>\n",
       "      <td>1001</td>\n",
       "      <td>0</td>\n",
       "      <td>2021-03-01</td>\n",
       "      <td>3.144043</td>\n",
       "      <td>1326.0</td>\n",
       "      <td>1</td>\n",
       "      <td>421.749997</td>\n",
       "      <td>3</td>\n",
       "      <td>2</td>\n",
       "      <td>...</td>\n",
       "      <td>3.038416</td>\n",
       "      <td>3.193804</td>\n",
       "      <td>3.193804</td>\n",
       "      <td>3.205756</td>\n",
       "      <td>3.205756</td>\n",
       "      <td>3.174679</td>\n",
       "      <td>3.174679</td>\n",
       "      <td>3.083837</td>\n",
       "      <td>3.083837</td>\n",
       "      <td>0.023846</td>\n",
       "    </tr>\n",
       "    <tr>\n",
       "      <th>1001_2021-04-01</th>\n",
       "      <td>20.0</td>\n",
       "      <td>1001</td>\n",
       "      <td>0</td>\n",
       "      <td>2021-04-01</td>\n",
       "      <td>3.224659</td>\n",
       "      <td>1360.0</td>\n",
       "      <td>1</td>\n",
       "      <td>421.749995</td>\n",
       "      <td>4</td>\n",
       "      <td>2</td>\n",
       "      <td>...</td>\n",
       "      <td>3.002558</td>\n",
       "      <td>3.038416</td>\n",
       "      <td>3.038416</td>\n",
       "      <td>3.193804</td>\n",
       "      <td>3.193804</td>\n",
       "      <td>3.205756</td>\n",
       "      <td>3.205756</td>\n",
       "      <td>3.174679</td>\n",
       "      <td>3.174679</td>\n",
       "      <td>-0.011834</td>\n",
       "    </tr>\n",
       "    <tr>\n",
       "      <th>1001_2021-05-01</th>\n",
       "      <td>21.0</td>\n",
       "      <td>1001</td>\n",
       "      <td>0</td>\n",
       "      <td>2021-05-01</td>\n",
       "      <td>3.227030</td>\n",
       "      <td>1361.0</td>\n",
       "      <td>1</td>\n",
       "      <td>421.749991</td>\n",
       "      <td>5</td>\n",
       "      <td>2</td>\n",
       "      <td>...</td>\n",
       "      <td>2.947244</td>\n",
       "      <td>3.002558</td>\n",
       "      <td>3.002558</td>\n",
       "      <td>3.038416</td>\n",
       "      <td>3.038416</td>\n",
       "      <td>3.193804</td>\n",
       "      <td>3.193804</td>\n",
       "      <td>3.205756</td>\n",
       "      <td>3.205756</td>\n",
       "      <td>-0.007375</td>\n",
       "    </tr>\n",
       "    <tr>\n",
       "      <th>...</th>\n",
       "      <td>...</td>\n",
       "      <td>...</td>\n",
       "      <td>...</td>\n",
       "      <td>...</td>\n",
       "      <td>...</td>\n",
       "      <td>...</td>\n",
       "      <td>...</td>\n",
       "      <td>...</td>\n",
       "      <td>...</td>\n",
       "      <td>...</td>\n",
       "      <td>...</td>\n",
       "      <td>...</td>\n",
       "      <td>...</td>\n",
       "      <td>...</td>\n",
       "      <td>...</td>\n",
       "      <td>...</td>\n",
       "      <td>...</td>\n",
       "      <td>...</td>\n",
       "      <td>...</td>\n",
       "      <td>...</td>\n",
       "      <td>...</td>\n",
       "    </tr>\n",
       "    <tr>\n",
       "      <th>56045_2023-02-01</th>\n",
       "      <td>NaN</td>\n",
       "      <td>56045</td>\n",
       "      <td>50</td>\n",
       "      <td>2023-02-01</td>\n",
       "      <td>NaN</td>\n",
       "      <td>NaN</td>\n",
       "      <td>0</td>\n",
       "      <td>NaN</td>\n",
       "      <td>2</td>\n",
       "      <td>4</td>\n",
       "      <td>...</td>\n",
       "      <td>1.785395</td>\n",
       "      <td>1.785395</td>\n",
       "      <td>1.785395</td>\n",
       "      <td>1.785395</td>\n",
       "      <td>1.785395</td>\n",
       "      <td>1.803249</td>\n",
       "      <td>1.803249</td>\n",
       "      <td>1.803249</td>\n",
       "      <td>1.803249</td>\n",
       "      <td>NaN</td>\n",
       "    </tr>\n",
       "    <tr>\n",
       "      <th>56045_2023-03-01</th>\n",
       "      <td>NaN</td>\n",
       "      <td>56045</td>\n",
       "      <td>50</td>\n",
       "      <td>2023-03-01</td>\n",
       "      <td>NaN</td>\n",
       "      <td>NaN</td>\n",
       "      <td>0</td>\n",
       "      <td>NaN</td>\n",
       "      <td>3</td>\n",
       "      <td>4</td>\n",
       "      <td>...</td>\n",
       "      <td>1.785395</td>\n",
       "      <td>1.785395</td>\n",
       "      <td>1.785395</td>\n",
       "      <td>1.785395</td>\n",
       "      <td>1.785395</td>\n",
       "      <td>1.785395</td>\n",
       "      <td>1.785395</td>\n",
       "      <td>1.803249</td>\n",
       "      <td>1.803249</td>\n",
       "      <td>NaN</td>\n",
       "    </tr>\n",
       "    <tr>\n",
       "      <th>56045_2023-04-01</th>\n",
       "      <td>NaN</td>\n",
       "      <td>56045</td>\n",
       "      <td>50</td>\n",
       "      <td>2023-04-01</td>\n",
       "      <td>NaN</td>\n",
       "      <td>NaN</td>\n",
       "      <td>0</td>\n",
       "      <td>NaN</td>\n",
       "      <td>4</td>\n",
       "      <td>4</td>\n",
       "      <td>...</td>\n",
       "      <td>1.803249</td>\n",
       "      <td>1.785395</td>\n",
       "      <td>1.785395</td>\n",
       "      <td>1.785395</td>\n",
       "      <td>1.785395</td>\n",
       "      <td>1.785395</td>\n",
       "      <td>1.785395</td>\n",
       "      <td>1.785395</td>\n",
       "      <td>1.785395</td>\n",
       "      <td>NaN</td>\n",
       "    </tr>\n",
       "    <tr>\n",
       "      <th>56045_2023-05-01</th>\n",
       "      <td>NaN</td>\n",
       "      <td>56045</td>\n",
       "      <td>50</td>\n",
       "      <td>2023-05-01</td>\n",
       "      <td>NaN</td>\n",
       "      <td>NaN</td>\n",
       "      <td>0</td>\n",
       "      <td>NaN</td>\n",
       "      <td>5</td>\n",
       "      <td>4</td>\n",
       "      <td>...</td>\n",
       "      <td>NaN</td>\n",
       "      <td>1.803249</td>\n",
       "      <td>1.803249</td>\n",
       "      <td>1.785395</td>\n",
       "      <td>1.785395</td>\n",
       "      <td>1.785395</td>\n",
       "      <td>1.785395</td>\n",
       "      <td>1.785395</td>\n",
       "      <td>1.785395</td>\n",
       "      <td>NaN</td>\n",
       "    </tr>\n",
       "    <tr>\n",
       "      <th>56045_2023-06-01</th>\n",
       "      <td>NaN</td>\n",
       "      <td>56045</td>\n",
       "      <td>50</td>\n",
       "      <td>2023-06-01</td>\n",
       "      <td>NaN</td>\n",
       "      <td>NaN</td>\n",
       "      <td>0</td>\n",
       "      <td>NaN</td>\n",
       "      <td>6</td>\n",
       "      <td>4</td>\n",
       "      <td>...</td>\n",
       "      <td>NaN</td>\n",
       "      <td>NaN</td>\n",
       "      <td>NaN</td>\n",
       "      <td>1.803249</td>\n",
       "      <td>1.803249</td>\n",
       "      <td>1.785395</td>\n",
       "      <td>1.785395</td>\n",
       "      <td>1.785395</td>\n",
       "      <td>1.785395</td>\n",
       "      <td>NaN</td>\n",
       "    </tr>\n",
       "  </tbody>\n",
       "</table>\n",
       "<p>94050 rows × 81 columns</p>\n",
       "</div>"
      ],
      "text/plain": [
       "                  index  cfips  state first_day_of_month  \\\n",
       "row_id                                                     \n",
       "1001_2021-01-01    17.0   1001      0         2021-01-01   \n",
       "1001_2021-02-01    18.0   1001      0         2021-02-01   \n",
       "1001_2021-03-01    19.0   1001      0         2021-03-01   \n",
       "1001_2021-04-01    20.0   1001      0         2021-04-01   \n",
       "1001_2021-05-01    21.0   1001      0         2021-05-01   \n",
       "...                 ...    ...    ...                ...   \n",
       "56045_2023-02-01    NaN  56045     50         2023-02-01   \n",
       "56045_2023-03-01    NaN  56045     50         2023-03-01   \n",
       "56045_2023-04-01    NaN  56045     50         2023-04-01   \n",
       "56045_2023-05-01    NaN  56045     50         2023-05-01   \n",
       "56045_2023-06-01    NaN  56045     50         2023-06-01   \n",
       "\n",
       "                  microbusiness_density  active  is_train       ratio  month  \\\n",
       "row_id                                                                         \n",
       "1001_2021-01-01                2.947244  1243.0         1  421.749990      1   \n",
       "1001_2021-02-01                3.106106  1310.0         1  421.749988      2   \n",
       "1001_2021-03-01                3.144043  1326.0         1  421.749997      3   \n",
       "1001_2021-04-01                3.224659  1360.0         1  421.749995      4   \n",
       "1001_2021-05-01                3.227030  1361.0         1  421.749991      5   \n",
       "...                                 ...     ...       ...         ...    ...   \n",
       "56045_2023-02-01                    NaN     NaN         0         NaN      2   \n",
       "56045_2023-03-01                    NaN     NaN         0         NaN      3   \n",
       "56045_2023-04-01                    NaN     NaN         0         NaN      4   \n",
       "56045_2023-05-01                    NaN     NaN         0         NaN      5   \n",
       "56045_2023-06-01                    NaN     NaN         0         NaN      6   \n",
       "\n",
       "                  year  ...   a_lag_4  md_lag_5   a_lag_5  md_lag_6   a_lag_6  \\\n",
       "row_id                  ...                                                     \n",
       "1001_2021-01-01      2  ...  3.205756  3.174679  3.174679  3.083837  3.083837   \n",
       "1001_2021-02-01      2  ...  3.193804  3.205756  3.205756  3.174679  3.174679   \n",
       "1001_2021-03-01      2  ...  3.038416  3.193804  3.193804  3.205756  3.205756   \n",
       "1001_2021-04-01      2  ...  3.002558  3.038416  3.038416  3.193804  3.193804   \n",
       "1001_2021-05-01      2  ...  2.947244  3.002558  3.002558  3.038416  3.038416   \n",
       "...                ...  ...       ...       ...       ...       ...       ...   \n",
       "56045_2023-02-01     4  ...  1.785395  1.785395  1.785395  1.785395  1.785395   \n",
       "56045_2023-03-01     4  ...  1.785395  1.785395  1.785395  1.785395  1.785395   \n",
       "56045_2023-04-01     4  ...  1.803249  1.785395  1.785395  1.785395  1.785395   \n",
       "56045_2023-05-01     4  ...       NaN  1.803249  1.803249  1.785395  1.785395   \n",
       "56045_2023-06-01     4  ...       NaN       NaN       NaN  1.803249  1.803249   \n",
       "\n",
       "                  md_lag_7   a_lag_7  md_lag_8   a_lag_8    target  \n",
       "row_id                                                              \n",
       "1001_2021-01-01   3.019292  3.019292  3.004948  3.004948  0.089221  \n",
       "1001_2021-02-01   3.083837  3.083837  3.019292  3.019292  0.033036  \n",
       "1001_2021-03-01   3.174679  3.174679  3.083837  3.083837  0.023846  \n",
       "1001_2021-04-01   3.205756  3.205756  3.174679  3.174679 -0.011834  \n",
       "1001_2021-05-01   3.193804  3.193804  3.205756  3.205756 -0.007375  \n",
       "...                    ...       ...       ...       ...       ...  \n",
       "56045_2023-02-01  1.803249  1.803249  1.803249  1.803249       NaN  \n",
       "56045_2023-03-01  1.785395  1.785395  1.803249  1.803249       NaN  \n",
       "56045_2023-04-01  1.785395  1.785395  1.785395  1.785395       NaN  \n",
       "56045_2023-05-01  1.785395  1.785395  1.785395  1.785395       NaN  \n",
       "56045_2023-06-01  1.785395  1.785395  1.785395  1.785395       NaN  \n",
       "\n",
       "[94050 rows x 81 columns]"
      ]
     },
     "execution_count": 542,
     "metadata": {},
     "output_type": "execute_result"
    }
   ],
   "source": [
    "year_mask = True\n",
    "if year_mask:\n",
    "    mask = (df['year'] == 1) | (df['year'] == 0)\n",
    "    df = df.loc[~mask]\n",
    "df"
   ]
  },
  {
   "cell_type": "code",
   "execution_count": 543,
   "metadata": {},
   "outputs": [],
   "source": [
    "df = df.to_csv('base_df.csv')"
   ]
  },
  {
   "cell_type": "code",
   "execution_count": 544,
   "metadata": {},
   "outputs": [],
   "source": [
    "df = pd.read_csv('base_df.csv', index_col='row_id')"
   ]
  },
  {
   "cell_type": "code",
   "execution_count": 545,
   "metadata": {},
   "outputs": [],
   "source": [
    "# reorganize train test\n",
    "df_train = df[df.is_train == 1]\n",
    "df_train = df_train.fillna(0)\n",
    "df_test = df[df.is_train == 0]\n",
    "target_train = df[df.is_train == 1]['target']\n",
    "target_train = target_train.fillna(0)"
   ]
  },
  {
   "cell_type": "code",
   "execution_count": 546,
   "metadata": {},
   "outputs": [],
   "source": [
    "from sklearn.neighbors import NearestNeighbors\n",
    "from tqdm import tqdm\n",
    "\n",
    "def get_NN_cfips_by_feats(df, N, p, metric, feature):\n",
    "    df = df.reset_index()\n",
    "    NN_feature = ['cfips', 'first_day_of_month', feature]\n",
    "    df = df[NN_feature]\n",
    "    df = df.pivot(index='cfips', columns='first_day_of_month', values=feature)\n",
    "    df.columns.name = None\n",
    "    nn = NearestNeighbors(\n",
    "                n_neighbors=N, \n",
    "                p=p, \n",
    "                metric=metric, \n",
    "                # metric_params=metric_params\n",
    "            )\n",
    "    nn.fit(df)\n",
    "    neighbors = nn.kneighbors(df, return_distance=False)\n",
    "    df_nn = pd.DataFrame(neighbors, index=df.index)\n",
    "    df_nn = df_nn.apply(lambda col: df.index[col])\n",
    "    df_nn = df_nn.iloc[:, 1:]\n",
    "    return df_nn\n",
    "\n",
    "def get_NN_cfips_by_census(census, N, p, metric):\n",
    "    nn_census= NearestNeighbors(\n",
    "                n_neighbors=N, \n",
    "                p=p, \n",
    "                metric=metric, \n",
    "                # metric_params=metric_params\n",
    "            )\n",
    "    census_na = census[census.isna().any(axis=1)]\n",
    "    na_mask = census_na.index\n",
    "    census.loc[na_mask] = census.loc[na_mask].fillna(method='ffill', axis=1)\n",
    "    df_mask = df.cfips.unique()\n",
    "    census = census.loc[df_mask]\n",
    "    nn_census.fit(census)\n",
    "    neighbors = nn_census.kneighbors(census, return_distance=False)\n",
    "    df_nn = pd.DataFrame(neighbors, index=census.index)\n",
    "    df_nn = df_nn.iloc[:, 1:]\n",
    "    df_nn= df_nn.loc[df_mask]\n",
    "    df_nn = df_nn.rename(columns={1: 'NN_1', 2: 'NN_2', 3: 'NN_3'})\n",
    "    df_nn[['NN_1', 'NN_2', 'NN_3']] = df_nn[['NN_1', 'NN_2', 'NN_3']].applymap(lambda x: census.index[x])\n",
    "    return df_nn\n",
    "\n",
    "def generate_feature(df_nn, df, feature, colname):\n",
    "    cfips = df.cfips.unique()\n",
    "    df_grouped = df.groupby('cfips')\n",
    "    dfs = []\n",
    "    for cfips_val in tqdm(cfips):\n",
    "        nn_list = df_nn.loc[cfips_val].values.tolist()\n",
    "        feats = pd.DataFrame(np.asarray([df_grouped.get_group(i)[feature].values for i in nn_list]).T, columns=[f'{colname}_NN_{i}' for i in range(len(nn_list))])\n",
    "        # print(nn_list)\n",
    "        # print(feats)\n",
    "        dfs.append(feats)\n",
    "    result = pd.concat(dfs, axis=0)\n",
    "    result = result.reset_index()\n",
    "    result = result.drop(columns='index')\n",
    "    return result\n",
    "\n",
    "def combine_nn_feats(df, df_nn):\n",
    "    df = df.reset_index()\n",
    "    df = pd.concat([df, df_nn], axis=1)\n",
    "    df = df.drop(columns='first_day_of_month')\n",
    "    df = df.set_index('row_id')\n",
    "    return df"
   ]
  },
  {
   "cell_type": "code",
   "execution_count": 547,
   "metadata": {},
   "outputs": [],
   "source": [
    "# df_nn_c = get_NN_cfips_by_census(census, N=4, p=2)\n",
    "# df_nn_c\n",
    "# generate_feature(df_nn_c, df_train, 'microbusiness_density', 'md')"
   ]
  },
  {
   "cell_type": "code",
   "execution_count": 548,
   "metadata": {},
   "outputs": [
    {
     "name": "stderr",
     "output_type": "stream",
     "text": [
      "100%|██████████| 3135/3135 [00:00<00:00, 3686.98it/s]\n",
      "100%|██████████| 3135/3135 [00:00<00:00, 3679.24it/s]\n",
      "100%|██████████| 3135/3135 [00:00<00:00, 3824.13it/s]\n",
      "100%|██████████| 3135/3135 [00:00<00:00, 3889.68it/s]\n",
      "100%|██████████| 3135/3135 [00:00<00:00, 3786.11it/s]\n",
      "100%|██████████| 3135/3135 [00:00<00:00, 4010.39it/s]\n",
      "100%|██████████| 3135/3135 [00:00<00:00, 3172.22it/s]\n",
      "100%|██████████| 3135/3135 [00:00<00:00, 3659.33it/s]\n",
      "100%|██████████| 3135/3135 [00:00<00:00, 3247.36it/s]\n",
      "100%|██████████| 3135/3135 [00:00<00:00, 3694.53it/s]\n",
      "100%|██████████| 3135/3135 [00:00<00:00, 3198.89it/s]\n",
      "100%|██████████| 3135/3135 [00:00<00:00, 3646.98it/s]\n",
      "100%|██████████| 3135/3135 [00:00<00:00, 3636.93it/s]\n",
      "100%|██████████| 3135/3135 [00:00<00:00, 3238.50it/s]\n",
      "100%|██████████| 3135/3135 [00:00<00:00, 3743.99it/s]\n",
      "100%|██████████| 3135/3135 [00:00<00:00, 3811.61it/s]\n",
      "100%|██████████| 3135/3135 [00:00<00:00, 3727.59it/s]\n",
      "100%|██████████| 3135/3135 [00:01<00:00, 2694.08it/s]\n",
      "100%|██████████| 3135/3135 [00:00<00:00, 3694.94it/s]\n",
      "100%|██████████| 3135/3135 [00:01<00:00, 2953.64it/s]\n",
      "100%|██████████| 3135/3135 [00:00<00:00, 3721.50it/s]\n",
      "100%|██████████| 3135/3135 [00:00<00:00, 3356.82it/s]\n",
      "100%|██████████| 3135/3135 [00:00<00:00, 3858.21it/s]\n",
      "100%|██████████| 3135/3135 [00:01<00:00, 2922.73it/s]\n",
      "100%|██████████| 3135/3135 [00:00<00:00, 3773.08it/s]\n",
      "100%|██████████| 3135/3135 [00:01<00:00, 2695.16it/s]\n",
      "100%|██████████| 3135/3135 [00:00<00:00, 3578.15it/s]\n",
      "100%|██████████| 3135/3135 [00:01<00:00, 3134.22it/s]\n",
      "100%|██████████| 3135/3135 [00:00<00:00, 3440.72it/s]\n",
      "100%|██████████| 3135/3135 [00:00<00:00, 3298.30it/s]\n",
      "100%|██████████| 3135/3135 [00:00<00:00, 3952.25it/s]\n",
      "100%|██████████| 3135/3135 [00:00<00:00, 3485.80it/s]\n",
      "100%|██████████| 3135/3135 [00:00<00:00, 3931.44it/s]\n",
      "100%|██████████| 3135/3135 [00:00<00:00, 3495.58it/s]\n",
      "100%|██████████| 3135/3135 [00:00<00:00, 3881.49it/s]\n",
      "100%|██████████| 3135/3135 [00:00<00:00, 3504.76it/s]\n",
      "100%|██████████| 3135/3135 [00:00<00:00, 3905.57it/s]\n",
      "100%|██████████| 3135/3135 [00:00<00:00, 3938.30it/s]\n"
     ]
    }
   ],
   "source": [
    "KNN = True\n",
    "\n",
    "if KNN:\n",
    "    # NN by md:\n",
    "    df_nn_c1 = get_NN_cfips_by_census(census, N=4, p=1, metric='manhattan')\n",
    "    df_nn_1 = get_NN_cfips_by_feats(df_train, N=4, p=1, metric='manhattan', feature='microbusiness_density')\n",
    "    md_log_diff_1_p1 = generate_feature(df_nn_1, df_train, 'md_log_diff_1', 'md_log_diff_1_1')\n",
    "    md_log_diff_2_p1 = generate_feature(df_nn_1, df_train, 'md_log_diff_2', 'md_log_diff_2_1')\n",
    "    md_log_diff_3_p1 = generate_feature(df_nn_1, df_train, 'md_log_diff_3', 'md_log_diff_3_1')\n",
    "    md_log_diff_4_p1 = generate_feature(df_nn_1, df_train, 'md_log_diff_4', 'md_log_diff_4_1')\n",
    "    md_log_diff_5_p1 = generate_feature(df_nn_1, df_train, 'md_log_diff_5', 'md_log_diff_5_1')\n",
    "    md_state_avg_diff_c_p1 = generate_feature(df_nn_c1, df_train, 'md_state_avg_log_diff', 'md_state_avg_c_1')\n",
    "    md_state_avg_diff_p1 = generate_feature(df_nn_1, df_train, 'md_state_avg_log_diff', 'md_state_avg_1')\n",
    "    a_state_avg_diff_c_p1 = generate_feature(df_nn_c1, df_train, 'a_state_avg_log_diff', 'a_state_avg_c_1')\n",
    "    a_state_avg_diff_p1 = generate_feature(df_nn_1, df_train, 'a_state_avg_log_diff', 'a_state_avg_1')\n",
    "    md_lag_1_c_p1 = generate_feature(df_nn_c1, df_train, 'md_lag_1', 'lag_1_c_1')\n",
    "    md_lag_2_c_p1 = generate_feature(df_nn_c1, df_train, 'md_lag_2', 'lag_2_c_1')\n",
    "    md_lag_3_c_p1 = generate_feature(df_nn_c1, df_train, 'md_lag_3', 'lag_3_c_1')\n",
    "    md_lag_4_c_p1 = generate_feature(df_nn_c1, df_train, 'md_lag_4', 'lag_4_c_1')\n",
    "    md_lag_5_c_p1 = generate_feature(df_nn_c1, df_train, 'md_lag_5', 'lag_5_c_1')\n",
    "    md_lag_1_p1 = generate_feature(df_nn_1, df_train, 'md_lag_1', 'lag_1_1')\n",
    "    md_lag_2_p1 = generate_feature(df_nn_1, df_train, 'md_lag_2', 'lag_2_1')\n",
    "    md_lag_3_p1 = generate_feature(df_nn_1, df_train, 'md_lag_3', 'lag_3_1')\n",
    "    md_lag_4_p1 = generate_feature(df_nn_1, df_train, 'md_lag_4', 'lag_4_1')\n",
    "    md_lag_5_p1 = generate_feature(df_nn_1, df_train, 'md_lag_5', 'lag_5_1')\n",
    "\n",
    "    # NN by log_diff:\n",
    "    df_nn_c2 = get_NN_cfips_by_census(census, N=4, p=2, metric='euclidean')\n",
    "    df_nn_2 = get_NN_cfips_by_feats(df_train, N=4, p=2, metric = 'euclidean', feature='microbusiness_density')\n",
    "    md_log_diff_1_p2 = generate_feature(df_nn_2, df_train, 'md_log_diff_1', 'md_log_diff_1_2')\n",
    "    md_log_diff_2_p2 = generate_feature(df_nn_2, df_train, 'md_log_diff_2', 'md_log_diff_2_2')\n",
    "    md_log_diff_3_p2 = generate_feature(df_nn_2, df_train, 'md_log_diff_3', 'md_log_diff_3_2')\n",
    "    md_log_diff_4_p2 = generate_feature(df_nn_2, df_train, 'md_log_diff_4', 'md_log_diff_4_2')\n",
    "    md_log_diff_5_p2 = generate_feature(df_nn_2, df_train, 'md_log_diff_5', 'md_log_diff_5_2')\n",
    "    md_state_avg_diff_c_p2 = generate_feature(df_nn_c2, df_train, 'md_state_avg_log_diff', 'md_state_avg_c_2')\n",
    "    md_state_avg_diff_p2 = generate_feature(df_nn_2, df_train, 'md_state_avg_log_diff', 'md_state_avg_2')\n",
    "    a_state_avg_diff_c_p2 = generate_feature(df_nn_c2, df_train, 'a_state_avg_log_diff', 'a_state_avg_c_2')\n",
    "    a_state_avg_diff_p2 = generate_feature(df_nn_2, df_train, 'a_state_avg_log_diff', 'a_state_avg_2')\n",
    "    md_lag_1_c_p2 = generate_feature(df_nn_c2, df_train, 'md_lag_1', 'lag_1_c_2')\n",
    "    md_lag_2_c_p2 = generate_feature(df_nn_c2, df_train, 'md_lag_2', 'lag_2_c_2')\n",
    "    md_lag_3_c_p2 = generate_feature(df_nn_c2, df_train, 'md_lag_3', 'lag_3_c_2')\n",
    "    md_lag_4_c_p2 = generate_feature(df_nn_c2, df_train, 'md_lag_4', 'lag_4_c_2')\n",
    "    md_lag_5_c_p2 = generate_feature(df_nn_c2, df_train, 'md_lag_5', 'lag_5_c_2')\n",
    "    md_lag_1_p2 = generate_feature(df_nn_2, df_train, 'md_lag_1', 'lag_1_2')\n",
    "    md_lag_2_p2 = generate_feature(df_nn_2, df_train, 'md_lag_2', 'lag_2_2')\n",
    "    md_lag_3_p2 = generate_feature(df_nn_2, df_train, 'md_lag_3', 'lag_3_2')\n",
    "    md_lag_4_p2 = generate_feature(df_nn_2, df_train, 'md_lag_4', 'lag_4_2')\n",
    "    md_lag_5_p2 = generate_feature(df_nn_2, df_train, 'md_lag_5', 'lag_5_2')\n",
    "    NN_feats_list = [\n",
    "        md_state_avg_diff_c_p1,\n",
    "        md_state_avg_diff_c_p2,\n",
    "        a_state_avg_diff_c_p1,\n",
    "        a_state_avg_diff_c_p2,\n",
    "        md_lag_1_c_p1,\n",
    "        md_lag_1_c_p2,\n",
    "        md_lag_2_c_p1,\n",
    "        md_lag_2_c_p2,\n",
    "        md_lag_3_c_p1,\n",
    "        md_lag_3_c_p2,\n",
    "        md_lag_4_c_p1,\n",
    "        md_lag_4_c_p2,\n",
    "        md_lag_5_c_p1,\n",
    "        md_lag_5_c_p2,\n",
    "        md_state_avg_diff_p1, \n",
    "        md_state_avg_diff_p2,\n",
    "        a_state_avg_diff_p1,\n",
    "        a_state_avg_diff_p2,\n",
    "        md_lag_1_p1,\n",
    "        md_lag_1_p2,\n",
    "        md_lag_2_p1,\n",
    "        md_lag_2_p2,\n",
    "        md_lag_3_p1,\n",
    "        md_lag_3_p2,\n",
    "        md_lag_4_p1,\n",
    "        md_lag_4_p2,\n",
    "        md_lag_5_p1,\n",
    "        md_lag_5_p2,\n",
    "        md_log_diff_1_p1,\n",
    "        md_log_diff_1_p2,\n",
    "        md_log_diff_2_p1,\n",
    "        md_log_diff_2_p2,\n",
    "        md_log_diff_3_p1,\n",
    "        md_log_diff_3_p2,\n",
    "        md_log_diff_4_p1,\n",
    "        md_log_diff_4_p2,\n",
    "        md_log_diff_5_p1,\n",
    "        md_log_diff_5_p2,\n",
    "        ]\n",
    "    NN_feats = pd.concat(NN_feats_list, axis=1)\n",
    "    df_train = combine_nn_feats(df_train, NN_feats)\n",
    "else:\n",
    "    df_train = df_train.drop(columns='first_day_of_month')"
   ]
  },
  {
   "cell_type": "code",
   "execution_count": 549,
   "metadata": {},
   "outputs": [
    {
     "data": {
      "text/html": [
       "<div>\n",
       "<style scoped>\n",
       "    .dataframe tbody tr th:only-of-type {\n",
       "        vertical-align: middle;\n",
       "    }\n",
       "\n",
       "    .dataframe tbody tr th {\n",
       "        vertical-align: top;\n",
       "    }\n",
       "\n",
       "    .dataframe thead th {\n",
       "        text-align: right;\n",
       "    }\n",
       "</style>\n",
       "<table border=\"1\" class=\"dataframe\">\n",
       "  <thead>\n",
       "    <tr style=\"text-align: right;\">\n",
       "      <th></th>\n",
       "      <th>index</th>\n",
       "      <th>cfips</th>\n",
       "      <th>state</th>\n",
       "      <th>microbusiness_density</th>\n",
       "      <th>active</th>\n",
       "      <th>is_train</th>\n",
       "      <th>ratio</th>\n",
       "      <th>month</th>\n",
       "      <th>year</th>\n",
       "      <th>is_new_year</th>\n",
       "      <th>...</th>\n",
       "      <th>md_log_diff_4_1_NN_2</th>\n",
       "      <th>md_log_diff_4_2_NN_0</th>\n",
       "      <th>md_log_diff_4_2_NN_1</th>\n",
       "      <th>md_log_diff_4_2_NN_2</th>\n",
       "      <th>md_log_diff_5_1_NN_0</th>\n",
       "      <th>md_log_diff_5_1_NN_1</th>\n",
       "      <th>md_log_diff_5_1_NN_2</th>\n",
       "      <th>md_log_diff_5_2_NN_0</th>\n",
       "      <th>md_log_diff_5_2_NN_1</th>\n",
       "      <th>md_log_diff_5_2_NN_2</th>\n",
       "    </tr>\n",
       "    <tr>\n",
       "      <th>row_id</th>\n",
       "      <th></th>\n",
       "      <th></th>\n",
       "      <th></th>\n",
       "      <th></th>\n",
       "      <th></th>\n",
       "      <th></th>\n",
       "      <th></th>\n",
       "      <th></th>\n",
       "      <th></th>\n",
       "      <th></th>\n",
       "      <th></th>\n",
       "      <th></th>\n",
       "      <th></th>\n",
       "      <th></th>\n",
       "      <th></th>\n",
       "      <th></th>\n",
       "      <th></th>\n",
       "      <th></th>\n",
       "      <th></th>\n",
       "      <th></th>\n",
       "      <th></th>\n",
       "    </tr>\n",
       "  </thead>\n",
       "  <tbody>\n",
       "    <tr>\n",
       "      <th>1001_2021-01-01</th>\n",
       "      <td>17.0</td>\n",
       "      <td>1001</td>\n",
       "      <td>0</td>\n",
       "      <td>2.947244</td>\n",
       "      <td>1243.0</td>\n",
       "      <td>1</td>\n",
       "      <td>421.749990</td>\n",
       "      <td>1</td>\n",
       "      <td>2</td>\n",
       "      <td>1</td>\n",
       "      <td>...</td>\n",
       "      <td>0.014377</td>\n",
       "      <td>0.005454</td>\n",
       "      <td>0.006040</td>\n",
       "      <td>-0.012909</td>\n",
       "      <td>0.003468</td>\n",
       "      <td>0.005454</td>\n",
       "      <td>0.014377</td>\n",
       "      <td>0.005454</td>\n",
       "      <td>0.006040</td>\n",
       "      <td>-0.012909</td>\n",
       "    </tr>\n",
       "    <tr>\n",
       "      <th>1001_2021-02-01</th>\n",
       "      <td>18.0</td>\n",
       "      <td>1001</td>\n",
       "      <td>0</td>\n",
       "      <td>3.106106</td>\n",
       "      <td>1310.0</td>\n",
       "      <td>1</td>\n",
       "      <td>421.749988</td>\n",
       "      <td>2</td>\n",
       "      <td>2</td>\n",
       "      <td>0</td>\n",
       "      <td>...</td>\n",
       "      <td>0.004673</td>\n",
       "      <td>0.017133</td>\n",
       "      <td>0.053859</td>\n",
       "      <td>-0.022776</td>\n",
       "      <td>-0.012601</td>\n",
       "      <td>0.017133</td>\n",
       "      <td>0.004673</td>\n",
       "      <td>0.017133</td>\n",
       "      <td>0.053859</td>\n",
       "      <td>-0.022776</td>\n",
       "    </tr>\n",
       "    <tr>\n",
       "      <th>1001_2021-03-01</th>\n",
       "      <td>19.0</td>\n",
       "      <td>1001</td>\n",
       "      <td>0</td>\n",
       "      <td>3.144043</td>\n",
       "      <td>1326.0</td>\n",
       "      <td>1</td>\n",
       "      <td>421.749997</td>\n",
       "      <td>3</td>\n",
       "      <td>2</td>\n",
       "      <td>0</td>\n",
       "      <td>...</td>\n",
       "      <td>0.013889</td>\n",
       "      <td>0.014644</td>\n",
       "      <td>0.007463</td>\n",
       "      <td>0.005158</td>\n",
       "      <td>0.010811</td>\n",
       "      <td>0.014644</td>\n",
       "      <td>0.013889</td>\n",
       "      <td>0.014644</td>\n",
       "      <td>0.007463</td>\n",
       "      <td>0.005158</td>\n",
       "    </tr>\n",
       "    <tr>\n",
       "      <th>1001_2021-04-01</th>\n",
       "      <td>20.0</td>\n",
       "      <td>1001</td>\n",
       "      <td>0</td>\n",
       "      <td>3.224659</td>\n",
       "      <td>1360.0</td>\n",
       "      <td>1</td>\n",
       "      <td>421.749995</td>\n",
       "      <td>4</td>\n",
       "      <td>2</td>\n",
       "      <td>0</td>\n",
       "      <td>...</td>\n",
       "      <td>-0.002302</td>\n",
       "      <td>0.004396</td>\n",
       "      <td>0.000000</td>\n",
       "      <td>0.010237</td>\n",
       "      <td>0.000000</td>\n",
       "      <td>0.004396</td>\n",
       "      <td>-0.002302</td>\n",
       "      <td>0.004396</td>\n",
       "      <td>0.000000</td>\n",
       "      <td>0.010237</td>\n",
       "    </tr>\n",
       "    <tr>\n",
       "      <th>1001_2021-05-01</th>\n",
       "      <td>21.0</td>\n",
       "      <td>1001</td>\n",
       "      <td>0</td>\n",
       "      <td>3.227030</td>\n",
       "      <td>1361.0</td>\n",
       "      <td>1</td>\n",
       "      <td>421.749991</td>\n",
       "      <td>5</td>\n",
       "      <td>2</td>\n",
       "      <td>0</td>\n",
       "      <td>...</td>\n",
       "      <td>-0.006936</td>\n",
       "      <td>0.000000</td>\n",
       "      <td>0.014760</td>\n",
       "      <td>-0.003711</td>\n",
       "      <td>-0.001794</td>\n",
       "      <td>0.000000</td>\n",
       "      <td>-0.006936</td>\n",
       "      <td>0.000000</td>\n",
       "      <td>0.014760</td>\n",
       "      <td>-0.003711</td>\n",
       "    </tr>\n",
       "    <tr>\n",
       "      <th>...</th>\n",
       "      <td>...</td>\n",
       "      <td>...</td>\n",
       "      <td>...</td>\n",
       "      <td>...</td>\n",
       "      <td>...</td>\n",
       "      <td>...</td>\n",
       "      <td>...</td>\n",
       "      <td>...</td>\n",
       "      <td>...</td>\n",
       "      <td>...</td>\n",
       "      <td>...</td>\n",
       "      <td>...</td>\n",
       "      <td>...</td>\n",
       "      <td>...</td>\n",
       "      <td>...</td>\n",
       "      <td>...</td>\n",
       "      <td>...</td>\n",
       "      <td>...</td>\n",
       "      <td>...</td>\n",
       "      <td>...</td>\n",
       "      <td>...</td>\n",
       "    </tr>\n",
       "    <tr>\n",
       "      <th>56045_2022-08-01</th>\n",
       "      <td>122262.0</td>\n",
       "      <td>56045</td>\n",
       "      <td>50</td>\n",
       "      <td>1.785395</td>\n",
       "      <td>100.0</td>\n",
       "      <td>1</td>\n",
       "      <td>56.009999</td>\n",
       "      <td>8</td>\n",
       "      <td>3</td>\n",
       "      <td>0</td>\n",
       "      <td>...</td>\n",
       "      <td>0.000854</td>\n",
       "      <td>0.002457</td>\n",
       "      <td>-0.015198</td>\n",
       "      <td>-0.016807</td>\n",
       "      <td>-0.015198</td>\n",
       "      <td>-0.018405</td>\n",
       "      <td>0.000854</td>\n",
       "      <td>0.002457</td>\n",
       "      <td>-0.015198</td>\n",
       "      <td>-0.016807</td>\n",
       "    </tr>\n",
       "    <tr>\n",
       "      <th>56045_2022-09-01</th>\n",
       "      <td>122263.0</td>\n",
       "      <td>56045</td>\n",
       "      <td>50</td>\n",
       "      <td>1.785395</td>\n",
       "      <td>100.0</td>\n",
       "      <td>1</td>\n",
       "      <td>56.009999</td>\n",
       "      <td>9</td>\n",
       "      <td>3</td>\n",
       "      <td>0</td>\n",
       "      <td>...</td>\n",
       "      <td>0.009342</td>\n",
       "      <td>0.008552</td>\n",
       "      <td>-0.006144</td>\n",
       "      <td>-0.008511</td>\n",
       "      <td>-0.006144</td>\n",
       "      <td>0.000000</td>\n",
       "      <td>0.009342</td>\n",
       "      <td>0.008552</td>\n",
       "      <td>-0.006144</td>\n",
       "      <td>-0.008511</td>\n",
       "    </tr>\n",
       "    <tr>\n",
       "      <th>56045_2022-10-01</th>\n",
       "      <td>122264.0</td>\n",
       "      <td>56045</td>\n",
       "      <td>50</td>\n",
       "      <td>1.785395</td>\n",
       "      <td>100.0</td>\n",
       "      <td>1</td>\n",
       "      <td>56.009999</td>\n",
       "      <td>10</td>\n",
       "      <td>3</td>\n",
       "      <td>0</td>\n",
       "      <td>...</td>\n",
       "      <td>0.010093</td>\n",
       "      <td>-0.011009</td>\n",
       "      <td>0.006144</td>\n",
       "      <td>-0.008584</td>\n",
       "      <td>0.006144</td>\n",
       "      <td>0.000000</td>\n",
       "      <td>0.010093</td>\n",
       "      <td>-0.011009</td>\n",
       "      <td>0.006144</td>\n",
       "      <td>-0.008584</td>\n",
       "    </tr>\n",
       "    <tr>\n",
       "      <th>56045_2022-11-01</th>\n",
       "      <td>6268.0</td>\n",
       "      <td>56045</td>\n",
       "      <td>50</td>\n",
       "      <td>1.785395</td>\n",
       "      <td>100.0</td>\n",
       "      <td>1</td>\n",
       "      <td>56.009999</td>\n",
       "      <td>11</td>\n",
       "      <td>3</td>\n",
       "      <td>0</td>\n",
       "      <td>...</td>\n",
       "      <td>-0.009248</td>\n",
       "      <td>0.002457</td>\n",
       "      <td>0.004584</td>\n",
       "      <td>0.008584</td>\n",
       "      <td>0.004584</td>\n",
       "      <td>-0.012461</td>\n",
       "      <td>-0.009248</td>\n",
       "      <td>0.002457</td>\n",
       "      <td>0.004584</td>\n",
       "      <td>0.008584</td>\n",
       "    </tr>\n",
       "    <tr>\n",
       "      <th>56045_2022-12-01</th>\n",
       "      <td>6269.0</td>\n",
       "      <td>56045</td>\n",
       "      <td>50</td>\n",
       "      <td>1.803249</td>\n",
       "      <td>101.0</td>\n",
       "      <td>1</td>\n",
       "      <td>56.009998</td>\n",
       "      <td>12</td>\n",
       "      <td>3</td>\n",
       "      <td>0</td>\n",
       "      <td>...</td>\n",
       "      <td>0.005055</td>\n",
       "      <td>0.008552</td>\n",
       "      <td>-0.003053</td>\n",
       "      <td>0.016950</td>\n",
       "      <td>-0.003053</td>\n",
       "      <td>-0.009449</td>\n",
       "      <td>0.005055</td>\n",
       "      <td>0.008552</td>\n",
       "      <td>-0.003053</td>\n",
       "      <td>0.016950</td>\n",
       "    </tr>\n",
       "  </tbody>\n",
       "</table>\n",
       "<p>75240 rows × 194 columns</p>\n",
       "</div>"
      ],
      "text/plain": [
       "                     index  cfips  state  microbusiness_density  active  \\\n",
       "row_id                                                                    \n",
       "1001_2021-01-01       17.0   1001      0               2.947244  1243.0   \n",
       "1001_2021-02-01       18.0   1001      0               3.106106  1310.0   \n",
       "1001_2021-03-01       19.0   1001      0               3.144043  1326.0   \n",
       "1001_2021-04-01       20.0   1001      0               3.224659  1360.0   \n",
       "1001_2021-05-01       21.0   1001      0               3.227030  1361.0   \n",
       "...                    ...    ...    ...                    ...     ...   \n",
       "56045_2022-08-01  122262.0  56045     50               1.785395   100.0   \n",
       "56045_2022-09-01  122263.0  56045     50               1.785395   100.0   \n",
       "56045_2022-10-01  122264.0  56045     50               1.785395   100.0   \n",
       "56045_2022-11-01    6268.0  56045     50               1.785395   100.0   \n",
       "56045_2022-12-01    6269.0  56045     50               1.803249   101.0   \n",
       "\n",
       "                  is_train       ratio  month  year  is_new_year  ...  \\\n",
       "row_id                                                            ...   \n",
       "1001_2021-01-01          1  421.749990      1     2            1  ...   \n",
       "1001_2021-02-01          1  421.749988      2     2            0  ...   \n",
       "1001_2021-03-01          1  421.749997      3     2            0  ...   \n",
       "1001_2021-04-01          1  421.749995      4     2            0  ...   \n",
       "1001_2021-05-01          1  421.749991      5     2            0  ...   \n",
       "...                    ...         ...    ...   ...          ...  ...   \n",
       "56045_2022-08-01         1   56.009999      8     3            0  ...   \n",
       "56045_2022-09-01         1   56.009999      9     3            0  ...   \n",
       "56045_2022-10-01         1   56.009999     10     3            0  ...   \n",
       "56045_2022-11-01         1   56.009999     11     3            0  ...   \n",
       "56045_2022-12-01         1   56.009998     12     3            0  ...   \n",
       "\n",
       "                  md_log_diff_4_1_NN_2  md_log_diff_4_2_NN_0  \\\n",
       "row_id                                                         \n",
       "1001_2021-01-01               0.014377              0.005454   \n",
       "1001_2021-02-01               0.004673              0.017133   \n",
       "1001_2021-03-01               0.013889              0.014644   \n",
       "1001_2021-04-01              -0.002302              0.004396   \n",
       "1001_2021-05-01              -0.006936              0.000000   \n",
       "...                                ...                   ...   \n",
       "56045_2022-08-01              0.000854              0.002457   \n",
       "56045_2022-09-01              0.009342              0.008552   \n",
       "56045_2022-10-01              0.010093             -0.011009   \n",
       "56045_2022-11-01             -0.009248              0.002457   \n",
       "56045_2022-12-01              0.005055              0.008552   \n",
       "\n",
       "                  md_log_diff_4_2_NN_1  md_log_diff_4_2_NN_2  \\\n",
       "row_id                                                         \n",
       "1001_2021-01-01               0.006040             -0.012909   \n",
       "1001_2021-02-01               0.053859             -0.022776   \n",
       "1001_2021-03-01               0.007463              0.005158   \n",
       "1001_2021-04-01               0.000000              0.010237   \n",
       "1001_2021-05-01               0.014760             -0.003711   \n",
       "...                                ...                   ...   \n",
       "56045_2022-08-01             -0.015198             -0.016807   \n",
       "56045_2022-09-01             -0.006144             -0.008511   \n",
       "56045_2022-10-01              0.006144             -0.008584   \n",
       "56045_2022-11-01              0.004584              0.008584   \n",
       "56045_2022-12-01             -0.003053              0.016950   \n",
       "\n",
       "                  md_log_diff_5_1_NN_0  md_log_diff_5_1_NN_1  \\\n",
       "row_id                                                         \n",
       "1001_2021-01-01               0.003468              0.005454   \n",
       "1001_2021-02-01              -0.012601              0.017133   \n",
       "1001_2021-03-01               0.010811              0.014644   \n",
       "1001_2021-04-01               0.000000              0.004396   \n",
       "1001_2021-05-01              -0.001794              0.000000   \n",
       "...                                ...                   ...   \n",
       "56045_2022-08-01             -0.015198             -0.018405   \n",
       "56045_2022-09-01             -0.006144              0.000000   \n",
       "56045_2022-10-01              0.006144              0.000000   \n",
       "56045_2022-11-01              0.004584             -0.012461   \n",
       "56045_2022-12-01             -0.003053             -0.009449   \n",
       "\n",
       "                  md_log_diff_5_1_NN_2  md_log_diff_5_2_NN_0  \\\n",
       "row_id                                                         \n",
       "1001_2021-01-01               0.014377              0.005454   \n",
       "1001_2021-02-01               0.004673              0.017133   \n",
       "1001_2021-03-01               0.013889              0.014644   \n",
       "1001_2021-04-01              -0.002302              0.004396   \n",
       "1001_2021-05-01              -0.006936              0.000000   \n",
       "...                                ...                   ...   \n",
       "56045_2022-08-01              0.000854              0.002457   \n",
       "56045_2022-09-01              0.009342              0.008552   \n",
       "56045_2022-10-01              0.010093             -0.011009   \n",
       "56045_2022-11-01             -0.009248              0.002457   \n",
       "56045_2022-12-01              0.005055              0.008552   \n",
       "\n",
       "                  md_log_diff_5_2_NN_1  md_log_diff_5_2_NN_2  \n",
       "row_id                                                        \n",
       "1001_2021-01-01               0.006040             -0.012909  \n",
       "1001_2021-02-01               0.053859             -0.022776  \n",
       "1001_2021-03-01               0.007463              0.005158  \n",
       "1001_2021-04-01               0.000000              0.010237  \n",
       "1001_2021-05-01               0.014760             -0.003711  \n",
       "...                                ...                   ...  \n",
       "56045_2022-08-01             -0.015198             -0.016807  \n",
       "56045_2022-09-01             -0.006144             -0.008511  \n",
       "56045_2022-10-01              0.006144             -0.008584  \n",
       "56045_2022-11-01              0.004584              0.008584  \n",
       "56045_2022-12-01             -0.003053              0.016950  \n",
       "\n",
       "[75240 rows x 194 columns]"
      ]
     },
     "execution_count": 549,
     "metadata": {},
     "output_type": "execute_result"
    }
   ],
   "source": [
    "df_train"
   ]
  },
  {
   "cell_type": "code",
   "execution_count": 550,
   "metadata": {},
   "outputs": [],
   "source": [
    "# df_test = df_test.drop(columns='first_day_of_month')\n",
    "# df = pd.concat([df_train, df_test], axis=0)"
   ]
  },
  {
   "cell_type": "code",
   "execution_count": 551,
   "metadata": {},
   "outputs": [],
   "source": [
    "from sklearn.metrics import make_scorer\n",
    "from sklearn.model_selection import TimeSeriesSplit\n",
    "\n",
    "def smape_loss(y_true, y_pred):\n",
    "    \"\"\"\n",
    "    Custom SMAPE loss function for LightGBM\n",
    "    \"\"\"\n",
    "    return np.mean(2 * np.abs(y_pred - y_true) / (np.abs(y_true) + np.abs(y_pred))) * 100\n",
    "\n",
    "def smape_cv(model, df_train, target_train):\n",
    "    tscv = TimeSeriesSplit(n_splits=5)\n",
    "    smape_list = []\n",
    "    for _, (train_index, test_index) in enumerate(tscv.split(df_train), start=1):\n",
    "        # Create training and validation datasets\n",
    "        X_train = df_train.iloc[train_index]\n",
    "        y_train = target_train.iloc[train_index]\n",
    "        X_valid = df_train.iloc[test_index]\n",
    "        y_valid = target_train.iloc[test_index]\n",
    "\n",
    "        # Train the model\n",
    "        model.fit(X_train, y_train)\n",
    "\n",
    "        # Make predictions\n",
    "        y_pred = np.exp(model.predict(X_valid)) * X_valid['microbusiness_density']\n",
    "        y_valid = np.exp(y_valid) * X_valid['microbusiness_density']\n",
    "\n",
    "        # Calculate SMAPE score\n",
    "        smape = smape_loss(y_valid, y_pred)\n",
    "        smape_list.append(smape)\n",
    "    \n",
    "    print(f'Mean SMAPE: {np.mean(smape_list):.4f}')\n",
    "    return np.mean(smape_list)\n",
    "\n",
    "def lgbm_objective(trial, df_train, target_train):\n",
    "    \"\"\"\n",
    "    Objective function for LightGBM optimization without rolling window cross-validation.\n",
    "    \"\"\"\n",
    "    params = {\n",
    "        'n_iter'           : 200,\n",
    "        'verbosity'        : -1,\n",
    "        'objective'        : 'l1',\n",
    "        'random_state'     : 42,\n",
    "        'extra_trees'      : True,\n",
    "        'colsample_bytree' : trial.suggest_float('colsample_bytree', 0.1, 1.0),\n",
    "        'colsample_bynode' : trial.suggest_float('colsample_bynode', 0.1, 1.0),\n",
    "        'max_depth'        : trial.suggest_int('max_depth', 3, 10),\n",
    "        'learning_rate'    : trial.suggest_float('learning_rate', 0.01, 0.1, log=True),\n",
    "        'lambda_l1'        : trial.suggest_float('lambda_l1', 1e-2, 10.0),\n",
    "        'lambda_l2'        : trial.suggest_float('lambda_l2', 1e-2, 10.0),\n",
    "        'num_leaves'       : trial.suggest_int('num_leaves', 8, 1024),\n",
    "        'min_data_in_leaf' : trial.suggest_int('min_data_in_leaf', 5, 250),}\n",
    "\n",
    "    model = lgb.LGBMRegressor(**params)\n",
    "    score = smape_cv(model, df_train, target_train)\n",
    "    return score\n"
   ]
  },
  {
   "cell_type": "code",
   "execution_count": 553,
   "metadata": {},
   "outputs": [
    {
     "name": "stderr",
     "output_type": "stream",
     "text": [
      "\u001b[32m[I 2023-03-14 19:31:00,525]\u001b[0m A new study created in memory with name: no-name-94532758-556b-4cdb-b52a-ca376201e263\u001b[0m\n",
      "/opt/homebrew/Caskroom/miniforge/base/lib/python3.9/site-packages/lightgbm/engine.py:177: UserWarning: Found `n_iter` in params. Will use it instead of argument\n",
      "  _log_warning(f\"Found `{alias}` in params. Will use it instead of argument\")\n",
      "/opt/homebrew/Caskroom/miniforge/base/lib/python3.9/site-packages/lightgbm/engine.py:177: UserWarning: Found `n_iter` in params. Will use it instead of argument\n",
      "  _log_warning(f\"Found `{alias}` in params. Will use it instead of argument\")\n"
     ]
    },
    {
     "name": "stdout",
     "output_type": "stream",
     "text": [
      "[LightGBM] [Warning] num_iterations is set=200, n_iter=200 will be ignored. Current value: num_iterations=200\n",
      "[LightGBM] [Warning] min_data_in_leaf is set=228, min_child_samples=20 will be ignored. Current value: min_data_in_leaf=228\n",
      "[LightGBM] [Warning] lambda_l2 is set=9.663972207751238, reg_lambda=0.0 will be ignored. Current value: lambda_l2=9.663972207751238\n",
      "[LightGBM] [Warning] lambda_l1 is set=8.798090798420677, reg_alpha=0.0 will be ignored. Current value: lambda_l1=8.798090798420677\n"
     ]
    },
    {
     "name": "stderr",
     "output_type": "stream",
     "text": [
      "/opt/homebrew/Caskroom/miniforge/base/lib/python3.9/site-packages/lightgbm/engine.py:177: UserWarning: Found `n_iter` in params. Will use it instead of argument\n",
      "  _log_warning(f\"Found `{alias}` in params. Will use it instead of argument\")\n"
     ]
    },
    {
     "name": "stdout",
     "output_type": "stream",
     "text": [
      "[LightGBM] [Warning] num_iterations is set=200, n_iter=200 will be ignored. Current value: num_iterations=200\n",
      "[LightGBM] [Warning] min_data_in_leaf is set=228, min_child_samples=20 will be ignored. Current value: min_data_in_leaf=228\n",
      "[LightGBM] [Warning] lambda_l2 is set=9.663972207751238, reg_lambda=0.0 will be ignored. Current value: lambda_l2=9.663972207751238\n",
      "[LightGBM] [Warning] lambda_l1 is set=8.798090798420677, reg_alpha=0.0 will be ignored. Current value: lambda_l1=8.798090798420677\n"
     ]
    },
    {
     "name": "stderr",
     "output_type": "stream",
     "text": [
      "/opt/homebrew/Caskroom/miniforge/base/lib/python3.9/site-packages/lightgbm/engine.py:177: UserWarning: Found `n_iter` in params. Will use it instead of argument\n",
      "  _log_warning(f\"Found `{alias}` in params. Will use it instead of argument\")\n"
     ]
    },
    {
     "name": "stdout",
     "output_type": "stream",
     "text": [
      "[LightGBM] [Warning] num_iterations is set=200, n_iter=200 will be ignored. Current value: num_iterations=200\n",
      "[LightGBM] [Warning] min_data_in_leaf is set=228, min_child_samples=20 will be ignored. Current value: min_data_in_leaf=228\n",
      "[LightGBM] [Warning] lambda_l2 is set=9.663972207751238, reg_lambda=0.0 will be ignored. Current value: lambda_l2=9.663972207751238\n",
      "[LightGBM] [Warning] lambda_l1 is set=8.798090798420677, reg_alpha=0.0 will be ignored. Current value: lambda_l1=8.798090798420677\n"
     ]
    },
    {
     "name": "stderr",
     "output_type": "stream",
     "text": [
      "/opt/homebrew/Caskroom/miniforge/base/lib/python3.9/site-packages/lightgbm/engine.py:177: UserWarning: Found `n_iter` in params. Will use it instead of argument\n",
      "  _log_warning(f\"Found `{alias}` in params. Will use it instead of argument\")\n"
     ]
    },
    {
     "name": "stdout",
     "output_type": "stream",
     "text": [
      "[LightGBM] [Warning] num_iterations is set=200, n_iter=200 will be ignored. Current value: num_iterations=200\n",
      "[LightGBM] [Warning] min_data_in_leaf is set=228, min_child_samples=20 will be ignored. Current value: min_data_in_leaf=228\n",
      "[LightGBM] [Warning] lambda_l2 is set=9.663972207751238, reg_lambda=0.0 will be ignored. Current value: lambda_l2=9.663972207751238\n",
      "[LightGBM] [Warning] lambda_l1 is set=8.798090798420677, reg_alpha=0.0 will be ignored. Current value: lambda_l1=8.798090798420677\n"
     ]
    },
    {
     "name": "stderr",
     "output_type": "stream",
     "text": [
      "\u001b[32m[I 2023-03-14 19:31:09,836]\u001b[0m Trial 0 finished with value: 1.5173975379537745 and parameters: {'colsample_bytree': 0.49154151260249135, 'colsample_bynode': 0.11142946725011174, 'max_depth': 5, 'learning_rate': 0.07354210694050282, 'lambda_l1': 8.798090798420677, 'lambda_l2': 9.663972207751238, 'num_leaves': 344, 'min_data_in_leaf': 228}. Best is trial 0 with value: 1.5173975379537745.\u001b[0m\n"
     ]
    },
    {
     "name": "stdout",
     "output_type": "stream",
     "text": [
      "Mean SMAPE: 1.5174\n",
      "[LightGBM] [Warning] num_iterations is set=200, n_iter=200 will be ignored. Current value: num_iterations=200\n",
      "[LightGBM] [Warning] min_data_in_leaf is set=141, min_child_samples=20 will be ignored. Current value: min_data_in_leaf=141\n",
      "[LightGBM] [Warning] lambda_l2 is set=4.68013846881712, reg_lambda=0.0 will be ignored. Current value: lambda_l2=4.68013846881712\n",
      "[LightGBM] [Warning] lambda_l1 is set=6.956412581820987, reg_alpha=0.0 will be ignored. Current value: lambda_l1=6.956412581820987\n"
     ]
    },
    {
     "name": "stderr",
     "output_type": "stream",
     "text": [
      "/opt/homebrew/Caskroom/miniforge/base/lib/python3.9/site-packages/lightgbm/engine.py:177: UserWarning: Found `n_iter` in params. Will use it instead of argument\n",
      "  _log_warning(f\"Found `{alias}` in params. Will use it instead of argument\")\n",
      "/opt/homebrew/Caskroom/miniforge/base/lib/python3.9/site-packages/lightgbm/engine.py:177: UserWarning: Found `n_iter` in params. Will use it instead of argument\n",
      "  _log_warning(f\"Found `{alias}` in params. Will use it instead of argument\")\n"
     ]
    },
    {
     "name": "stdout",
     "output_type": "stream",
     "text": [
      "[LightGBM] [Warning] num_iterations is set=200, n_iter=200 will be ignored. Current value: num_iterations=200\n",
      "[LightGBM] [Warning] min_data_in_leaf is set=141, min_child_samples=20 will be ignored. Current value: min_data_in_leaf=141\n",
      "[LightGBM] [Warning] lambda_l2 is set=4.68013846881712, reg_lambda=0.0 will be ignored. Current value: lambda_l2=4.68013846881712\n",
      "[LightGBM] [Warning] lambda_l1 is set=6.956412581820987, reg_alpha=0.0 will be ignored. Current value: lambda_l1=6.956412581820987\n"
     ]
    },
    {
     "name": "stderr",
     "output_type": "stream",
     "text": [
      "/opt/homebrew/Caskroom/miniforge/base/lib/python3.9/site-packages/lightgbm/engine.py:177: UserWarning: Found `n_iter` in params. Will use it instead of argument\n",
      "  _log_warning(f\"Found `{alias}` in params. Will use it instead of argument\")\n"
     ]
    },
    {
     "name": "stdout",
     "output_type": "stream",
     "text": [
      "[LightGBM] [Warning] num_iterations is set=200, n_iter=200 will be ignored. Current value: num_iterations=200\n",
      "[LightGBM] [Warning] min_data_in_leaf is set=141, min_child_samples=20 will be ignored. Current value: min_data_in_leaf=141\n",
      "[LightGBM] [Warning] lambda_l2 is set=4.68013846881712, reg_lambda=0.0 will be ignored. Current value: lambda_l2=4.68013846881712\n",
      "[LightGBM] [Warning] lambda_l1 is set=6.956412581820987, reg_alpha=0.0 will be ignored. Current value: lambda_l1=6.956412581820987\n"
     ]
    },
    {
     "name": "stderr",
     "output_type": "stream",
     "text": [
      "/opt/homebrew/Caskroom/miniforge/base/lib/python3.9/site-packages/lightgbm/engine.py:177: UserWarning: Found `n_iter` in params. Will use it instead of argument\n",
      "  _log_warning(f\"Found `{alias}` in params. Will use it instead of argument\")\n"
     ]
    },
    {
     "name": "stdout",
     "output_type": "stream",
     "text": [
      "[LightGBM] [Warning] num_iterations is set=200, n_iter=200 will be ignored. Current value: num_iterations=200\n",
      "[LightGBM] [Warning] min_data_in_leaf is set=141, min_child_samples=20 will be ignored. Current value: min_data_in_leaf=141\n",
      "[LightGBM] [Warning] lambda_l2 is set=4.68013846881712, reg_lambda=0.0 will be ignored. Current value: lambda_l2=4.68013846881712\n",
      "[LightGBM] [Warning] lambda_l1 is set=6.956412581820987, reg_alpha=0.0 will be ignored. Current value: lambda_l1=6.956412581820987\n"
     ]
    },
    {
     "name": "stderr",
     "output_type": "stream",
     "text": [
      "/opt/homebrew/Caskroom/miniforge/base/lib/python3.9/site-packages/lightgbm/engine.py:177: UserWarning: Found `n_iter` in params. Will use it instead of argument\n",
      "  _log_warning(f\"Found `{alias}` in params. Will use it instead of argument\")\n"
     ]
    },
    {
     "name": "stdout",
     "output_type": "stream",
     "text": [
      "[LightGBM] [Warning] num_iterations is set=200, n_iter=200 will be ignored. Current value: num_iterations=200\n",
      "[LightGBM] [Warning] min_data_in_leaf is set=141, min_child_samples=20 will be ignored. Current value: min_data_in_leaf=141\n",
      "[LightGBM] [Warning] lambda_l2 is set=4.68013846881712, reg_lambda=0.0 will be ignored. Current value: lambda_l2=4.68013846881712\n",
      "[LightGBM] [Warning] lambda_l1 is set=6.956412581820987, reg_alpha=0.0 will be ignored. Current value: lambda_l1=6.956412581820987\n"
     ]
    },
    {
     "name": "stderr",
     "output_type": "stream",
     "text": [
      "\u001b[32m[I 2023-03-14 19:31:25,162]\u001b[0m Trial 1 finished with value: 2.1222443958002506 and parameters: {'colsample_bytree': 0.4144823683016665, 'colsample_bynode': 0.3998192032311526, 'max_depth': 8, 'learning_rate': 0.012383608038792614, 'lambda_l1': 6.956412581820987, 'lambda_l2': 4.68013846881712, 'num_leaves': 157, 'min_data_in_leaf': 141}. Best is trial 0 with value: 1.5173975379537745.\u001b[0m\n"
     ]
    },
    {
     "name": "stdout",
     "output_type": "stream",
     "text": [
      "Mean SMAPE: 2.1222\n",
      "[LightGBM] [Warning] num_iterations is set=200, n_iter=200 will be ignored. Current value: num_iterations=200\n",
      "[LightGBM] [Warning] min_data_in_leaf is set=17, min_child_samples=20 will be ignored. Current value: min_data_in_leaf=17\n",
      "[LightGBM] [Warning] lambda_l2 is set=7.776303590311883, reg_lambda=0.0 will be ignored. Current value: lambda_l2=7.776303590311883\n",
      "[LightGBM] [Warning] lambda_l1 is set=2.7602839764331377, reg_alpha=0.0 will be ignored. Current value: lambda_l1=2.7602839764331377\n"
     ]
    },
    {
     "name": "stderr",
     "output_type": "stream",
     "text": [
      "/opt/homebrew/Caskroom/miniforge/base/lib/python3.9/site-packages/lightgbm/engine.py:177: UserWarning: Found `n_iter` in params. Will use it instead of argument\n",
      "  _log_warning(f\"Found `{alias}` in params. Will use it instead of argument\")\n",
      "/opt/homebrew/Caskroom/miniforge/base/lib/python3.9/site-packages/lightgbm/engine.py:177: UserWarning: Found `n_iter` in params. Will use it instead of argument\n",
      "  _log_warning(f\"Found `{alias}` in params. Will use it instead of argument\")\n"
     ]
    },
    {
     "name": "stdout",
     "output_type": "stream",
     "text": [
      "[LightGBM] [Warning] num_iterations is set=200, n_iter=200 will be ignored. Current value: num_iterations=200\n",
      "[LightGBM] [Warning] min_data_in_leaf is set=17, min_child_samples=20 will be ignored. Current value: min_data_in_leaf=17\n",
      "[LightGBM] [Warning] lambda_l2 is set=7.776303590311883, reg_lambda=0.0 will be ignored. Current value: lambda_l2=7.776303590311883\n",
      "[LightGBM] [Warning] lambda_l1 is set=2.7602839764331377, reg_alpha=0.0 will be ignored. Current value: lambda_l1=2.7602839764331377\n"
     ]
    },
    {
     "name": "stderr",
     "output_type": "stream",
     "text": [
      "/opt/homebrew/Caskroom/miniforge/base/lib/python3.9/site-packages/lightgbm/engine.py:177: UserWarning: Found `n_iter` in params. Will use it instead of argument\n",
      "  _log_warning(f\"Found `{alias}` in params. Will use it instead of argument\")\n"
     ]
    },
    {
     "name": "stdout",
     "output_type": "stream",
     "text": [
      "[LightGBM] [Warning] num_iterations is set=200, n_iter=200 will be ignored. Current value: num_iterations=200\n",
      "[LightGBM] [Warning] min_data_in_leaf is set=17, min_child_samples=20 will be ignored. Current value: min_data_in_leaf=17\n",
      "[LightGBM] [Warning] lambda_l2 is set=7.776303590311883, reg_lambda=0.0 will be ignored. Current value: lambda_l2=7.776303590311883\n",
      "[LightGBM] [Warning] lambda_l1 is set=2.7602839764331377, reg_alpha=0.0 will be ignored. Current value: lambda_l1=2.7602839764331377\n"
     ]
    },
    {
     "name": "stderr",
     "output_type": "stream",
     "text": [
      "/opt/homebrew/Caskroom/miniforge/base/lib/python3.9/site-packages/lightgbm/engine.py:177: UserWarning: Found `n_iter` in params. Will use it instead of argument\n",
      "  _log_warning(f\"Found `{alias}` in params. Will use it instead of argument\")\n"
     ]
    },
    {
     "name": "stdout",
     "output_type": "stream",
     "text": [
      "[LightGBM] [Warning] num_iterations is set=200, n_iter=200 will be ignored. Current value: num_iterations=200\n",
      "[LightGBM] [Warning] min_data_in_leaf is set=17, min_child_samples=20 will be ignored. Current value: min_data_in_leaf=17\n",
      "[LightGBM] [Warning] lambda_l2 is set=7.776303590311883, reg_lambda=0.0 will be ignored. Current value: lambda_l2=7.776303590311883\n",
      "[LightGBM] [Warning] lambda_l1 is set=2.7602839764331377, reg_alpha=0.0 will be ignored. Current value: lambda_l1=2.7602839764331377\n"
     ]
    },
    {
     "name": "stderr",
     "output_type": "stream",
     "text": [
      "/opt/homebrew/Caskroom/miniforge/base/lib/python3.9/site-packages/lightgbm/engine.py:177: UserWarning: Found `n_iter` in params. Will use it instead of argument\n",
      "  _log_warning(f\"Found `{alias}` in params. Will use it instead of argument\")\n"
     ]
    },
    {
     "name": "stdout",
     "output_type": "stream",
     "text": [
      "[LightGBM] [Warning] num_iterations is set=200, n_iter=200 will be ignored. Current value: num_iterations=200\n",
      "[LightGBM] [Warning] min_data_in_leaf is set=17, min_child_samples=20 will be ignored. Current value: min_data_in_leaf=17\n",
      "[LightGBM] [Warning] lambda_l2 is set=7.776303590311883, reg_lambda=0.0 will be ignored. Current value: lambda_l2=7.776303590311883\n",
      "[LightGBM] [Warning] lambda_l1 is set=2.7602839764331377, reg_alpha=0.0 will be ignored. Current value: lambda_l1=2.7602839764331377\n"
     ]
    },
    {
     "name": "stderr",
     "output_type": "stream",
     "text": [
      "\u001b[32m[I 2023-03-14 19:31:33,092]\u001b[0m Trial 2 finished with value: 1.0254241274843972 and parameters: {'colsample_bytree': 0.9977205230313255, 'colsample_bynode': 0.7080360647784012, 'max_depth': 4, 'learning_rate': 0.018978445945649083, 'lambda_l1': 2.7602839764331377, 'lambda_l2': 7.776303590311883, 'num_leaves': 687, 'min_data_in_leaf': 17}. Best is trial 2 with value: 1.0254241274843972.\u001b[0m\n"
     ]
    },
    {
     "name": "stdout",
     "output_type": "stream",
     "text": [
      "Mean SMAPE: 1.0254\n",
      "[LightGBM] [Warning] num_iterations is set=200, n_iter=200 will be ignored. Current value: num_iterations=200\n",
      "[LightGBM] [Warning] min_data_in_leaf is set=37, min_child_samples=20 will be ignored. Current value: min_data_in_leaf=37\n",
      "[LightGBM] [Warning] lambda_l2 is set=2.366492814227422, reg_lambda=0.0 will be ignored. Current value: lambda_l2=2.366492814227422\n",
      "[LightGBM] [Warning] lambda_l1 is set=2.4135939101094235, reg_alpha=0.0 will be ignored. Current value: lambda_l1=2.4135939101094235\n"
     ]
    },
    {
     "name": "stderr",
     "output_type": "stream",
     "text": [
      "/opt/homebrew/Caskroom/miniforge/base/lib/python3.9/site-packages/lightgbm/engine.py:177: UserWarning: Found `n_iter` in params. Will use it instead of argument\n",
      "  _log_warning(f\"Found `{alias}` in params. Will use it instead of argument\")\n",
      "/opt/homebrew/Caskroom/miniforge/base/lib/python3.9/site-packages/lightgbm/engine.py:177: UserWarning: Found `n_iter` in params. Will use it instead of argument\n",
      "  _log_warning(f\"Found `{alias}` in params. Will use it instead of argument\")\n"
     ]
    },
    {
     "name": "stdout",
     "output_type": "stream",
     "text": [
      "[LightGBM] [Warning] num_iterations is set=200, n_iter=200 will be ignored. Current value: num_iterations=200\n",
      "[LightGBM] [Warning] min_data_in_leaf is set=37, min_child_samples=20 will be ignored. Current value: min_data_in_leaf=37\n",
      "[LightGBM] [Warning] lambda_l2 is set=2.366492814227422, reg_lambda=0.0 will be ignored. Current value: lambda_l2=2.366492814227422\n",
      "[LightGBM] [Warning] lambda_l1 is set=2.4135939101094235, reg_alpha=0.0 will be ignored. Current value: lambda_l1=2.4135939101094235\n"
     ]
    },
    {
     "name": "stderr",
     "output_type": "stream",
     "text": [
      "/opt/homebrew/Caskroom/miniforge/base/lib/python3.9/site-packages/lightgbm/engine.py:177: UserWarning: Found `n_iter` in params. Will use it instead of argument\n",
      "  _log_warning(f\"Found `{alias}` in params. Will use it instead of argument\")\n"
     ]
    },
    {
     "name": "stdout",
     "output_type": "stream",
     "text": [
      "[LightGBM] [Warning] num_iterations is set=200, n_iter=200 will be ignored. Current value: num_iterations=200\n",
      "[LightGBM] [Warning] min_data_in_leaf is set=37, min_child_samples=20 will be ignored. Current value: min_data_in_leaf=37\n",
      "[LightGBM] [Warning] lambda_l2 is set=2.366492814227422, reg_lambda=0.0 will be ignored. Current value: lambda_l2=2.366492814227422\n",
      "[LightGBM] [Warning] lambda_l1 is set=2.4135939101094235, reg_alpha=0.0 will be ignored. Current value: lambda_l1=2.4135939101094235\n"
     ]
    },
    {
     "name": "stderr",
     "output_type": "stream",
     "text": [
      "/opt/homebrew/Caskroom/miniforge/base/lib/python3.9/site-packages/lightgbm/engine.py:177: UserWarning: Found `n_iter` in params. Will use it instead of argument\n",
      "  _log_warning(f\"Found `{alias}` in params. Will use it instead of argument\")\n"
     ]
    },
    {
     "name": "stdout",
     "output_type": "stream",
     "text": [
      "[LightGBM] [Warning] num_iterations is set=200, n_iter=200 will be ignored. Current value: num_iterations=200\n",
      "[LightGBM] [Warning] min_data_in_leaf is set=37, min_child_samples=20 will be ignored. Current value: min_data_in_leaf=37\n",
      "[LightGBM] [Warning] lambda_l2 is set=2.366492814227422, reg_lambda=0.0 will be ignored. Current value: lambda_l2=2.366492814227422\n",
      "[LightGBM] [Warning] lambda_l1 is set=2.4135939101094235, reg_alpha=0.0 will be ignored. Current value: lambda_l1=2.4135939101094235\n"
     ]
    },
    {
     "name": "stderr",
     "output_type": "stream",
     "text": [
      "/opt/homebrew/Caskroom/miniforge/base/lib/python3.9/site-packages/lightgbm/engine.py:177: UserWarning: Found `n_iter` in params. Will use it instead of argument\n",
      "  _log_warning(f\"Found `{alias}` in params. Will use it instead of argument\")\n"
     ]
    },
    {
     "name": "stdout",
     "output_type": "stream",
     "text": [
      "[LightGBM] [Warning] num_iterations is set=200, n_iter=200 will be ignored. Current value: num_iterations=200\n",
      "[LightGBM] [Warning] min_data_in_leaf is set=37, min_child_samples=20 will be ignored. Current value: min_data_in_leaf=37\n",
      "[LightGBM] [Warning] lambda_l2 is set=2.366492814227422, reg_lambda=0.0 will be ignored. Current value: lambda_l2=2.366492814227422\n",
      "[LightGBM] [Warning] lambda_l1 is set=2.4135939101094235, reg_alpha=0.0 will be ignored. Current value: lambda_l1=2.4135939101094235\n"
     ]
    },
    {
     "name": "stderr",
     "output_type": "stream",
     "text": [
      "\u001b[32m[I 2023-03-14 19:31:39,260]\u001b[0m Trial 3 finished with value: 1.658345108796468 and parameters: {'colsample_bytree': 0.2245332218709437, 'colsample_bynode': 0.7863241004983526, 'max_depth': 4, 'learning_rate': 0.03203098904076456, 'lambda_l1': 2.4135939101094235, 'lambda_l2': 2.366492814227422, 'num_leaves': 407, 'min_data_in_leaf': 37}. Best is trial 2 with value: 1.0254241274843972.\u001b[0m\n"
     ]
    },
    {
     "name": "stdout",
     "output_type": "stream",
     "text": [
      "Mean SMAPE: 1.6583\n",
      "[LightGBM] [Warning] num_iterations is set=200, n_iter=200 will be ignored. Current value: num_iterations=200\n",
      "[LightGBM] [Warning] min_data_in_leaf is set=238, min_child_samples=20 will be ignored. Current value: min_data_in_leaf=238\n",
      "[LightGBM] [Warning] lambda_l2 is set=2.414955103177976, reg_lambda=0.0 will be ignored. Current value: lambda_l2=2.414955103177976\n",
      "[LightGBM] [Warning] lambda_l1 is set=6.708374329205309, reg_alpha=0.0 will be ignored. Current value: lambda_l1=6.708374329205309\n"
     ]
    },
    {
     "name": "stderr",
     "output_type": "stream",
     "text": [
      "/opt/homebrew/Caskroom/miniforge/base/lib/python3.9/site-packages/lightgbm/engine.py:177: UserWarning: Found `n_iter` in params. Will use it instead of argument\n",
      "  _log_warning(f\"Found `{alias}` in params. Will use it instead of argument\")\n",
      "/opt/homebrew/Caskroom/miniforge/base/lib/python3.9/site-packages/lightgbm/engine.py:177: UserWarning: Found `n_iter` in params. Will use it instead of argument\n",
      "  _log_warning(f\"Found `{alias}` in params. Will use it instead of argument\")\n"
     ]
    },
    {
     "name": "stdout",
     "output_type": "stream",
     "text": [
      "[LightGBM] [Warning] num_iterations is set=200, n_iter=200 will be ignored. Current value: num_iterations=200\n",
      "[LightGBM] [Warning] min_data_in_leaf is set=238, min_child_samples=20 will be ignored. Current value: min_data_in_leaf=238\n",
      "[LightGBM] [Warning] lambda_l2 is set=2.414955103177976, reg_lambda=0.0 will be ignored. Current value: lambda_l2=2.414955103177976\n",
      "[LightGBM] [Warning] lambda_l1 is set=6.708374329205309, reg_alpha=0.0 will be ignored. Current value: lambda_l1=6.708374329205309\n"
     ]
    },
    {
     "name": "stderr",
     "output_type": "stream",
     "text": [
      "/opt/homebrew/Caskroom/miniforge/base/lib/python3.9/site-packages/lightgbm/engine.py:177: UserWarning: Found `n_iter` in params. Will use it instead of argument\n",
      "  _log_warning(f\"Found `{alias}` in params. Will use it instead of argument\")\n"
     ]
    },
    {
     "name": "stdout",
     "output_type": "stream",
     "text": [
      "[LightGBM] [Warning] num_iterations is set=200, n_iter=200 will be ignored. Current value: num_iterations=200\n",
      "[LightGBM] [Warning] min_data_in_leaf is set=238, min_child_samples=20 will be ignored. Current value: min_data_in_leaf=238\n",
      "[LightGBM] [Warning] lambda_l2 is set=2.414955103177976, reg_lambda=0.0 will be ignored. Current value: lambda_l2=2.414955103177976\n",
      "[LightGBM] [Warning] lambda_l1 is set=6.708374329205309, reg_alpha=0.0 will be ignored. Current value: lambda_l1=6.708374329205309\n"
     ]
    },
    {
     "name": "stderr",
     "output_type": "stream",
     "text": [
      "/opt/homebrew/Caskroom/miniforge/base/lib/python3.9/site-packages/lightgbm/engine.py:177: UserWarning: Found `n_iter` in params. Will use it instead of argument\n",
      "  _log_warning(f\"Found `{alias}` in params. Will use it instead of argument\")\n"
     ]
    },
    {
     "name": "stdout",
     "output_type": "stream",
     "text": [
      "[LightGBM] [Warning] num_iterations is set=200, n_iter=200 will be ignored. Current value: num_iterations=200\n",
      "[LightGBM] [Warning] min_data_in_leaf is set=238, min_child_samples=20 will be ignored. Current value: min_data_in_leaf=238\n",
      "[LightGBM] [Warning] lambda_l2 is set=2.414955103177976, reg_lambda=0.0 will be ignored. Current value: lambda_l2=2.414955103177976\n",
      "[LightGBM] [Warning] lambda_l1 is set=6.708374329205309, reg_alpha=0.0 will be ignored. Current value: lambda_l1=6.708374329205309\n"
     ]
    },
    {
     "name": "stderr",
     "output_type": "stream",
     "text": [
      "/opt/homebrew/Caskroom/miniforge/base/lib/python3.9/site-packages/lightgbm/engine.py:177: UserWarning: Found `n_iter` in params. Will use it instead of argument\n",
      "  _log_warning(f\"Found `{alias}` in params. Will use it instead of argument\")\n"
     ]
    },
    {
     "name": "stdout",
     "output_type": "stream",
     "text": [
      "[LightGBM] [Warning] num_iterations is set=200, n_iter=200 will be ignored. Current value: num_iterations=200\n",
      "[LightGBM] [Warning] min_data_in_leaf is set=238, min_child_samples=20 will be ignored. Current value: min_data_in_leaf=238\n",
      "[LightGBM] [Warning] lambda_l2 is set=2.414955103177976, reg_lambda=0.0 will be ignored. Current value: lambda_l2=2.414955103177976\n",
      "[LightGBM] [Warning] lambda_l1 is set=6.708374329205309, reg_alpha=0.0 will be ignored. Current value: lambda_l1=6.708374329205309\n"
     ]
    },
    {
     "name": "stderr",
     "output_type": "stream",
     "text": [
      "\u001b[32m[I 2023-03-14 19:31:52,708]\u001b[0m Trial 4 finished with value: 0.6695384759267544 and parameters: {'colsample_bytree': 0.8034255449224383, 'colsample_bynode': 0.768360669652405, 'max_depth': 8, 'learning_rate': 0.05701226637350264, 'lambda_l1': 6.708374329205309, 'lambda_l2': 2.414955103177976, 'num_leaves': 22, 'min_data_in_leaf': 238}. Best is trial 4 with value: 0.6695384759267544.\u001b[0m\n"
     ]
    },
    {
     "name": "stdout",
     "output_type": "stream",
     "text": [
      "Mean SMAPE: 0.6695\n",
      "[LightGBM] [Warning] num_iterations is set=200, n_iter=200 will be ignored. Current value: num_iterations=200\n",
      "[LightGBM] [Warning] min_data_in_leaf is set=17, min_child_samples=20 will be ignored. Current value: min_data_in_leaf=17\n",
      "[LightGBM] [Warning] lambda_l2 is set=4.7615465632915335, reg_lambda=0.0 will be ignored. Current value: lambda_l2=4.7615465632915335\n",
      "[LightGBM] [Warning] lambda_l1 is set=6.436315127470481, reg_alpha=0.0 will be ignored. Current value: lambda_l1=6.436315127470481\n"
     ]
    },
    {
     "name": "stderr",
     "output_type": "stream",
     "text": [
      "/opt/homebrew/Caskroom/miniforge/base/lib/python3.9/site-packages/lightgbm/engine.py:177: UserWarning: Found `n_iter` in params. Will use it instead of argument\n",
      "  _log_warning(f\"Found `{alias}` in params. Will use it instead of argument\")\n",
      "/opt/homebrew/Caskroom/miniforge/base/lib/python3.9/site-packages/lightgbm/engine.py:177: UserWarning: Found `n_iter` in params. Will use it instead of argument\n",
      "  _log_warning(f\"Found `{alias}` in params. Will use it instead of argument\")\n"
     ]
    },
    {
     "name": "stdout",
     "output_type": "stream",
     "text": [
      "[LightGBM] [Warning] num_iterations is set=200, n_iter=200 will be ignored. Current value: num_iterations=200\n",
      "[LightGBM] [Warning] min_data_in_leaf is set=17, min_child_samples=20 will be ignored. Current value: min_data_in_leaf=17\n",
      "[LightGBM] [Warning] lambda_l2 is set=4.7615465632915335, reg_lambda=0.0 will be ignored. Current value: lambda_l2=4.7615465632915335\n",
      "[LightGBM] [Warning] lambda_l1 is set=6.436315127470481, reg_alpha=0.0 will be ignored. Current value: lambda_l1=6.436315127470481\n"
     ]
    },
    {
     "name": "stderr",
     "output_type": "stream",
     "text": [
      "/opt/homebrew/Caskroom/miniforge/base/lib/python3.9/site-packages/lightgbm/engine.py:177: UserWarning: Found `n_iter` in params. Will use it instead of argument\n",
      "  _log_warning(f\"Found `{alias}` in params. Will use it instead of argument\")\n"
     ]
    },
    {
     "name": "stdout",
     "output_type": "stream",
     "text": [
      "[LightGBM] [Warning] num_iterations is set=200, n_iter=200 will be ignored. Current value: num_iterations=200\n",
      "[LightGBM] [Warning] min_data_in_leaf is set=17, min_child_samples=20 will be ignored. Current value: min_data_in_leaf=17\n",
      "[LightGBM] [Warning] lambda_l2 is set=4.7615465632915335, reg_lambda=0.0 will be ignored. Current value: lambda_l2=4.7615465632915335\n",
      "[LightGBM] [Warning] lambda_l1 is set=6.436315127470481, reg_alpha=0.0 will be ignored. Current value: lambda_l1=6.436315127470481\n"
     ]
    },
    {
     "name": "stderr",
     "output_type": "stream",
     "text": [
      "/opt/homebrew/Caskroom/miniforge/base/lib/python3.9/site-packages/lightgbm/engine.py:177: UserWarning: Found `n_iter` in params. Will use it instead of argument\n",
      "  _log_warning(f\"Found `{alias}` in params. Will use it instead of argument\")\n"
     ]
    },
    {
     "name": "stdout",
     "output_type": "stream",
     "text": [
      "[LightGBM] [Warning] num_iterations is set=200, n_iter=200 will be ignored. Current value: num_iterations=200\n",
      "[LightGBM] [Warning] min_data_in_leaf is set=17, min_child_samples=20 will be ignored. Current value: min_data_in_leaf=17\n",
      "[LightGBM] [Warning] lambda_l2 is set=4.7615465632915335, reg_lambda=0.0 will be ignored. Current value: lambda_l2=4.7615465632915335\n",
      "[LightGBM] [Warning] lambda_l1 is set=6.436315127470481, reg_alpha=0.0 will be ignored. Current value: lambda_l1=6.436315127470481\n"
     ]
    },
    {
     "name": "stderr",
     "output_type": "stream",
     "text": [
      "/opt/homebrew/Caskroom/miniforge/base/lib/python3.9/site-packages/lightgbm/engine.py:177: UserWarning: Found `n_iter` in params. Will use it instead of argument\n",
      "  _log_warning(f\"Found `{alias}` in params. Will use it instead of argument\")\n"
     ]
    },
    {
     "name": "stdout",
     "output_type": "stream",
     "text": [
      "[LightGBM] [Warning] num_iterations is set=200, n_iter=200 will be ignored. Current value: num_iterations=200\n",
      "[LightGBM] [Warning] min_data_in_leaf is set=17, min_child_samples=20 will be ignored. Current value: min_data_in_leaf=17\n",
      "[LightGBM] [Warning] lambda_l2 is set=4.7615465632915335, reg_lambda=0.0 will be ignored. Current value: lambda_l2=4.7615465632915335\n",
      "[LightGBM] [Warning] lambda_l1 is set=6.436315127470481, reg_alpha=0.0 will be ignored. Current value: lambda_l1=6.436315127470481\n"
     ]
    },
    {
     "name": "stderr",
     "output_type": "stream",
     "text": [
      "\u001b[32m[I 2023-03-14 19:31:59,969]\u001b[0m Trial 5 finished with value: 2.7295873062391203 and parameters: {'colsample_bytree': 0.22067708705850753, 'colsample_bynode': 0.12741106929572957, 'max_depth': 5, 'learning_rate': 0.02108475511279568, 'lambda_l1': 6.436315127470481, 'lambda_l2': 4.7615465632915335, 'num_leaves': 14, 'min_data_in_leaf': 17}. Best is trial 4 with value: 0.6695384759267544.\u001b[0m\n"
     ]
    },
    {
     "name": "stdout",
     "output_type": "stream",
     "text": [
      "Mean SMAPE: 2.7296\n",
      "[LightGBM] [Warning] num_iterations is set=200, n_iter=200 will be ignored. Current value: num_iterations=200\n",
      "[LightGBM] [Warning] min_data_in_leaf is set=57, min_child_samples=20 will be ignored. Current value: min_data_in_leaf=57\n",
      "[LightGBM] [Warning] lambda_l2 is set=0.666895622047969, reg_lambda=0.0 will be ignored. Current value: lambda_l2=0.666895622047969\n",
      "[LightGBM] [Warning] lambda_l1 is set=0.26686774693203275, reg_alpha=0.0 will be ignored. Current value: lambda_l1=0.26686774693203275\n"
     ]
    },
    {
     "name": "stderr",
     "output_type": "stream",
     "text": [
      "/opt/homebrew/Caskroom/miniforge/base/lib/python3.9/site-packages/lightgbm/engine.py:177: UserWarning: Found `n_iter` in params. Will use it instead of argument\n",
      "  _log_warning(f\"Found `{alias}` in params. Will use it instead of argument\")\n",
      "/opt/homebrew/Caskroom/miniforge/base/lib/python3.9/site-packages/lightgbm/engine.py:177: UserWarning: Found `n_iter` in params. Will use it instead of argument\n",
      "  _log_warning(f\"Found `{alias}` in params. Will use it instead of argument\")\n"
     ]
    },
    {
     "name": "stdout",
     "output_type": "stream",
     "text": [
      "[LightGBM] [Warning] num_iterations is set=200, n_iter=200 will be ignored. Current value: num_iterations=200\n",
      "[LightGBM] [Warning] min_data_in_leaf is set=57, min_child_samples=20 will be ignored. Current value: min_data_in_leaf=57\n",
      "[LightGBM] [Warning] lambda_l2 is set=0.666895622047969, reg_lambda=0.0 will be ignored. Current value: lambda_l2=0.666895622047969\n",
      "[LightGBM] [Warning] lambda_l1 is set=0.26686774693203275, reg_alpha=0.0 will be ignored. Current value: lambda_l1=0.26686774693203275\n"
     ]
    },
    {
     "name": "stderr",
     "output_type": "stream",
     "text": [
      "/opt/homebrew/Caskroom/miniforge/base/lib/python3.9/site-packages/lightgbm/engine.py:177: UserWarning: Found `n_iter` in params. Will use it instead of argument\n",
      "  _log_warning(f\"Found `{alias}` in params. Will use it instead of argument\")\n"
     ]
    },
    {
     "name": "stdout",
     "output_type": "stream",
     "text": [
      "[LightGBM] [Warning] num_iterations is set=200, n_iter=200 will be ignored. Current value: num_iterations=200\n",
      "[LightGBM] [Warning] min_data_in_leaf is set=57, min_child_samples=20 will be ignored. Current value: min_data_in_leaf=57\n",
      "[LightGBM] [Warning] lambda_l2 is set=0.666895622047969, reg_lambda=0.0 will be ignored. Current value: lambda_l2=0.666895622047969\n",
      "[LightGBM] [Warning] lambda_l1 is set=0.26686774693203275, reg_alpha=0.0 will be ignored. Current value: lambda_l1=0.26686774693203275\n"
     ]
    },
    {
     "name": "stderr",
     "output_type": "stream",
     "text": [
      "/opt/homebrew/Caskroom/miniforge/base/lib/python3.9/site-packages/lightgbm/engine.py:177: UserWarning: Found `n_iter` in params. Will use it instead of argument\n",
      "  _log_warning(f\"Found `{alias}` in params. Will use it instead of argument\")\n"
     ]
    },
    {
     "name": "stdout",
     "output_type": "stream",
     "text": [
      "[LightGBM] [Warning] num_iterations is set=200, n_iter=200 will be ignored. Current value: num_iterations=200\n",
      "[LightGBM] [Warning] min_data_in_leaf is set=57, min_child_samples=20 will be ignored. Current value: min_data_in_leaf=57\n",
      "[LightGBM] [Warning] lambda_l2 is set=0.666895622047969, reg_lambda=0.0 will be ignored. Current value: lambda_l2=0.666895622047969\n",
      "[LightGBM] [Warning] lambda_l1 is set=0.26686774693203275, reg_alpha=0.0 will be ignored. Current value: lambda_l1=0.26686774693203275\n"
     ]
    },
    {
     "name": "stderr",
     "output_type": "stream",
     "text": [
      "/opt/homebrew/Caskroom/miniforge/base/lib/python3.9/site-packages/lightgbm/engine.py:177: UserWarning: Found `n_iter` in params. Will use it instead of argument\n",
      "  _log_warning(f\"Found `{alias}` in params. Will use it instead of argument\")\n"
     ]
    },
    {
     "name": "stdout",
     "output_type": "stream",
     "text": [
      "[LightGBM] [Warning] num_iterations is set=200, n_iter=200 will be ignored. Current value: num_iterations=200\n",
      "[LightGBM] [Warning] min_data_in_leaf is set=57, min_child_samples=20 will be ignored. Current value: min_data_in_leaf=57\n",
      "[LightGBM] [Warning] lambda_l2 is set=0.666895622047969, reg_lambda=0.0 will be ignored. Current value: lambda_l2=0.666895622047969\n",
      "[LightGBM] [Warning] lambda_l1 is set=0.26686774693203275, reg_alpha=0.0 will be ignored. Current value: lambda_l1=0.26686774693203275\n"
     ]
    },
    {
     "name": "stderr",
     "output_type": "stream",
     "text": [
      "\u001b[32m[I 2023-03-14 19:32:14,270]\u001b[0m Trial 6 finished with value: 2.793215726943933 and parameters: {'colsample_bytree': 0.14998808081028622, 'colsample_bynode': 0.36510560544423265, 'max_depth': 7, 'learning_rate': 0.01653332482542995, 'lambda_l1': 0.26686774693203275, 'lambda_l2': 0.666895622047969, 'num_leaves': 1022, 'min_data_in_leaf': 57}. Best is trial 4 with value: 0.6695384759267544.\u001b[0m\n"
     ]
    },
    {
     "name": "stdout",
     "output_type": "stream",
     "text": [
      "Mean SMAPE: 2.7932\n",
      "[LightGBM] [Warning] num_iterations is set=200, n_iter=200 will be ignored. Current value: num_iterations=200\n",
      "[LightGBM] [Warning] min_data_in_leaf is set=166, min_child_samples=20 will be ignored. Current value: min_data_in_leaf=166\n",
      "[LightGBM] [Warning] lambda_l2 is set=4.867169332526855, reg_lambda=0.0 will be ignored. Current value: lambda_l2=4.867169332526855\n",
      "[LightGBM] [Warning] lambda_l1 is set=3.139448389025574, reg_alpha=0.0 will be ignored. Current value: lambda_l1=3.139448389025574\n"
     ]
    },
    {
     "name": "stderr",
     "output_type": "stream",
     "text": [
      "/opt/homebrew/Caskroom/miniforge/base/lib/python3.9/site-packages/lightgbm/engine.py:177: UserWarning: Found `n_iter` in params. Will use it instead of argument\n",
      "  _log_warning(f\"Found `{alias}` in params. Will use it instead of argument\")\n",
      "/opt/homebrew/Caskroom/miniforge/base/lib/python3.9/site-packages/lightgbm/engine.py:177: UserWarning: Found `n_iter` in params. Will use it instead of argument\n",
      "  _log_warning(f\"Found `{alias}` in params. Will use it instead of argument\")\n"
     ]
    },
    {
     "name": "stdout",
     "output_type": "stream",
     "text": [
      "[LightGBM] [Warning] num_iterations is set=200, n_iter=200 will be ignored. Current value: num_iterations=200\n",
      "[LightGBM] [Warning] min_data_in_leaf is set=166, min_child_samples=20 will be ignored. Current value: min_data_in_leaf=166\n",
      "[LightGBM] [Warning] lambda_l2 is set=4.867169332526855, reg_lambda=0.0 will be ignored. Current value: lambda_l2=4.867169332526855\n",
      "[LightGBM] [Warning] lambda_l1 is set=3.139448389025574, reg_alpha=0.0 will be ignored. Current value: lambda_l1=3.139448389025574\n"
     ]
    },
    {
     "name": "stderr",
     "output_type": "stream",
     "text": [
      "/opt/homebrew/Caskroom/miniforge/base/lib/python3.9/site-packages/lightgbm/engine.py:177: UserWarning: Found `n_iter` in params. Will use it instead of argument\n",
      "  _log_warning(f\"Found `{alias}` in params. Will use it instead of argument\")\n"
     ]
    },
    {
     "name": "stdout",
     "output_type": "stream",
     "text": [
      "[LightGBM] [Warning] num_iterations is set=200, n_iter=200 will be ignored. Current value: num_iterations=200\n",
      "[LightGBM] [Warning] min_data_in_leaf is set=166, min_child_samples=20 will be ignored. Current value: min_data_in_leaf=166\n",
      "[LightGBM] [Warning] lambda_l2 is set=4.867169332526855, reg_lambda=0.0 will be ignored. Current value: lambda_l2=4.867169332526855\n",
      "[LightGBM] [Warning] lambda_l1 is set=3.139448389025574, reg_alpha=0.0 will be ignored. Current value: lambda_l1=3.139448389025574\n"
     ]
    },
    {
     "name": "stderr",
     "output_type": "stream",
     "text": [
      "/opt/homebrew/Caskroom/miniforge/base/lib/python3.9/site-packages/lightgbm/engine.py:177: UserWarning: Found `n_iter` in params. Will use it instead of argument\n",
      "  _log_warning(f\"Found `{alias}` in params. Will use it instead of argument\")\n"
     ]
    },
    {
     "name": "stdout",
     "output_type": "stream",
     "text": [
      "[LightGBM] [Warning] num_iterations is set=200, n_iter=200 will be ignored. Current value: num_iterations=200\n",
      "[LightGBM] [Warning] min_data_in_leaf is set=166, min_child_samples=20 will be ignored. Current value: min_data_in_leaf=166\n",
      "[LightGBM] [Warning] lambda_l2 is set=4.867169332526855, reg_lambda=0.0 will be ignored. Current value: lambda_l2=4.867169332526855\n",
      "[LightGBM] [Warning] lambda_l1 is set=3.139448389025574, reg_alpha=0.0 will be ignored. Current value: lambda_l1=3.139448389025574\n"
     ]
    },
    {
     "name": "stderr",
     "output_type": "stream",
     "text": [
      "/opt/homebrew/Caskroom/miniforge/base/lib/python3.9/site-packages/lightgbm/engine.py:177: UserWarning: Found `n_iter` in params. Will use it instead of argument\n",
      "  _log_warning(f\"Found `{alias}` in params. Will use it instead of argument\")\n"
     ]
    },
    {
     "name": "stdout",
     "output_type": "stream",
     "text": [
      "[LightGBM] [Warning] num_iterations is set=200, n_iter=200 will be ignored. Current value: num_iterations=200\n",
      "[LightGBM] [Warning] min_data_in_leaf is set=166, min_child_samples=20 will be ignored. Current value: min_data_in_leaf=166\n",
      "[LightGBM] [Warning] lambda_l2 is set=4.867169332526855, reg_lambda=0.0 will be ignored. Current value: lambda_l2=4.867169332526855\n",
      "[LightGBM] [Warning] lambda_l1 is set=3.139448389025574, reg_alpha=0.0 will be ignored. Current value: lambda_l1=3.139448389025574\n"
     ]
    },
    {
     "name": "stderr",
     "output_type": "stream",
     "text": [
      "\u001b[32m[I 2023-03-14 19:32:20,527]\u001b[0m Trial 7 finished with value: 2.196127524502728 and parameters: {'colsample_bytree': 0.3867991372071178, 'colsample_bynode': 0.37925908719328005, 'max_depth': 3, 'learning_rate': 0.01771983101236604, 'lambda_l1': 3.139448389025574, 'lambda_l2': 4.867169332526855, 'num_leaves': 950, 'min_data_in_leaf': 166}. Best is trial 4 with value: 0.6695384759267544.\u001b[0m\n"
     ]
    },
    {
     "name": "stdout",
     "output_type": "stream",
     "text": [
      "Mean SMAPE: 2.1961\n",
      "[LightGBM] [Warning] num_iterations is set=200, n_iter=200 will be ignored. Current value: num_iterations=200\n",
      "[LightGBM] [Warning] min_data_in_leaf is set=137, min_child_samples=20 will be ignored. Current value: min_data_in_leaf=137\n",
      "[LightGBM] [Warning] lambda_l2 is set=3.7379255333411545, reg_lambda=0.0 will be ignored. Current value: lambda_l2=3.7379255333411545\n",
      "[LightGBM] [Warning] lambda_l1 is set=8.955379393565995, reg_alpha=0.0 will be ignored. Current value: lambda_l1=8.955379393565995\n"
     ]
    },
    {
     "name": "stderr",
     "output_type": "stream",
     "text": [
      "/opt/homebrew/Caskroom/miniforge/base/lib/python3.9/site-packages/lightgbm/engine.py:177: UserWarning: Found `n_iter` in params. Will use it instead of argument\n",
      "  _log_warning(f\"Found `{alias}` in params. Will use it instead of argument\")\n",
      "/opt/homebrew/Caskroom/miniforge/base/lib/python3.9/site-packages/lightgbm/engine.py:177: UserWarning: Found `n_iter` in params. Will use it instead of argument\n",
      "  _log_warning(f\"Found `{alias}` in params. Will use it instead of argument\")\n"
     ]
    },
    {
     "name": "stdout",
     "output_type": "stream",
     "text": [
      "[LightGBM] [Warning] num_iterations is set=200, n_iter=200 will be ignored. Current value: num_iterations=200\n",
      "[LightGBM] [Warning] min_data_in_leaf is set=137, min_child_samples=20 will be ignored. Current value: min_data_in_leaf=137\n",
      "[LightGBM] [Warning] lambda_l2 is set=3.7379255333411545, reg_lambda=0.0 will be ignored. Current value: lambda_l2=3.7379255333411545\n",
      "[LightGBM] [Warning] lambda_l1 is set=8.955379393565995, reg_alpha=0.0 will be ignored. Current value: lambda_l1=8.955379393565995\n"
     ]
    },
    {
     "name": "stderr",
     "output_type": "stream",
     "text": [
      "/opt/homebrew/Caskroom/miniforge/base/lib/python3.9/site-packages/lightgbm/engine.py:177: UserWarning: Found `n_iter` in params. Will use it instead of argument\n",
      "  _log_warning(f\"Found `{alias}` in params. Will use it instead of argument\")\n"
     ]
    },
    {
     "name": "stdout",
     "output_type": "stream",
     "text": [
      "[LightGBM] [Warning] num_iterations is set=200, n_iter=200 will be ignored. Current value: num_iterations=200\n",
      "[LightGBM] [Warning] min_data_in_leaf is set=137, min_child_samples=20 will be ignored. Current value: min_data_in_leaf=137\n",
      "[LightGBM] [Warning] lambda_l2 is set=3.7379255333411545, reg_lambda=0.0 will be ignored. Current value: lambda_l2=3.7379255333411545\n",
      "[LightGBM] [Warning] lambda_l1 is set=8.955379393565995, reg_alpha=0.0 will be ignored. Current value: lambda_l1=8.955379393565995\n"
     ]
    },
    {
     "name": "stderr",
     "output_type": "stream",
     "text": [
      "/opt/homebrew/Caskroom/miniforge/base/lib/python3.9/site-packages/lightgbm/engine.py:177: UserWarning: Found `n_iter` in params. Will use it instead of argument\n",
      "  _log_warning(f\"Found `{alias}` in params. Will use it instead of argument\")\n"
     ]
    },
    {
     "name": "stdout",
     "output_type": "stream",
     "text": [
      "[LightGBM] [Warning] num_iterations is set=200, n_iter=200 will be ignored. Current value: num_iterations=200\n",
      "[LightGBM] [Warning] min_data_in_leaf is set=137, min_child_samples=20 will be ignored. Current value: min_data_in_leaf=137\n",
      "[LightGBM] [Warning] lambda_l2 is set=3.7379255333411545, reg_lambda=0.0 will be ignored. Current value: lambda_l2=3.7379255333411545\n",
      "[LightGBM] [Warning] lambda_l1 is set=8.955379393565995, reg_alpha=0.0 will be ignored. Current value: lambda_l1=8.955379393565995\n"
     ]
    },
    {
     "name": "stderr",
     "output_type": "stream",
     "text": [
      "/opt/homebrew/Caskroom/miniforge/base/lib/python3.9/site-packages/lightgbm/engine.py:177: UserWarning: Found `n_iter` in params. Will use it instead of argument\n",
      "  _log_warning(f\"Found `{alias}` in params. Will use it instead of argument\")\n"
     ]
    },
    {
     "name": "stdout",
     "output_type": "stream",
     "text": [
      "[LightGBM] [Warning] num_iterations is set=200, n_iter=200 will be ignored. Current value: num_iterations=200\n",
      "[LightGBM] [Warning] min_data_in_leaf is set=137, min_child_samples=20 will be ignored. Current value: min_data_in_leaf=137\n",
      "[LightGBM] [Warning] lambda_l2 is set=3.7379255333411545, reg_lambda=0.0 will be ignored. Current value: lambda_l2=3.7379255333411545\n",
      "[LightGBM] [Warning] lambda_l1 is set=8.955379393565995, reg_alpha=0.0 will be ignored. Current value: lambda_l1=8.955379393565995\n"
     ]
    },
    {
     "name": "stderr",
     "output_type": "stream",
     "text": [
      "\u001b[32m[I 2023-03-14 19:32:37,509]\u001b[0m Trial 8 finished with value: 1.0440343875222937 and parameters: {'colsample_bytree': 0.8010683740723699, 'colsample_bynode': 0.17930759951733294, 'max_depth': 7, 'learning_rate': 0.056246708329188454, 'lambda_l1': 8.955379393565995, 'lambda_l2': 3.7379255333411545, 'num_leaves': 996, 'min_data_in_leaf': 137}. Best is trial 4 with value: 0.6695384759267544.\u001b[0m\n"
     ]
    },
    {
     "name": "stdout",
     "output_type": "stream",
     "text": [
      "Mean SMAPE: 1.0440\n",
      "[LightGBM] [Warning] num_iterations is set=200, n_iter=200 will be ignored. Current value: num_iterations=200\n",
      "[LightGBM] [Warning] min_data_in_leaf is set=98, min_child_samples=20 will be ignored. Current value: min_data_in_leaf=98\n",
      "[LightGBM] [Warning] lambda_l2 is set=8.604296885882471, reg_lambda=0.0 will be ignored. Current value: lambda_l2=8.604296885882471\n",
      "[LightGBM] [Warning] lambda_l1 is set=8.301091501093564, reg_alpha=0.0 will be ignored. Current value: lambda_l1=8.301091501093564\n"
     ]
    },
    {
     "name": "stderr",
     "output_type": "stream",
     "text": [
      "/opt/homebrew/Caskroom/miniforge/base/lib/python3.9/site-packages/lightgbm/engine.py:177: UserWarning: Found `n_iter` in params. Will use it instead of argument\n",
      "  _log_warning(f\"Found `{alias}` in params. Will use it instead of argument\")\n",
      "/opt/homebrew/Caskroom/miniforge/base/lib/python3.9/site-packages/lightgbm/engine.py:177: UserWarning: Found `n_iter` in params. Will use it instead of argument\n",
      "  _log_warning(f\"Found `{alias}` in params. Will use it instead of argument\")\n"
     ]
    },
    {
     "name": "stdout",
     "output_type": "stream",
     "text": [
      "[LightGBM] [Warning] num_iterations is set=200, n_iter=200 will be ignored. Current value: num_iterations=200\n",
      "[LightGBM] [Warning] min_data_in_leaf is set=98, min_child_samples=20 will be ignored. Current value: min_data_in_leaf=98\n",
      "[LightGBM] [Warning] lambda_l2 is set=8.604296885882471, reg_lambda=0.0 will be ignored. Current value: lambda_l2=8.604296885882471\n",
      "[LightGBM] [Warning] lambda_l1 is set=8.301091501093564, reg_alpha=0.0 will be ignored. Current value: lambda_l1=8.301091501093564\n"
     ]
    },
    {
     "name": "stderr",
     "output_type": "stream",
     "text": [
      "/opt/homebrew/Caskroom/miniforge/base/lib/python3.9/site-packages/lightgbm/engine.py:177: UserWarning: Found `n_iter` in params. Will use it instead of argument\n",
      "  _log_warning(f\"Found `{alias}` in params. Will use it instead of argument\")\n"
     ]
    },
    {
     "name": "stdout",
     "output_type": "stream",
     "text": [
      "[LightGBM] [Warning] num_iterations is set=200, n_iter=200 will be ignored. Current value: num_iterations=200\n",
      "[LightGBM] [Warning] min_data_in_leaf is set=98, min_child_samples=20 will be ignored. Current value: min_data_in_leaf=98\n",
      "[LightGBM] [Warning] lambda_l2 is set=8.604296885882471, reg_lambda=0.0 will be ignored. Current value: lambda_l2=8.604296885882471\n",
      "[LightGBM] [Warning] lambda_l1 is set=8.301091501093564, reg_alpha=0.0 will be ignored. Current value: lambda_l1=8.301091501093564\n"
     ]
    },
    {
     "name": "stderr",
     "output_type": "stream",
     "text": [
      "/opt/homebrew/Caskroom/miniforge/base/lib/python3.9/site-packages/lightgbm/engine.py:177: UserWarning: Found `n_iter` in params. Will use it instead of argument\n",
      "  _log_warning(f\"Found `{alias}` in params. Will use it instead of argument\")\n"
     ]
    },
    {
     "name": "stdout",
     "output_type": "stream",
     "text": [
      "[LightGBM] [Warning] num_iterations is set=200, n_iter=200 will be ignored. Current value: num_iterations=200\n",
      "[LightGBM] [Warning] min_data_in_leaf is set=98, min_child_samples=20 will be ignored. Current value: min_data_in_leaf=98\n",
      "[LightGBM] [Warning] lambda_l2 is set=8.604296885882471, reg_lambda=0.0 will be ignored. Current value: lambda_l2=8.604296885882471\n",
      "[LightGBM] [Warning] lambda_l1 is set=8.301091501093564, reg_alpha=0.0 will be ignored. Current value: lambda_l1=8.301091501093564\n"
     ]
    },
    {
     "name": "stderr",
     "output_type": "stream",
     "text": [
      "/opt/homebrew/Caskroom/miniforge/base/lib/python3.9/site-packages/lightgbm/engine.py:177: UserWarning: Found `n_iter` in params. Will use it instead of argument\n",
      "  _log_warning(f\"Found `{alias}` in params. Will use it instead of argument\")\n"
     ]
    },
    {
     "name": "stdout",
     "output_type": "stream",
     "text": [
      "[LightGBM] [Warning] num_iterations is set=200, n_iter=200 will be ignored. Current value: num_iterations=200\n",
      "[LightGBM] [Warning] min_data_in_leaf is set=98, min_child_samples=20 will be ignored. Current value: min_data_in_leaf=98\n",
      "[LightGBM] [Warning] lambda_l2 is set=8.604296885882471, reg_lambda=0.0 will be ignored. Current value: lambda_l2=8.604296885882471\n",
      "[LightGBM] [Warning] lambda_l1 is set=8.301091501093564, reg_alpha=0.0 will be ignored. Current value: lambda_l1=8.301091501093564\n"
     ]
    },
    {
     "name": "stderr",
     "output_type": "stream",
     "text": [
      "\u001b[32m[I 2023-03-14 19:32:51,328]\u001b[0m Trial 9 finished with value: 1.2702664549340086 and parameters: {'colsample_bytree': 0.6055680119010364, 'colsample_bynode': 0.6995098011813041, 'max_depth': 10, 'learning_rate': 0.020297683369053222, 'lambda_l1': 8.301091501093564, 'lambda_l2': 8.604296885882471, 'num_leaves': 768, 'min_data_in_leaf': 98}. Best is trial 4 with value: 0.6695384759267544.\u001b[0m\n"
     ]
    },
    {
     "name": "stdout",
     "output_type": "stream",
     "text": [
      "Mean SMAPE: 1.2703\n",
      "[LightGBM] [Warning] num_iterations is set=200, n_iter=200 will be ignored. Current value: num_iterations=200\n",
      "[LightGBM] [Warning] min_data_in_leaf is set=233, min_child_samples=20 will be ignored. Current value: min_data_in_leaf=233\n",
      "[LightGBM] [Warning] lambda_l2 is set=0.0892597537625397, reg_lambda=0.0 will be ignored. Current value: lambda_l2=0.0892597537625397\n",
      "[LightGBM] [Warning] lambda_l1 is set=5.5290029335075594, reg_alpha=0.0 will be ignored. Current value: lambda_l1=5.5290029335075594\n"
     ]
    },
    {
     "name": "stderr",
     "output_type": "stream",
     "text": [
      "/opt/homebrew/Caskroom/miniforge/base/lib/python3.9/site-packages/lightgbm/engine.py:177: UserWarning: Found `n_iter` in params. Will use it instead of argument\n",
      "  _log_warning(f\"Found `{alias}` in params. Will use it instead of argument\")\n",
      "/opt/homebrew/Caskroom/miniforge/base/lib/python3.9/site-packages/lightgbm/engine.py:177: UserWarning: Found `n_iter` in params. Will use it instead of argument\n",
      "  _log_warning(f\"Found `{alias}` in params. Will use it instead of argument\")\n"
     ]
    },
    {
     "name": "stdout",
     "output_type": "stream",
     "text": [
      "[LightGBM] [Warning] num_iterations is set=200, n_iter=200 will be ignored. Current value: num_iterations=200\n",
      "[LightGBM] [Warning] min_data_in_leaf is set=233, min_child_samples=20 will be ignored. Current value: min_data_in_leaf=233\n",
      "[LightGBM] [Warning] lambda_l2 is set=0.0892597537625397, reg_lambda=0.0 will be ignored. Current value: lambda_l2=0.0892597537625397\n",
      "[LightGBM] [Warning] lambda_l1 is set=5.5290029335075594, reg_alpha=0.0 will be ignored. Current value: lambda_l1=5.5290029335075594\n"
     ]
    },
    {
     "name": "stderr",
     "output_type": "stream",
     "text": [
      "/opt/homebrew/Caskroom/miniforge/base/lib/python3.9/site-packages/lightgbm/engine.py:177: UserWarning: Found `n_iter` in params. Will use it instead of argument\n",
      "  _log_warning(f\"Found `{alias}` in params. Will use it instead of argument\")\n"
     ]
    },
    {
     "name": "stdout",
     "output_type": "stream",
     "text": [
      "[LightGBM] [Warning] num_iterations is set=200, n_iter=200 will be ignored. Current value: num_iterations=200\n",
      "[LightGBM] [Warning] min_data_in_leaf is set=233, min_child_samples=20 will be ignored. Current value: min_data_in_leaf=233\n",
      "[LightGBM] [Warning] lambda_l2 is set=0.0892597537625397, reg_lambda=0.0 will be ignored. Current value: lambda_l2=0.0892597537625397\n",
      "[LightGBM] [Warning] lambda_l1 is set=5.5290029335075594, reg_alpha=0.0 will be ignored. Current value: lambda_l1=5.5290029335075594\n"
     ]
    },
    {
     "name": "stderr",
     "output_type": "stream",
     "text": [
      "/opt/homebrew/Caskroom/miniforge/base/lib/python3.9/site-packages/lightgbm/engine.py:177: UserWarning: Found `n_iter` in params. Will use it instead of argument\n",
      "  _log_warning(f\"Found `{alias}` in params. Will use it instead of argument\")\n"
     ]
    },
    {
     "name": "stdout",
     "output_type": "stream",
     "text": [
      "[LightGBM] [Warning] num_iterations is set=200, n_iter=200 will be ignored. Current value: num_iterations=200\n",
      "[LightGBM] [Warning] min_data_in_leaf is set=233, min_child_samples=20 will be ignored. Current value: min_data_in_leaf=233\n",
      "[LightGBM] [Warning] lambda_l2 is set=0.0892597537625397, reg_lambda=0.0 will be ignored. Current value: lambda_l2=0.0892597537625397\n",
      "[LightGBM] [Warning] lambda_l1 is set=5.5290029335075594, reg_alpha=0.0 will be ignored. Current value: lambda_l1=5.5290029335075594\n"
     ]
    },
    {
     "name": "stderr",
     "output_type": "stream",
     "text": [
      "/opt/homebrew/Caskroom/miniforge/base/lib/python3.9/site-packages/lightgbm/engine.py:177: UserWarning: Found `n_iter` in params. Will use it instead of argument\n",
      "  _log_warning(f\"Found `{alias}` in params. Will use it instead of argument\")\n"
     ]
    },
    {
     "name": "stdout",
     "output_type": "stream",
     "text": [
      "[LightGBM] [Warning] num_iterations is set=200, n_iter=200 will be ignored. Current value: num_iterations=200\n",
      "[LightGBM] [Warning] min_data_in_leaf is set=233, min_child_samples=20 will be ignored. Current value: min_data_in_leaf=233\n",
      "[LightGBM] [Warning] lambda_l2 is set=0.0892597537625397, reg_lambda=0.0 will be ignored. Current value: lambda_l2=0.0892597537625397\n",
      "[LightGBM] [Warning] lambda_l1 is set=5.5290029335075594, reg_alpha=0.0 will be ignored. Current value: lambda_l1=5.5290029335075594\n"
     ]
    },
    {
     "name": "stderr",
     "output_type": "stream",
     "text": [
      "\u001b[32m[I 2023-03-14 19:33:10,545]\u001b[0m Trial 10 finished with value: 0.5541441907908725 and parameters: {'colsample_bytree': 0.734433635548391, 'colsample_bynode': 0.9927792740206849, 'max_depth': 10, 'learning_rate': 0.09786532872252506, 'lambda_l1': 5.5290029335075594, 'lambda_l2': 0.0892597537625397, 'num_leaves': 218, 'min_data_in_leaf': 233}. Best is trial 10 with value: 0.5541441907908725.\u001b[0m\n"
     ]
    },
    {
     "name": "stdout",
     "output_type": "stream",
     "text": [
      "Mean SMAPE: 0.5541\n",
      "[LightGBM] [Warning] num_iterations is set=200, n_iter=200 will be ignored. Current value: num_iterations=200\n",
      "[LightGBM] [Warning] min_data_in_leaf is set=249, min_child_samples=20 will be ignored. Current value: min_data_in_leaf=249\n",
      "[LightGBM] [Warning] lambda_l2 is set=0.1346009087164929, reg_lambda=0.0 will be ignored. Current value: lambda_l2=0.1346009087164929\n",
      "[LightGBM] [Warning] lambda_l1 is set=5.298625722692774, reg_alpha=0.0 will be ignored. Current value: lambda_l1=5.298625722692774\n"
     ]
    },
    {
     "name": "stderr",
     "output_type": "stream",
     "text": [
      "/opt/homebrew/Caskroom/miniforge/base/lib/python3.9/site-packages/lightgbm/engine.py:177: UserWarning: Found `n_iter` in params. Will use it instead of argument\n",
      "  _log_warning(f\"Found `{alias}` in params. Will use it instead of argument\")\n",
      "/opt/homebrew/Caskroom/miniforge/base/lib/python3.9/site-packages/lightgbm/engine.py:177: UserWarning: Found `n_iter` in params. Will use it instead of argument\n",
      "  _log_warning(f\"Found `{alias}` in params. Will use it instead of argument\")\n"
     ]
    },
    {
     "name": "stdout",
     "output_type": "stream",
     "text": [
      "[LightGBM] [Warning] num_iterations is set=200, n_iter=200 will be ignored. Current value: num_iterations=200\n",
      "[LightGBM] [Warning] min_data_in_leaf is set=249, min_child_samples=20 will be ignored. Current value: min_data_in_leaf=249\n",
      "[LightGBM] [Warning] lambda_l2 is set=0.1346009087164929, reg_lambda=0.0 will be ignored. Current value: lambda_l2=0.1346009087164929\n",
      "[LightGBM] [Warning] lambda_l1 is set=5.298625722692774, reg_alpha=0.0 will be ignored. Current value: lambda_l1=5.298625722692774\n"
     ]
    },
    {
     "name": "stderr",
     "output_type": "stream",
     "text": [
      "/opt/homebrew/Caskroom/miniforge/base/lib/python3.9/site-packages/lightgbm/engine.py:177: UserWarning: Found `n_iter` in params. Will use it instead of argument\n",
      "  _log_warning(f\"Found `{alias}` in params. Will use it instead of argument\")\n"
     ]
    },
    {
     "name": "stdout",
     "output_type": "stream",
     "text": [
      "[LightGBM] [Warning] num_iterations is set=200, n_iter=200 will be ignored. Current value: num_iterations=200\n",
      "[LightGBM] [Warning] min_data_in_leaf is set=249, min_child_samples=20 will be ignored. Current value: min_data_in_leaf=249\n",
      "[LightGBM] [Warning] lambda_l2 is set=0.1346009087164929, reg_lambda=0.0 will be ignored. Current value: lambda_l2=0.1346009087164929\n",
      "[LightGBM] [Warning] lambda_l1 is set=5.298625722692774, reg_alpha=0.0 will be ignored. Current value: lambda_l1=5.298625722692774\n"
     ]
    },
    {
     "name": "stderr",
     "output_type": "stream",
     "text": [
      "/opt/homebrew/Caskroom/miniforge/base/lib/python3.9/site-packages/lightgbm/engine.py:177: UserWarning: Found `n_iter` in params. Will use it instead of argument\n",
      "  _log_warning(f\"Found `{alias}` in params. Will use it instead of argument\")\n"
     ]
    },
    {
     "name": "stdout",
     "output_type": "stream",
     "text": [
      "[LightGBM] [Warning] num_iterations is set=200, n_iter=200 will be ignored. Current value: num_iterations=200\n",
      "[LightGBM] [Warning] min_data_in_leaf is set=249, min_child_samples=20 will be ignored. Current value: min_data_in_leaf=249\n",
      "[LightGBM] [Warning] lambda_l2 is set=0.1346009087164929, reg_lambda=0.0 will be ignored. Current value: lambda_l2=0.1346009087164929\n",
      "[LightGBM] [Warning] lambda_l1 is set=5.298625722692774, reg_alpha=0.0 will be ignored. Current value: lambda_l1=5.298625722692774\n"
     ]
    },
    {
     "name": "stderr",
     "output_type": "stream",
     "text": [
      "/opt/homebrew/Caskroom/miniforge/base/lib/python3.9/site-packages/lightgbm/engine.py:177: UserWarning: Found `n_iter` in params. Will use it instead of argument\n",
      "  _log_warning(f\"Found `{alias}` in params. Will use it instead of argument\")\n"
     ]
    },
    {
     "name": "stdout",
     "output_type": "stream",
     "text": [
      "[LightGBM] [Warning] num_iterations is set=200, n_iter=200 will be ignored. Current value: num_iterations=200\n",
      "[LightGBM] [Warning] min_data_in_leaf is set=249, min_child_samples=20 will be ignored. Current value: min_data_in_leaf=249\n",
      "[LightGBM] [Warning] lambda_l2 is set=0.1346009087164929, reg_lambda=0.0 will be ignored. Current value: lambda_l2=0.1346009087164929\n",
      "[LightGBM] [Warning] lambda_l1 is set=5.298625722692774, reg_alpha=0.0 will be ignored. Current value: lambda_l1=5.298625722692774\n"
     ]
    },
    {
     "name": "stderr",
     "output_type": "stream",
     "text": [
      "\u001b[32m[I 2023-03-14 19:33:28,015]\u001b[0m Trial 11 finished with value: 0.5710503230898868 and parameters: {'colsample_bytree': 0.6990214346641206, 'colsample_bynode': 0.9913040720840991, 'max_depth': 10, 'learning_rate': 0.09752922004575239, 'lambda_l1': 5.298625722692774, 'lambda_l2': 0.1346009087164929, 'num_leaves': 179, 'min_data_in_leaf': 249}. Best is trial 10 with value: 0.5541441907908725.\u001b[0m\n"
     ]
    },
    {
     "name": "stdout",
     "output_type": "stream",
     "text": [
      "Mean SMAPE: 0.5711\n",
      "[LightGBM] [Warning] num_iterations is set=200, n_iter=200 will be ignored. Current value: num_iterations=200\n",
      "[LightGBM] [Warning] min_data_in_leaf is set=203, min_child_samples=20 will be ignored. Current value: min_data_in_leaf=203\n",
      "[LightGBM] [Warning] lambda_l2 is set=0.27778129979336985, reg_lambda=0.0 will be ignored. Current value: lambda_l2=0.27778129979336985\n",
      "[LightGBM] [Warning] lambda_l1 is set=5.225789514940636, reg_alpha=0.0 will be ignored. Current value: lambda_l1=5.225789514940636\n"
     ]
    },
    {
     "name": "stderr",
     "output_type": "stream",
     "text": [
      "/opt/homebrew/Caskroom/miniforge/base/lib/python3.9/site-packages/lightgbm/engine.py:177: UserWarning: Found `n_iter` in params. Will use it instead of argument\n",
      "  _log_warning(f\"Found `{alias}` in params. Will use it instead of argument\")\n",
      "/opt/homebrew/Caskroom/miniforge/base/lib/python3.9/site-packages/lightgbm/engine.py:177: UserWarning: Found `n_iter` in params. Will use it instead of argument\n",
      "  _log_warning(f\"Found `{alias}` in params. Will use it instead of argument\")\n"
     ]
    },
    {
     "name": "stdout",
     "output_type": "stream",
     "text": [
      "[LightGBM] [Warning] num_iterations is set=200, n_iter=200 will be ignored. Current value: num_iterations=200\n",
      "[LightGBM] [Warning] min_data_in_leaf is set=203, min_child_samples=20 will be ignored. Current value: min_data_in_leaf=203\n",
      "[LightGBM] [Warning] lambda_l2 is set=0.27778129979336985, reg_lambda=0.0 will be ignored. Current value: lambda_l2=0.27778129979336985\n",
      "[LightGBM] [Warning] lambda_l1 is set=5.225789514940636, reg_alpha=0.0 will be ignored. Current value: lambda_l1=5.225789514940636\n"
     ]
    },
    {
     "name": "stderr",
     "output_type": "stream",
     "text": [
      "/opt/homebrew/Caskroom/miniforge/base/lib/python3.9/site-packages/lightgbm/engine.py:177: UserWarning: Found `n_iter` in params. Will use it instead of argument\n",
      "  _log_warning(f\"Found `{alias}` in params. Will use it instead of argument\")\n"
     ]
    },
    {
     "name": "stdout",
     "output_type": "stream",
     "text": [
      "[LightGBM] [Warning] num_iterations is set=200, n_iter=200 will be ignored. Current value: num_iterations=200\n",
      "[LightGBM] [Warning] min_data_in_leaf is set=203, min_child_samples=20 will be ignored. Current value: min_data_in_leaf=203\n",
      "[LightGBM] [Warning] lambda_l2 is set=0.27778129979336985, reg_lambda=0.0 will be ignored. Current value: lambda_l2=0.27778129979336985\n",
      "[LightGBM] [Warning] lambda_l1 is set=5.225789514940636, reg_alpha=0.0 will be ignored. Current value: lambda_l1=5.225789514940636\n"
     ]
    },
    {
     "name": "stderr",
     "output_type": "stream",
     "text": [
      "/opt/homebrew/Caskroom/miniforge/base/lib/python3.9/site-packages/lightgbm/engine.py:177: UserWarning: Found `n_iter` in params. Will use it instead of argument\n",
      "  _log_warning(f\"Found `{alias}` in params. Will use it instead of argument\")\n"
     ]
    },
    {
     "name": "stdout",
     "output_type": "stream",
     "text": [
      "[LightGBM] [Warning] num_iterations is set=200, n_iter=200 will be ignored. Current value: num_iterations=200\n",
      "[LightGBM] [Warning] min_data_in_leaf is set=203, min_child_samples=20 will be ignored. Current value: min_data_in_leaf=203\n",
      "[LightGBM] [Warning] lambda_l2 is set=0.27778129979336985, reg_lambda=0.0 will be ignored. Current value: lambda_l2=0.27778129979336985\n",
      "[LightGBM] [Warning] lambda_l1 is set=5.225789514940636, reg_alpha=0.0 will be ignored. Current value: lambda_l1=5.225789514940636\n"
     ]
    },
    {
     "name": "stderr",
     "output_type": "stream",
     "text": [
      "/opt/homebrew/Caskroom/miniforge/base/lib/python3.9/site-packages/lightgbm/engine.py:177: UserWarning: Found `n_iter` in params. Will use it instead of argument\n",
      "  _log_warning(f\"Found `{alias}` in params. Will use it instead of argument\")\n"
     ]
    },
    {
     "name": "stdout",
     "output_type": "stream",
     "text": [
      "[LightGBM] [Warning] num_iterations is set=200, n_iter=200 will be ignored. Current value: num_iterations=200\n",
      "[LightGBM] [Warning] min_data_in_leaf is set=203, min_child_samples=20 will be ignored. Current value: min_data_in_leaf=203\n",
      "[LightGBM] [Warning] lambda_l2 is set=0.27778129979336985, reg_lambda=0.0 will be ignored. Current value: lambda_l2=0.27778129979336985\n",
      "[LightGBM] [Warning] lambda_l1 is set=5.225789514940636, reg_alpha=0.0 will be ignored. Current value: lambda_l1=5.225789514940636\n"
     ]
    },
    {
     "name": "stderr",
     "output_type": "stream",
     "text": [
      "\u001b[32m[I 2023-03-14 19:33:48,189]\u001b[0m Trial 12 finished with value: 0.5711293806179187 and parameters: {'colsample_bytree': 0.6525864531802021, 'colsample_bynode': 0.9891698094094834, 'max_depth': 10, 'learning_rate': 0.09348441691985523, 'lambda_l1': 5.225789514940636, 'lambda_l2': 0.27778129979336985, 'num_leaves': 279, 'min_data_in_leaf': 203}. Best is trial 10 with value: 0.5541441907908725.\u001b[0m\n"
     ]
    },
    {
     "name": "stdout",
     "output_type": "stream",
     "text": [
      "Mean SMAPE: 0.5711\n",
      "[LightGBM] [Warning] num_iterations is set=200, n_iter=200 will be ignored. Current value: num_iterations=200\n",
      "[LightGBM] [Warning] min_data_in_leaf is set=194, min_child_samples=20 will be ignored. Current value: min_data_in_leaf=194\n",
      "[LightGBM] [Warning] lambda_l2 is set=0.04809727874257863, reg_lambda=0.0 will be ignored. Current value: lambda_l2=0.04809727874257863\n",
      "[LightGBM] [Warning] lambda_l1 is set=4.884834179054331, reg_alpha=0.0 will be ignored. Current value: lambda_l1=4.884834179054331\n"
     ]
    },
    {
     "name": "stderr",
     "output_type": "stream",
     "text": [
      "/opt/homebrew/Caskroom/miniforge/base/lib/python3.9/site-packages/lightgbm/engine.py:177: UserWarning: Found `n_iter` in params. Will use it instead of argument\n",
      "  _log_warning(f\"Found `{alias}` in params. Will use it instead of argument\")\n",
      "/opt/homebrew/Caskroom/miniforge/base/lib/python3.9/site-packages/lightgbm/engine.py:177: UserWarning: Found `n_iter` in params. Will use it instead of argument\n",
      "  _log_warning(f\"Found `{alias}` in params. Will use it instead of argument\")\n"
     ]
    },
    {
     "name": "stdout",
     "output_type": "stream",
     "text": [
      "[LightGBM] [Warning] num_iterations is set=200, n_iter=200 will be ignored. Current value: num_iterations=200\n",
      "[LightGBM] [Warning] min_data_in_leaf is set=194, min_child_samples=20 will be ignored. Current value: min_data_in_leaf=194\n",
      "[LightGBM] [Warning] lambda_l2 is set=0.04809727874257863, reg_lambda=0.0 will be ignored. Current value: lambda_l2=0.04809727874257863\n",
      "[LightGBM] [Warning] lambda_l1 is set=4.884834179054331, reg_alpha=0.0 will be ignored. Current value: lambda_l1=4.884834179054331\n"
     ]
    },
    {
     "name": "stderr",
     "output_type": "stream",
     "text": [
      "/opt/homebrew/Caskroom/miniforge/base/lib/python3.9/site-packages/lightgbm/engine.py:177: UserWarning: Found `n_iter` in params. Will use it instead of argument\n",
      "  _log_warning(f\"Found `{alias}` in params. Will use it instead of argument\")\n"
     ]
    },
    {
     "name": "stdout",
     "output_type": "stream",
     "text": [
      "[LightGBM] [Warning] num_iterations is set=200, n_iter=200 will be ignored. Current value: num_iterations=200\n",
      "[LightGBM] [Warning] min_data_in_leaf is set=194, min_child_samples=20 will be ignored. Current value: min_data_in_leaf=194\n",
      "[LightGBM] [Warning] lambda_l2 is set=0.04809727874257863, reg_lambda=0.0 will be ignored. Current value: lambda_l2=0.04809727874257863\n",
      "[LightGBM] [Warning] lambda_l1 is set=4.884834179054331, reg_alpha=0.0 will be ignored. Current value: lambda_l1=4.884834179054331\n"
     ]
    },
    {
     "name": "stderr",
     "output_type": "stream",
     "text": [
      "/opt/homebrew/Caskroom/miniforge/base/lib/python3.9/site-packages/lightgbm/engine.py:177: UserWarning: Found `n_iter` in params. Will use it instead of argument\n",
      "  _log_warning(f\"Found `{alias}` in params. Will use it instead of argument\")\n"
     ]
    },
    {
     "name": "stdout",
     "output_type": "stream",
     "text": [
      "[LightGBM] [Warning] num_iterations is set=200, n_iter=200 will be ignored. Current value: num_iterations=200\n",
      "[LightGBM] [Warning] min_data_in_leaf is set=194, min_child_samples=20 will be ignored. Current value: min_data_in_leaf=194\n",
      "[LightGBM] [Warning] lambda_l2 is set=0.04809727874257863, reg_lambda=0.0 will be ignored. Current value: lambda_l2=0.04809727874257863\n",
      "[LightGBM] [Warning] lambda_l1 is set=4.884834179054331, reg_alpha=0.0 will be ignored. Current value: lambda_l1=4.884834179054331\n"
     ]
    },
    {
     "name": "stderr",
     "output_type": "stream",
     "text": [
      "/opt/homebrew/Caskroom/miniforge/base/lib/python3.9/site-packages/lightgbm/engine.py:177: UserWarning: Found `n_iter` in params. Will use it instead of argument\n",
      "  _log_warning(f\"Found `{alias}` in params. Will use it instead of argument\")\n"
     ]
    },
    {
     "name": "stdout",
     "output_type": "stream",
     "text": [
      "[LightGBM] [Warning] num_iterations is set=200, n_iter=200 will be ignored. Current value: num_iterations=200\n",
      "[LightGBM] [Warning] min_data_in_leaf is set=194, min_child_samples=20 will be ignored. Current value: min_data_in_leaf=194\n",
      "[LightGBM] [Warning] lambda_l2 is set=0.04809727874257863, reg_lambda=0.0 will be ignored. Current value: lambda_l2=0.04809727874257863\n",
      "[LightGBM] [Warning] lambda_l1 is set=4.884834179054331, reg_alpha=0.0 will be ignored. Current value: lambda_l1=4.884834179054331\n"
     ]
    },
    {
     "name": "stderr",
     "output_type": "stream",
     "text": [
      "\u001b[32m[I 2023-03-14 19:34:09,007]\u001b[0m Trial 13 finished with value: 0.553661847851888 and parameters: {'colsample_bytree': 0.7308647708963529, 'colsample_bynode': 0.9818415726909208, 'max_depth': 9, 'learning_rate': 0.09473476194418658, 'lambda_l1': 4.884834179054331, 'lambda_l2': 0.04809727874257863, 'num_leaves': 554, 'min_data_in_leaf': 194}. Best is trial 13 with value: 0.553661847851888.\u001b[0m\n"
     ]
    },
    {
     "name": "stdout",
     "output_type": "stream",
     "text": [
      "Mean SMAPE: 0.5537\n",
      "[LightGBM] [Warning] num_iterations is set=200, n_iter=200 will be ignored. Current value: num_iterations=200\n",
      "[LightGBM] [Warning] min_data_in_leaf is set=193, min_child_samples=20 will be ignored. Current value: min_data_in_leaf=193\n",
      "[LightGBM] [Warning] lambda_l2 is set=1.6366086459857399, reg_lambda=0.0 will be ignored. Current value: lambda_l2=1.6366086459857399\n",
      "[LightGBM] [Warning] lambda_l1 is set=4.329915524162238, reg_alpha=0.0 will be ignored. Current value: lambda_l1=4.329915524162238\n"
     ]
    },
    {
     "name": "stderr",
     "output_type": "stream",
     "text": [
      "/opt/homebrew/Caskroom/miniforge/base/lib/python3.9/site-packages/lightgbm/engine.py:177: UserWarning: Found `n_iter` in params. Will use it instead of argument\n",
      "  _log_warning(f\"Found `{alias}` in params. Will use it instead of argument\")\n",
      "/opt/homebrew/Caskroom/miniforge/base/lib/python3.9/site-packages/lightgbm/engine.py:177: UserWarning: Found `n_iter` in params. Will use it instead of argument\n",
      "  _log_warning(f\"Found `{alias}` in params. Will use it instead of argument\")\n"
     ]
    },
    {
     "name": "stdout",
     "output_type": "stream",
     "text": [
      "[LightGBM] [Warning] num_iterations is set=200, n_iter=200 will be ignored. Current value: num_iterations=200\n",
      "[LightGBM] [Warning] min_data_in_leaf is set=193, min_child_samples=20 will be ignored. Current value: min_data_in_leaf=193\n",
      "[LightGBM] [Warning] lambda_l2 is set=1.6366086459857399, reg_lambda=0.0 will be ignored. Current value: lambda_l2=1.6366086459857399\n",
      "[LightGBM] [Warning] lambda_l1 is set=4.329915524162238, reg_alpha=0.0 will be ignored. Current value: lambda_l1=4.329915524162238\n"
     ]
    },
    {
     "name": "stderr",
     "output_type": "stream",
     "text": [
      "/opt/homebrew/Caskroom/miniforge/base/lib/python3.9/site-packages/lightgbm/engine.py:177: UserWarning: Found `n_iter` in params. Will use it instead of argument\n",
      "  _log_warning(f\"Found `{alias}` in params. Will use it instead of argument\")\n"
     ]
    },
    {
     "name": "stdout",
     "output_type": "stream",
     "text": [
      "[LightGBM] [Warning] num_iterations is set=200, n_iter=200 will be ignored. Current value: num_iterations=200\n",
      "[LightGBM] [Warning] min_data_in_leaf is set=193, min_child_samples=20 will be ignored. Current value: min_data_in_leaf=193\n",
      "[LightGBM] [Warning] lambda_l2 is set=1.6366086459857399, reg_lambda=0.0 will be ignored. Current value: lambda_l2=1.6366086459857399\n",
      "[LightGBM] [Warning] lambda_l1 is set=4.329915524162238, reg_alpha=0.0 will be ignored. Current value: lambda_l1=4.329915524162238\n"
     ]
    },
    {
     "name": "stderr",
     "output_type": "stream",
     "text": [
      "/opt/homebrew/Caskroom/miniforge/base/lib/python3.9/site-packages/lightgbm/engine.py:177: UserWarning: Found `n_iter` in params. Will use it instead of argument\n",
      "  _log_warning(f\"Found `{alias}` in params. Will use it instead of argument\")\n"
     ]
    },
    {
     "name": "stdout",
     "output_type": "stream",
     "text": [
      "[LightGBM] [Warning] num_iterations is set=200, n_iter=200 will be ignored. Current value: num_iterations=200\n",
      "[LightGBM] [Warning] min_data_in_leaf is set=193, min_child_samples=20 will be ignored. Current value: min_data_in_leaf=193\n",
      "[LightGBM] [Warning] lambda_l2 is set=1.6366086459857399, reg_lambda=0.0 will be ignored. Current value: lambda_l2=1.6366086459857399\n",
      "[LightGBM] [Warning] lambda_l1 is set=4.329915524162238, reg_alpha=0.0 will be ignored. Current value: lambda_l1=4.329915524162238\n"
     ]
    },
    {
     "name": "stderr",
     "output_type": "stream",
     "text": [
      "/opt/homebrew/Caskroom/miniforge/base/lib/python3.9/site-packages/lightgbm/engine.py:177: UserWarning: Found `n_iter` in params. Will use it instead of argument\n",
      "  _log_warning(f\"Found `{alias}` in params. Will use it instead of argument\")\n"
     ]
    },
    {
     "name": "stdout",
     "output_type": "stream",
     "text": [
      "[LightGBM] [Warning] num_iterations is set=200, n_iter=200 will be ignored. Current value: num_iterations=200\n",
      "[LightGBM] [Warning] min_data_in_leaf is set=193, min_child_samples=20 will be ignored. Current value: min_data_in_leaf=193\n",
      "[LightGBM] [Warning] lambda_l2 is set=1.6366086459857399, reg_lambda=0.0 will be ignored. Current value: lambda_l2=1.6366086459857399\n",
      "[LightGBM] [Warning] lambda_l1 is set=4.329915524162238, reg_alpha=0.0 will be ignored. Current value: lambda_l1=4.329915524162238\n"
     ]
    },
    {
     "name": "stderr",
     "output_type": "stream",
     "text": [
      "\u001b[32m[I 2023-03-14 19:34:30,349]\u001b[0m Trial 14 finished with value: 0.6451437067255299 and parameters: {'colsample_bytree': 0.780211469158408, 'colsample_bynode': 0.8718457706345211, 'max_depth': 9, 'learning_rate': 0.04891884320709357, 'lambda_l1': 4.329915524162238, 'lambda_l2': 1.6366086459857399, 'num_leaves': 553, 'min_data_in_leaf': 193}. Best is trial 13 with value: 0.553661847851888.\u001b[0m\n"
     ]
    },
    {
     "name": "stdout",
     "output_type": "stream",
     "text": [
      "Mean SMAPE: 0.6451\n",
      "[LightGBM] [Warning] num_iterations is set=200, n_iter=200 will be ignored. Current value: num_iterations=200\n",
      "[LightGBM] [Warning] min_data_in_leaf is set=189, min_child_samples=20 will be ignored. Current value: min_data_in_leaf=189\n",
      "[LightGBM] [Warning] lambda_l2 is set=1.4608779450861495, reg_lambda=0.0 will be ignored. Current value: lambda_l2=1.4608779450861495\n",
      "[LightGBM] [Warning] lambda_l1 is set=4.135437333012513, reg_alpha=0.0 will be ignored. Current value: lambda_l1=4.135437333012513\n"
     ]
    },
    {
     "name": "stderr",
     "output_type": "stream",
     "text": [
      "/opt/homebrew/Caskroom/miniforge/base/lib/python3.9/site-packages/lightgbm/engine.py:177: UserWarning: Found `n_iter` in params. Will use it instead of argument\n",
      "  _log_warning(f\"Found `{alias}` in params. Will use it instead of argument\")\n",
      "/opt/homebrew/Caskroom/miniforge/base/lib/python3.9/site-packages/lightgbm/engine.py:177: UserWarning: Found `n_iter` in params. Will use it instead of argument\n",
      "  _log_warning(f\"Found `{alias}` in params. Will use it instead of argument\")\n"
     ]
    },
    {
     "name": "stdout",
     "output_type": "stream",
     "text": [
      "[LightGBM] [Warning] num_iterations is set=200, n_iter=200 will be ignored. Current value: num_iterations=200\n",
      "[LightGBM] [Warning] min_data_in_leaf is set=189, min_child_samples=20 will be ignored. Current value: min_data_in_leaf=189\n",
      "[LightGBM] [Warning] lambda_l2 is set=1.4608779450861495, reg_lambda=0.0 will be ignored. Current value: lambda_l2=1.4608779450861495\n",
      "[LightGBM] [Warning] lambda_l1 is set=4.135437333012513, reg_alpha=0.0 will be ignored. Current value: lambda_l1=4.135437333012513\n"
     ]
    },
    {
     "name": "stderr",
     "output_type": "stream",
     "text": [
      "/opt/homebrew/Caskroom/miniforge/base/lib/python3.9/site-packages/lightgbm/engine.py:177: UserWarning: Found `n_iter` in params. Will use it instead of argument\n",
      "  _log_warning(f\"Found `{alias}` in params. Will use it instead of argument\")\n"
     ]
    },
    {
     "name": "stdout",
     "output_type": "stream",
     "text": [
      "[LightGBM] [Warning] num_iterations is set=200, n_iter=200 will be ignored. Current value: num_iterations=200\n",
      "[LightGBM] [Warning] min_data_in_leaf is set=189, min_child_samples=20 will be ignored. Current value: min_data_in_leaf=189\n",
      "[LightGBM] [Warning] lambda_l2 is set=1.4608779450861495, reg_lambda=0.0 will be ignored. Current value: lambda_l2=1.4608779450861495\n",
      "[LightGBM] [Warning] lambda_l1 is set=4.135437333012513, reg_alpha=0.0 will be ignored. Current value: lambda_l1=4.135437333012513\n"
     ]
    },
    {
     "name": "stderr",
     "output_type": "stream",
     "text": [
      "/opt/homebrew/Caskroom/miniforge/base/lib/python3.9/site-packages/lightgbm/engine.py:177: UserWarning: Found `n_iter` in params. Will use it instead of argument\n",
      "  _log_warning(f\"Found `{alias}` in params. Will use it instead of argument\")\n"
     ]
    },
    {
     "name": "stdout",
     "output_type": "stream",
     "text": [
      "[LightGBM] [Warning] num_iterations is set=200, n_iter=200 will be ignored. Current value: num_iterations=200\n",
      "[LightGBM] [Warning] min_data_in_leaf is set=189, min_child_samples=20 will be ignored. Current value: min_data_in_leaf=189\n",
      "[LightGBM] [Warning] lambda_l2 is set=1.4608779450861495, reg_lambda=0.0 will be ignored. Current value: lambda_l2=1.4608779450861495\n",
      "[LightGBM] [Warning] lambda_l1 is set=4.135437333012513, reg_alpha=0.0 will be ignored. Current value: lambda_l1=4.135437333012513\n"
     ]
    },
    {
     "name": "stderr",
     "output_type": "stream",
     "text": [
      "/opt/homebrew/Caskroom/miniforge/base/lib/python3.9/site-packages/lightgbm/engine.py:177: UserWarning: Found `n_iter` in params. Will use it instead of argument\n",
      "  _log_warning(f\"Found `{alias}` in params. Will use it instead of argument\")\n"
     ]
    },
    {
     "name": "stdout",
     "output_type": "stream",
     "text": [
      "[LightGBM] [Warning] num_iterations is set=200, n_iter=200 will be ignored. Current value: num_iterations=200\n",
      "[LightGBM] [Warning] min_data_in_leaf is set=189, min_child_samples=20 will be ignored. Current value: min_data_in_leaf=189\n",
      "[LightGBM] [Warning] lambda_l2 is set=1.4608779450861495, reg_lambda=0.0 will be ignored. Current value: lambda_l2=1.4608779450861495\n",
      "[LightGBM] [Warning] lambda_l1 is set=4.135437333012513, reg_alpha=0.0 will be ignored. Current value: lambda_l1=4.135437333012513\n"
     ]
    },
    {
     "name": "stderr",
     "output_type": "stream",
     "text": [
      "\u001b[32m[I 2023-03-14 19:34:48,288]\u001b[0m Trial 15 finished with value: 0.49877623401352195 and parameters: {'colsample_bytree': 0.922550834662478, 'colsample_bynode': 0.8865208494474415, 'max_depth': 9, 'learning_rate': 0.09982813819054616, 'lambda_l1': 4.135437333012513, 'lambda_l2': 1.4608779450861495, 'num_leaves': 539, 'min_data_in_leaf': 189}. Best is trial 15 with value: 0.49877623401352195.\u001b[0m\n"
     ]
    },
    {
     "name": "stdout",
     "output_type": "stream",
     "text": [
      "Mean SMAPE: 0.4988\n",
      "[LightGBM] [Warning] num_iterations is set=200, n_iter=200 will be ignored. Current value: num_iterations=200\n",
      "[LightGBM] [Warning] min_data_in_leaf is set=180, min_child_samples=20 will be ignored. Current value: min_data_in_leaf=180\n",
      "[LightGBM] [Warning] lambda_l2 is set=1.8356104846465877, reg_lambda=0.0 will be ignored. Current value: lambda_l2=1.8356104846465877\n",
      "[LightGBM] [Warning] lambda_l1 is set=4.151358673676448, reg_alpha=0.0 will be ignored. Current value: lambda_l1=4.151358673676448\n"
     ]
    },
    {
     "name": "stderr",
     "output_type": "stream",
     "text": [
      "/opt/homebrew/Caskroom/miniforge/base/lib/python3.9/site-packages/lightgbm/engine.py:177: UserWarning: Found `n_iter` in params. Will use it instead of argument\n",
      "  _log_warning(f\"Found `{alias}` in params. Will use it instead of argument\")\n",
      "/opt/homebrew/Caskroom/miniforge/base/lib/python3.9/site-packages/lightgbm/engine.py:177: UserWarning: Found `n_iter` in params. Will use it instead of argument\n",
      "  _log_warning(f\"Found `{alias}` in params. Will use it instead of argument\")\n"
     ]
    },
    {
     "name": "stdout",
     "output_type": "stream",
     "text": [
      "[LightGBM] [Warning] num_iterations is set=200, n_iter=200 will be ignored. Current value: num_iterations=200\n",
      "[LightGBM] [Warning] min_data_in_leaf is set=180, min_child_samples=20 will be ignored. Current value: min_data_in_leaf=180\n",
      "[LightGBM] [Warning] lambda_l2 is set=1.8356104846465877, reg_lambda=0.0 will be ignored. Current value: lambda_l2=1.8356104846465877\n",
      "[LightGBM] [Warning] lambda_l1 is set=4.151358673676448, reg_alpha=0.0 will be ignored. Current value: lambda_l1=4.151358673676448\n"
     ]
    },
    {
     "name": "stderr",
     "output_type": "stream",
     "text": [
      "/opt/homebrew/Caskroom/miniforge/base/lib/python3.9/site-packages/lightgbm/engine.py:177: UserWarning: Found `n_iter` in params. Will use it instead of argument\n",
      "  _log_warning(f\"Found `{alias}` in params. Will use it instead of argument\")\n"
     ]
    },
    {
     "name": "stdout",
     "output_type": "stream",
     "text": [
      "[LightGBM] [Warning] num_iterations is set=200, n_iter=200 will be ignored. Current value: num_iterations=200\n",
      "[LightGBM] [Warning] min_data_in_leaf is set=180, min_child_samples=20 will be ignored. Current value: min_data_in_leaf=180\n",
      "[LightGBM] [Warning] lambda_l2 is set=1.8356104846465877, reg_lambda=0.0 will be ignored. Current value: lambda_l2=1.8356104846465877\n",
      "[LightGBM] [Warning] lambda_l1 is set=4.151358673676448, reg_alpha=0.0 will be ignored. Current value: lambda_l1=4.151358673676448\n"
     ]
    },
    {
     "name": "stderr",
     "output_type": "stream",
     "text": [
      "/opt/homebrew/Caskroom/miniforge/base/lib/python3.9/site-packages/lightgbm/engine.py:177: UserWarning: Found `n_iter` in params. Will use it instead of argument\n",
      "  _log_warning(f\"Found `{alias}` in params. Will use it instead of argument\")\n"
     ]
    },
    {
     "name": "stdout",
     "output_type": "stream",
     "text": [
      "[LightGBM] [Warning] num_iterations is set=200, n_iter=200 will be ignored. Current value: num_iterations=200\n",
      "[LightGBM] [Warning] min_data_in_leaf is set=180, min_child_samples=20 will be ignored. Current value: min_data_in_leaf=180\n",
      "[LightGBM] [Warning] lambda_l2 is set=1.8356104846465877, reg_lambda=0.0 will be ignored. Current value: lambda_l2=1.8356104846465877\n",
      "[LightGBM] [Warning] lambda_l1 is set=4.151358673676448, reg_alpha=0.0 will be ignored. Current value: lambda_l1=4.151358673676448\n"
     ]
    },
    {
     "name": "stderr",
     "output_type": "stream",
     "text": [
      "/opt/homebrew/Caskroom/miniforge/base/lib/python3.9/site-packages/lightgbm/engine.py:177: UserWarning: Found `n_iter` in params. Will use it instead of argument\n",
      "  _log_warning(f\"Found `{alias}` in params. Will use it instead of argument\")\n"
     ]
    },
    {
     "name": "stdout",
     "output_type": "stream",
     "text": [
      "[LightGBM] [Warning] num_iterations is set=200, n_iter=200 will be ignored. Current value: num_iterations=200\n",
      "[LightGBM] [Warning] min_data_in_leaf is set=180, min_child_samples=20 will be ignored. Current value: min_data_in_leaf=180\n",
      "[LightGBM] [Warning] lambda_l2 is set=1.8356104846465877, reg_lambda=0.0 will be ignored. Current value: lambda_l2=1.8356104846465877\n",
      "[LightGBM] [Warning] lambda_l1 is set=4.151358673676448, reg_alpha=0.0 will be ignored. Current value: lambda_l1=4.151358673676448\n"
     ]
    },
    {
     "name": "stderr",
     "output_type": "stream",
     "text": [
      "\u001b[32m[I 2023-03-14 19:35:04,598]\u001b[0m Trial 16 finished with value: 0.5514725352063831 and parameters: {'colsample_bytree': 0.9309563903376601, 'colsample_bynode': 0.8813253268921614, 'max_depth': 8, 'learning_rate': 0.07148947095569, 'lambda_l1': 4.151358673676448, 'lambda_l2': 1.8356104846465877, 'num_leaves': 511, 'min_data_in_leaf': 180}. Best is trial 15 with value: 0.49877623401352195.\u001b[0m\n"
     ]
    },
    {
     "name": "stdout",
     "output_type": "stream",
     "text": [
      "Mean SMAPE: 0.5515\n",
      "[LightGBM] [Warning] num_iterations is set=200, n_iter=200 will be ignored. Current value: num_iterations=200\n",
      "[LightGBM] [Warning] min_data_in_leaf is set=98, min_child_samples=20 will be ignored. Current value: min_data_in_leaf=98\n",
      "[LightGBM] [Warning] lambda_l2 is set=3.324985236587981, reg_lambda=0.0 will be ignored. Current value: lambda_l2=3.324985236587981\n",
      "[LightGBM] [Warning] lambda_l1 is set=3.8875975347030316, reg_alpha=0.0 will be ignored. Current value: lambda_l1=3.8875975347030316\n"
     ]
    },
    {
     "name": "stderr",
     "output_type": "stream",
     "text": [
      "/opt/homebrew/Caskroom/miniforge/base/lib/python3.9/site-packages/lightgbm/engine.py:177: UserWarning: Found `n_iter` in params. Will use it instead of argument\n",
      "  _log_warning(f\"Found `{alias}` in params. Will use it instead of argument\")\n",
      "/opt/homebrew/Caskroom/miniforge/base/lib/python3.9/site-packages/lightgbm/engine.py:177: UserWarning: Found `n_iter` in params. Will use it instead of argument\n",
      "  _log_warning(f\"Found `{alias}` in params. Will use it instead of argument\")\n"
     ]
    },
    {
     "name": "stdout",
     "output_type": "stream",
     "text": [
      "[LightGBM] [Warning] num_iterations is set=200, n_iter=200 will be ignored. Current value: num_iterations=200\n",
      "[LightGBM] [Warning] min_data_in_leaf is set=98, min_child_samples=20 will be ignored. Current value: min_data_in_leaf=98\n",
      "[LightGBM] [Warning] lambda_l2 is set=3.324985236587981, reg_lambda=0.0 will be ignored. Current value: lambda_l2=3.324985236587981\n",
      "[LightGBM] [Warning] lambda_l1 is set=3.8875975347030316, reg_alpha=0.0 will be ignored. Current value: lambda_l1=3.8875975347030316\n"
     ]
    },
    {
     "name": "stderr",
     "output_type": "stream",
     "text": [
      "/opt/homebrew/Caskroom/miniforge/base/lib/python3.9/site-packages/lightgbm/engine.py:177: UserWarning: Found `n_iter` in params. Will use it instead of argument\n",
      "  _log_warning(f\"Found `{alias}` in params. Will use it instead of argument\")\n"
     ]
    },
    {
     "name": "stdout",
     "output_type": "stream",
     "text": [
      "[LightGBM] [Warning] num_iterations is set=200, n_iter=200 will be ignored. Current value: num_iterations=200\n",
      "[LightGBM] [Warning] min_data_in_leaf is set=98, min_child_samples=20 will be ignored. Current value: min_data_in_leaf=98\n",
      "[LightGBM] [Warning] lambda_l2 is set=3.324985236587981, reg_lambda=0.0 will be ignored. Current value: lambda_l2=3.324985236587981\n",
      "[LightGBM] [Warning] lambda_l1 is set=3.8875975347030316, reg_alpha=0.0 will be ignored. Current value: lambda_l1=3.8875975347030316\n"
     ]
    },
    {
     "name": "stderr",
     "output_type": "stream",
     "text": [
      "/opt/homebrew/Caskroom/miniforge/base/lib/python3.9/site-packages/lightgbm/engine.py:177: UserWarning: Found `n_iter` in params. Will use it instead of argument\n",
      "  _log_warning(f\"Found `{alias}` in params. Will use it instead of argument\")\n"
     ]
    },
    {
     "name": "stdout",
     "output_type": "stream",
     "text": [
      "[LightGBM] [Warning] num_iterations is set=200, n_iter=200 will be ignored. Current value: num_iterations=200\n",
      "[LightGBM] [Warning] min_data_in_leaf is set=98, min_child_samples=20 will be ignored. Current value: min_data_in_leaf=98\n",
      "[LightGBM] [Warning] lambda_l2 is set=3.324985236587981, reg_lambda=0.0 will be ignored. Current value: lambda_l2=3.324985236587981\n",
      "[LightGBM] [Warning] lambda_l1 is set=3.8875975347030316, reg_alpha=0.0 will be ignored. Current value: lambda_l1=3.8875975347030316\n"
     ]
    },
    {
     "name": "stderr",
     "output_type": "stream",
     "text": [
      "/opt/homebrew/Caskroom/miniforge/base/lib/python3.9/site-packages/lightgbm/engine.py:177: UserWarning: Found `n_iter` in params. Will use it instead of argument\n",
      "  _log_warning(f\"Found `{alias}` in params. Will use it instead of argument\")\n"
     ]
    },
    {
     "name": "stdout",
     "output_type": "stream",
     "text": [
      "[LightGBM] [Warning] num_iterations is set=200, n_iter=200 will be ignored. Current value: num_iterations=200\n",
      "[LightGBM] [Warning] min_data_in_leaf is set=98, min_child_samples=20 will be ignored. Current value: min_data_in_leaf=98\n",
      "[LightGBM] [Warning] lambda_l2 is set=3.324985236587981, reg_lambda=0.0 will be ignored. Current value: lambda_l2=3.324985236587981\n",
      "[LightGBM] [Warning] lambda_l1 is set=3.8875975347030316, reg_alpha=0.0 will be ignored. Current value: lambda_l1=3.8875975347030316\n"
     ]
    },
    {
     "name": "stderr",
     "output_type": "stream",
     "text": [
      "\u001b[32m[I 2023-03-14 19:35:26,226]\u001b[0m Trial 17 finished with value: 0.5670109115013255 and parameters: {'colsample_bytree': 0.9853906628769907, 'colsample_bynode': 0.6073365839725319, 'max_depth': 8, 'learning_rate': 0.0696531329223106, 'lambda_l1': 3.8875975347030316, 'lambda_l2': 3.324985236587981, 'num_leaves': 663, 'min_data_in_leaf': 98}. Best is trial 15 with value: 0.49877623401352195.\u001b[0m\n"
     ]
    },
    {
     "name": "stdout",
     "output_type": "stream",
     "text": [
      "Mean SMAPE: 0.5670\n",
      "[LightGBM] [Warning] num_iterations is set=200, n_iter=200 will be ignored. Current value: num_iterations=200\n",
      "[LightGBM] [Warning] min_data_in_leaf is set=168, min_child_samples=20 will be ignored. Current value: min_data_in_leaf=168\n",
      "[LightGBM] [Warning] lambda_l2 is set=1.9809163759416053, reg_lambda=0.0 will be ignored. Current value: lambda_l2=1.9809163759416053\n",
      "[LightGBM] [Warning] lambda_l1 is set=2.063108786028798, reg_alpha=0.0 will be ignored. Current value: lambda_l1=2.063108786028798\n"
     ]
    },
    {
     "name": "stderr",
     "output_type": "stream",
     "text": [
      "/opt/homebrew/Caskroom/miniforge/base/lib/python3.9/site-packages/lightgbm/engine.py:177: UserWarning: Found `n_iter` in params. Will use it instead of argument\n",
      "  _log_warning(f\"Found `{alias}` in params. Will use it instead of argument\")\n",
      "/opt/homebrew/Caskroom/miniforge/base/lib/python3.9/site-packages/lightgbm/engine.py:177: UserWarning: Found `n_iter` in params. Will use it instead of argument\n",
      "  _log_warning(f\"Found `{alias}` in params. Will use it instead of argument\")\n"
     ]
    },
    {
     "name": "stdout",
     "output_type": "stream",
     "text": [
      "[LightGBM] [Warning] num_iterations is set=200, n_iter=200 will be ignored. Current value: num_iterations=200\n",
      "[LightGBM] [Warning] min_data_in_leaf is set=168, min_child_samples=20 will be ignored. Current value: min_data_in_leaf=168\n",
      "[LightGBM] [Warning] lambda_l2 is set=1.9809163759416053, reg_lambda=0.0 will be ignored. Current value: lambda_l2=1.9809163759416053\n",
      "[LightGBM] [Warning] lambda_l1 is set=2.063108786028798, reg_alpha=0.0 will be ignored. Current value: lambda_l1=2.063108786028798\n"
     ]
    },
    {
     "name": "stderr",
     "output_type": "stream",
     "text": [
      "/opt/homebrew/Caskroom/miniforge/base/lib/python3.9/site-packages/lightgbm/engine.py:177: UserWarning: Found `n_iter` in params. Will use it instead of argument\n",
      "  _log_warning(f\"Found `{alias}` in params. Will use it instead of argument\")\n"
     ]
    },
    {
     "name": "stdout",
     "output_type": "stream",
     "text": [
      "[LightGBM] [Warning] num_iterations is set=200, n_iter=200 will be ignored. Current value: num_iterations=200\n",
      "[LightGBM] [Warning] min_data_in_leaf is set=168, min_child_samples=20 will be ignored. Current value: min_data_in_leaf=168\n",
      "[LightGBM] [Warning] lambda_l2 is set=1.9809163759416053, reg_lambda=0.0 will be ignored. Current value: lambda_l2=1.9809163759416053\n",
      "[LightGBM] [Warning] lambda_l1 is set=2.063108786028798, reg_alpha=0.0 will be ignored. Current value: lambda_l1=2.063108786028798\n"
     ]
    },
    {
     "name": "stderr",
     "output_type": "stream",
     "text": [
      "/opt/homebrew/Caskroom/miniforge/base/lib/python3.9/site-packages/lightgbm/engine.py:177: UserWarning: Found `n_iter` in params. Will use it instead of argument\n",
      "  _log_warning(f\"Found `{alias}` in params. Will use it instead of argument\")\n"
     ]
    },
    {
     "name": "stdout",
     "output_type": "stream",
     "text": [
      "[LightGBM] [Warning] num_iterations is set=200, n_iter=200 will be ignored. Current value: num_iterations=200\n",
      "[LightGBM] [Warning] min_data_in_leaf is set=168, min_child_samples=20 will be ignored. Current value: min_data_in_leaf=168\n",
      "[LightGBM] [Warning] lambda_l2 is set=1.9809163759416053, reg_lambda=0.0 will be ignored. Current value: lambda_l2=1.9809163759416053\n",
      "[LightGBM] [Warning] lambda_l1 is set=2.063108786028798, reg_alpha=0.0 will be ignored. Current value: lambda_l1=2.063108786028798\n"
     ]
    },
    {
     "name": "stderr",
     "output_type": "stream",
     "text": [
      "/opt/homebrew/Caskroom/miniforge/base/lib/python3.9/site-packages/lightgbm/engine.py:177: UserWarning: Found `n_iter` in params. Will use it instead of argument\n",
      "  _log_warning(f\"Found `{alias}` in params. Will use it instead of argument\")\n"
     ]
    },
    {
     "name": "stdout",
     "output_type": "stream",
     "text": [
      "[LightGBM] [Warning] num_iterations is set=200, n_iter=200 will be ignored. Current value: num_iterations=200\n",
      "[LightGBM] [Warning] min_data_in_leaf is set=168, min_child_samples=20 will be ignored. Current value: min_data_in_leaf=168\n",
      "[LightGBM] [Warning] lambda_l2 is set=1.9809163759416053, reg_lambda=0.0 will be ignored. Current value: lambda_l2=1.9809163759416053\n",
      "[LightGBM] [Warning] lambda_l1 is set=2.063108786028798, reg_alpha=0.0 will be ignored. Current value: lambda_l1=2.063108786028798\n"
     ]
    },
    {
     "name": "stderr",
     "output_type": "stream",
     "text": [
      "\u001b[32m[I 2023-03-14 19:35:39,822]\u001b[0m Trial 18 finished with value: 0.7033207231183802 and parameters: {'colsample_bytree': 0.8965114782805012, 'colsample_bynode': 0.873317613937075, 'max_depth': 6, 'learning_rate': 0.03789695318250636, 'lambda_l1': 2.063108786028798, 'lambda_l2': 1.9809163759416053, 'num_leaves': 429, 'min_data_in_leaf': 168}. Best is trial 15 with value: 0.49877623401352195.\u001b[0m\n"
     ]
    },
    {
     "name": "stdout",
     "output_type": "stream",
     "text": [
      "Mean SMAPE: 0.7033\n",
      "[LightGBM] [Warning] num_iterations is set=200, n_iter=200 will be ignored. Current value: num_iterations=200\n",
      "[LightGBM] [Warning] min_data_in_leaf is set=166, min_child_samples=20 will be ignored. Current value: min_data_in_leaf=166\n",
      "[LightGBM] [Warning] lambda_l2 is set=1.2552769958120122, reg_lambda=0.0 will be ignored. Current value: lambda_l2=1.2552769958120122\n",
      "[LightGBM] [Warning] lambda_l1 is set=3.817536482492845, reg_alpha=0.0 will be ignored. Current value: lambda_l1=3.817536482492845\n"
     ]
    },
    {
     "name": "stderr",
     "output_type": "stream",
     "text": [
      "/opt/homebrew/Caskroom/miniforge/base/lib/python3.9/site-packages/lightgbm/engine.py:177: UserWarning: Found `n_iter` in params. Will use it instead of argument\n",
      "  _log_warning(f\"Found `{alias}` in params. Will use it instead of argument\")\n",
      "/opt/homebrew/Caskroom/miniforge/base/lib/python3.9/site-packages/lightgbm/engine.py:177: UserWarning: Found `n_iter` in params. Will use it instead of argument\n",
      "  _log_warning(f\"Found `{alias}` in params. Will use it instead of argument\")\n"
     ]
    },
    {
     "name": "stdout",
     "output_type": "stream",
     "text": [
      "[LightGBM] [Warning] num_iterations is set=200, n_iter=200 will be ignored. Current value: num_iterations=200\n",
      "[LightGBM] [Warning] min_data_in_leaf is set=166, min_child_samples=20 will be ignored. Current value: min_data_in_leaf=166\n",
      "[LightGBM] [Warning] lambda_l2 is set=1.2552769958120122, reg_lambda=0.0 will be ignored. Current value: lambda_l2=1.2552769958120122\n",
      "[LightGBM] [Warning] lambda_l1 is set=3.817536482492845, reg_alpha=0.0 will be ignored. Current value: lambda_l1=3.817536482492845\n"
     ]
    },
    {
     "name": "stderr",
     "output_type": "stream",
     "text": [
      "/opt/homebrew/Caskroom/miniforge/base/lib/python3.9/site-packages/lightgbm/engine.py:177: UserWarning: Found `n_iter` in params. Will use it instead of argument\n",
      "  _log_warning(f\"Found `{alias}` in params. Will use it instead of argument\")\n"
     ]
    },
    {
     "name": "stdout",
     "output_type": "stream",
     "text": [
      "[LightGBM] [Warning] num_iterations is set=200, n_iter=200 will be ignored. Current value: num_iterations=200\n",
      "[LightGBM] [Warning] min_data_in_leaf is set=166, min_child_samples=20 will be ignored. Current value: min_data_in_leaf=166\n",
      "[LightGBM] [Warning] lambda_l2 is set=1.2552769958120122, reg_lambda=0.0 will be ignored. Current value: lambda_l2=1.2552769958120122\n",
      "[LightGBM] [Warning] lambda_l1 is set=3.817536482492845, reg_alpha=0.0 will be ignored. Current value: lambda_l1=3.817536482492845\n"
     ]
    },
    {
     "name": "stderr",
     "output_type": "stream",
     "text": [
      "/opt/homebrew/Caskroom/miniforge/base/lib/python3.9/site-packages/lightgbm/engine.py:177: UserWarning: Found `n_iter` in params. Will use it instead of argument\n",
      "  _log_warning(f\"Found `{alias}` in params. Will use it instead of argument\")\n"
     ]
    },
    {
     "name": "stdout",
     "output_type": "stream",
     "text": [
      "[LightGBM] [Warning] num_iterations is set=200, n_iter=200 will be ignored. Current value: num_iterations=200\n",
      "[LightGBM] [Warning] min_data_in_leaf is set=166, min_child_samples=20 will be ignored. Current value: min_data_in_leaf=166\n",
      "[LightGBM] [Warning] lambda_l2 is set=1.2552769958120122, reg_lambda=0.0 will be ignored. Current value: lambda_l2=1.2552769958120122\n",
      "[LightGBM] [Warning] lambda_l1 is set=3.817536482492845, reg_alpha=0.0 will be ignored. Current value: lambda_l1=3.817536482492845\n"
     ]
    },
    {
     "name": "stderr",
     "output_type": "stream",
     "text": [
      "/opt/homebrew/Caskroom/miniforge/base/lib/python3.9/site-packages/lightgbm/engine.py:177: UserWarning: Found `n_iter` in params. Will use it instead of argument\n",
      "  _log_warning(f\"Found `{alias}` in params. Will use it instead of argument\")\n"
     ]
    },
    {
     "name": "stdout",
     "output_type": "stream",
     "text": [
      "[LightGBM] [Warning] num_iterations is set=200, n_iter=200 will be ignored. Current value: num_iterations=200\n",
      "[LightGBM] [Warning] min_data_in_leaf is set=166, min_child_samples=20 will be ignored. Current value: min_data_in_leaf=166\n",
      "[LightGBM] [Warning] lambda_l2 is set=1.2552769958120122, reg_lambda=0.0 will be ignored. Current value: lambda_l2=1.2552769958120122\n",
      "[LightGBM] [Warning] lambda_l1 is set=3.817536482492845, reg_alpha=0.0 will be ignored. Current value: lambda_l1=3.817536482492845\n"
     ]
    },
    {
     "name": "stderr",
     "output_type": "stream",
     "text": [
      "\u001b[32m[I 2023-03-14 19:36:02,758]\u001b[0m Trial 19 finished with value: 0.5430054714553861 and parameters: {'colsample_bytree': 0.876672240265486, 'colsample_bynode': 0.8643191960002234, 'max_depth': 9, 'learning_rate': 0.07277889651307486, 'lambda_l1': 3.817536482492845, 'lambda_l2': 1.2552769958120122, 'num_leaves': 786, 'min_data_in_leaf': 166}. Best is trial 15 with value: 0.49877623401352195.\u001b[0m\n"
     ]
    },
    {
     "name": "stdout",
     "output_type": "stream",
     "text": [
      "Mean SMAPE: 0.5430\n",
      "Best trial: 0.49877623401352195 with parameters {'colsample_bytree': 0.922550834662478, 'colsample_bynode': 0.8865208494474415, 'max_depth': 9, 'learning_rate': 0.09982813819054616, 'lambda_l1': 4.135437333012513, 'lambda_l2': 1.4608779450861495, 'num_leaves': 539, 'min_data_in_leaf': 189}\n"
     ]
    }
   ],
   "source": [
    "import optuna\n",
    "import pandas as pd\n",
    "\n",
    "# Load your data into df_train and target_train\n",
    "# df_train = ...\n",
    "# target_train = ...\n",
    "\n",
    "# Create the study\n",
    "study = optuna.create_study(direction='minimize')\n",
    "\n",
    "# Optimize the study\n",
    "study.optimize(lambda trial: lgbm_objective(trial, df_train, target_train), n_trials=20)\n",
    "\n",
    "# Print the best trial\n",
    "print(f\"Best trial: {study.best_trial.value} with parameters {study.best_trial.params}\")\n"
   ]
  },
  {
   "cell_type": "code",
   "execution_count": 567,
   "metadata": {},
   "outputs": [],
   "source": [
    "import xgboost as xgb\n",
    "\n",
    "def xgb_objective(trial, df_train, target_train):\n",
    "    \"\"\"\n",
    "    Objective function for XGBoost optimization without rolling window cross-validation.\n",
    "    \"\"\"\n",
    "    params = {\n",
    "        'n_estimators': 200,\n",
    "        'verbosity': 0,\n",
    "        'objective': 'reg:squarederror',\n",
    "        'random_state': 42,\n",
    "        'colsample_bytree': trial.suggest_float('colsample_bytree', 0.1, 1.0),\n",
    "        'colsample_bynode': trial.suggest_float('colsample_bynode', 0.1, 1.0),\n",
    "        'max_depth': trial.suggest_int('max_depth', 3, 10),\n",
    "        'learning_rate': trial.suggest_float('learning_rate', 0.01, 0.1, log=True),\n",
    "        'alpha': trial.suggest_float('alpha', 1e-2, 10.0),\n",
    "        'lambda': trial.suggest_float('lambda', 1e-2, 10.0),\n",
    "        'min_child_weight': trial.suggest_int('min_child_weight', 5, 250),\n",
    "    }\n",
    "\n",
    "    model = xgb.XGBRegressor(**params)\n",
    "    score = smape_cv(model, df_train, target_train)\n",
    "    return score\n"
   ]
  },
  {
   "cell_type": "code",
   "execution_count": 569,
   "metadata": {},
   "outputs": [
    {
     "name": "stderr",
     "output_type": "stream",
     "text": [
      "\u001b[32m[I 2023-03-14 19:38:17,243]\u001b[0m A new study created in memory with name: no-name-6bced3e3-1f87-4326-8537-55141f03b4db\u001b[0m\n",
      "\u001b[32m[I 2023-03-14 19:38:37,577]\u001b[0m Trial 0 finished with value: 2.704374945494864 and parameters: {'colsample_bytree': 0.4682941391932415, 'colsample_bynode': 0.6982854631495193, 'max_depth': 8, 'learning_rate': 0.015216171491942062, 'alpha': 9.758805941563816, 'lambda': 0.4437882972622384, 'min_child_weight': 22}. Best is trial 0 with value: 2.704374945494864.\u001b[0m\n"
     ]
    },
    {
     "name": "stdout",
     "output_type": "stream",
     "text": [
      "Mean SMAPE: 2.7044\n"
     ]
    },
    {
     "name": "stderr",
     "output_type": "stream",
     "text": [
      "\u001b[32m[I 2023-03-14 19:38:52,449]\u001b[0m Trial 1 finished with value: 1.0140977498720574 and parameters: {'colsample_bytree': 0.412737287458086, 'colsample_bynode': 0.24590672717561096, 'max_depth': 6, 'learning_rate': 0.045272347755726104, 'alpha': 9.088250070490984, 'lambda': 1.9219035329453777, 'min_child_weight': 7}. Best is trial 1 with value: 1.0140977498720574.\u001b[0m\n"
     ]
    },
    {
     "name": "stdout",
     "output_type": "stream",
     "text": [
      "Mean SMAPE: 1.0141\n"
     ]
    },
    {
     "name": "stderr",
     "output_type": "stream",
     "text": [
      "\u001b[32m[I 2023-03-14 19:39:11,892]\u001b[0m Trial 2 finished with value: 0.634442486787863 and parameters: {'colsample_bytree': 0.34220562707296787, 'colsample_bynode': 0.5125269664182217, 'max_depth': 6, 'learning_rate': 0.05499796909602932, 'alpha': 3.3487545746642224, 'lambda': 2.97233068127703, 'min_child_weight': 164}. Best is trial 2 with value: 0.634442486787863.\u001b[0m\n"
     ]
    },
    {
     "name": "stdout",
     "output_type": "stream",
     "text": [
      "Mean SMAPE: 0.6344\n"
     ]
    },
    {
     "name": "stderr",
     "output_type": "stream",
     "text": [
      "\u001b[32m[I 2023-03-14 19:40:04,890]\u001b[0m Trial 3 finished with value: 0.3947248514907172 and parameters: {'colsample_bytree': 0.9704938060255041, 'colsample_bynode': 0.6347958159527731, 'max_depth': 8, 'learning_rate': 0.07148620646545495, 'alpha': 5.637277708051547, 'lambda': 2.1040886445097766, 'min_child_weight': 131}. Best is trial 3 with value: 0.3947248514907172.\u001b[0m\n"
     ]
    },
    {
     "name": "stdout",
     "output_type": "stream",
     "text": [
      "Mean SMAPE: 0.3947\n"
     ]
    },
    {
     "name": "stderr",
     "output_type": "stream",
     "text": [
      "\u001b[32m[I 2023-03-14 19:40:19,716]\u001b[0m Trial 4 finished with value: 4.415756868484651 and parameters: {'colsample_bytree': 0.43317525570134396, 'colsample_bynode': 0.5479895614972511, 'max_depth': 5, 'learning_rate': 0.012556416286093395, 'alpha': 3.803379833191915, 'lambda': 7.573408106063435, 'min_child_weight': 99}. Best is trial 3 with value: 0.3947248514907172.\u001b[0m\n"
     ]
    },
    {
     "name": "stdout",
     "output_type": "stream",
     "text": [
      "Mean SMAPE: 4.4158\n"
     ]
    },
    {
     "name": "stderr",
     "output_type": "stream",
     "text": [
      "\u001b[32m[I 2023-03-14 19:40:26,434]\u001b[0m Trial 5 finished with value: 2.3727163816313572 and parameters: {'colsample_bytree': 0.16841460812657605, 'colsample_bynode': 0.2695972141646038, 'max_depth': 3, 'learning_rate': 0.04437588681751722, 'alpha': 6.477419844861327, 'lambda': 9.7624847104419, 'min_child_weight': 223}. Best is trial 3 with value: 0.3947248514907172.\u001b[0m\n"
     ]
    },
    {
     "name": "stdout",
     "output_type": "stream",
     "text": [
      "Mean SMAPE: 2.3727\n"
     ]
    },
    {
     "name": "stderr",
     "output_type": "stream",
     "text": [
      "\u001b[32m[I 2023-03-14 19:40:36,534]\u001b[0m Trial 6 finished with value: 3.086685909456854 and parameters: {'colsample_bytree': 0.11236394790089554, 'colsample_bynode': 0.7691182043135943, 'max_depth': 8, 'learning_rate': 0.01879933494761972, 'alpha': 5.979739570588936, 'lambda': 8.722094960761007, 'min_child_weight': 85}. Best is trial 3 with value: 0.3947248514907172.\u001b[0m\n"
     ]
    },
    {
     "name": "stdout",
     "output_type": "stream",
     "text": [
      "Mean SMAPE: 3.0867\n"
     ]
    },
    {
     "name": "stderr",
     "output_type": "stream",
     "text": [
      "\u001b[32m[I 2023-03-14 19:40:52,036]\u001b[0m Trial 7 finished with value: 1.103094195365116 and parameters: {'colsample_bytree': 0.1626064839356779, 'colsample_bynode': 0.5889749587825721, 'max_depth': 7, 'learning_rate': 0.06559151330886043, 'alpha': 5.869296614911299, 'lambda': 8.40109276010664, 'min_child_weight': 114}. Best is trial 3 with value: 0.3947248514907172.\u001b[0m\n"
     ]
    },
    {
     "name": "stdout",
     "output_type": "stream",
     "text": [
      "Mean SMAPE: 1.1031\n"
     ]
    },
    {
     "name": "stderr",
     "output_type": "stream",
     "text": [
      "\u001b[32m[I 2023-03-14 19:41:48,713]\u001b[0m Trial 8 finished with value: 0.37355391510470765 and parameters: {'colsample_bytree': 0.9811239871446191, 'colsample_bynode': 0.9880110640642417, 'max_depth': 10, 'learning_rate': 0.02664991657063991, 'alpha': 8.694159070362746, 'lambda': 3.198759207939015, 'min_child_weight': 32}. Best is trial 8 with value: 0.37355391510470765.\u001b[0m\n"
     ]
    },
    {
     "name": "stdout",
     "output_type": "stream",
     "text": [
      "Mean SMAPE: 0.3736\n"
     ]
    },
    {
     "name": "stderr",
     "output_type": "stream",
     "text": [
      "\u001b[32m[I 2023-03-14 19:41:54,026]\u001b[0m Trial 9 finished with value: 5.5722010116715515 and parameters: {'colsample_bytree': 0.16747325557100784, 'colsample_bynode': 0.21400761085049358, 'max_depth': 7, 'learning_rate': 0.012061107934022442, 'alpha': 8.39774298017449, 'lambda': 6.875664527028463, 'min_child_weight': 57}. Best is trial 8 with value: 0.37355391510470765.\u001b[0m\n"
     ]
    },
    {
     "name": "stdout",
     "output_type": "stream",
     "text": [
      "Mean SMAPE: 5.5722\n"
     ]
    },
    {
     "name": "stderr",
     "output_type": "stream",
     "text": [
      "\u001b[32m[I 2023-03-14 19:43:10,036]\u001b[0m Trial 10 finished with value: 0.6030201477390257 and parameters: {'colsample_bytree': 0.9824505003489774, 'colsample_bynode': 0.9909140551039898, 'max_depth': 10, 'learning_rate': 0.025266628462142584, 'alpha': 0.9430175016124718, 'lambda': 4.561797020462248, 'min_child_weight': 247}. Best is trial 8 with value: 0.37355391510470765.\u001b[0m\n"
     ]
    },
    {
     "name": "stdout",
     "output_type": "stream",
     "text": [
      "Mean SMAPE: 0.6030\n"
     ]
    },
    {
     "name": "stderr",
     "output_type": "stream",
     "text": [
      "\u001b[32m[I 2023-03-14 19:44:28,255]\u001b[0m Trial 11 finished with value: 0.40770975313113167 and parameters: {'colsample_bytree': 0.9963081468724337, 'colsample_bynode': 0.9783536463800468, 'max_depth': 10, 'learning_rate': 0.09506606128845521, 'alpha': 7.804857418111723, 'lambda': 3.386831516086929, 'min_child_weight': 161}. Best is trial 8 with value: 0.37355391510470765.\u001b[0m\n"
     ]
    },
    {
     "name": "stdout",
     "output_type": "stream",
     "text": [
      "Mean SMAPE: 0.4077\n"
     ]
    },
    {
     "name": "stderr",
     "output_type": "stream",
     "text": [
      "\u001b[32m[I 2023-03-14 19:45:09,696]\u001b[0m Trial 12 finished with value: 0.4403990640213202 and parameters: {'colsample_bytree': 0.8325631133608942, 'colsample_bynode': 0.847944309746787, 'max_depth': 9, 'learning_rate': 0.029230889918562417, 'alpha': 7.749936615036565, 'lambda': 0.06375027081316675, 'min_child_weight': 157}. Best is trial 8 with value: 0.37355391510470765.\u001b[0m\n"
     ]
    },
    {
     "name": "stdout",
     "output_type": "stream",
     "text": [
      "Mean SMAPE: 0.4404\n"
     ]
    },
    {
     "name": "stderr",
     "output_type": "stream",
     "text": [
      "\u001b[32m[I 2023-03-14 19:45:58,743]\u001b[0m Trial 13 finished with value: 0.3231983642535061 and parameters: {'colsample_bytree': 0.7769442483931559, 'colsample_bynode': 0.8687191780722157, 'max_depth': 9, 'learning_rate': 0.035130120924274415, 'alpha': 7.049640654593863, 'lambda': 5.149566711277331, 'min_child_weight': 46}. Best is trial 13 with value: 0.3231983642535061.\u001b[0m\n"
     ]
    },
    {
     "name": "stdout",
     "output_type": "stream",
     "text": [
      "Mean SMAPE: 0.3232\n"
     ]
    },
    {
     "name": "stderr",
     "output_type": "stream",
     "text": [
      "\u001b[32m[I 2023-03-14 19:46:38,685]\u001b[0m Trial 14 finished with value: 0.6570556218623265 and parameters: {'colsample_bytree': 0.7762297490990856, 'colsample_bynode': 0.8504486297064486, 'max_depth': 10, 'learning_rate': 0.023373659695271845, 'alpha': 9.813455752540357, 'lambda': 5.6591762440070905, 'min_child_weight': 47}. Best is trial 13 with value: 0.3231983642535061.\u001b[0m\n"
     ]
    },
    {
     "name": "stdout",
     "output_type": "stream",
     "text": [
      "Mean SMAPE: 0.6571\n"
     ]
    },
    {
     "name": "stderr",
     "output_type": "stream",
     "text": [
      "\u001b[32m[I 2023-03-14 19:47:29,049]\u001b[0m Trial 15 finished with value: 0.33660470573846124 and parameters: {'colsample_bytree': 0.6802133288252847, 'colsample_bynode': 0.9992080325123118, 'max_depth': 9, 'learning_rate': 0.03489024768696658, 'alpha': 7.463047108437568, 'lambda': 5.119704029077876, 'min_child_weight': 60}. Best is trial 13 with value: 0.3231983642535061.\u001b[0m\n"
     ]
    },
    {
     "name": "stdout",
     "output_type": "stream",
     "text": [
      "Mean SMAPE: 0.3366\n"
     ]
    },
    {
     "name": "stderr",
     "output_type": "stream",
     "text": [
      "\u001b[32m[I 2023-03-14 19:48:14,294]\u001b[0m Trial 16 finished with value: 0.3562230731827654 and parameters: {'colsample_bytree': 0.6412056135826667, 'colsample_bynode': 0.8687727899684035, 'max_depth': 9, 'learning_rate': 0.03616614468305965, 'alpha': 7.121859642173829, 'lambda': 5.319228675640063, 'min_child_weight': 69}. Best is trial 13 with value: 0.3231983642535061.\u001b[0m\n"
     ]
    },
    {
     "name": "stdout",
     "output_type": "stream",
     "text": [
      "Mean SMAPE: 0.3562\n"
     ]
    },
    {
     "name": "stderr",
     "output_type": "stream",
     "text": [
      "\u001b[32m[I 2023-03-14 19:48:40,741]\u001b[0m Trial 17 finished with value: 0.3431757253487018 and parameters: {'colsample_bytree': 0.6647946424243605, 'colsample_bynode': 0.7524799347984756, 'max_depth': 4, 'learning_rate': 0.03584456963000797, 'alpha': 6.8631961821855505, 'lambda': 6.295863302066506, 'min_child_weight': 75}. Best is trial 13 with value: 0.3231983642535061.\u001b[0m\n"
     ]
    },
    {
     "name": "stdout",
     "output_type": "stream",
     "text": [
      "Mean SMAPE: 0.3432\n"
     ]
    },
    {
     "name": "stderr",
     "output_type": "stream",
     "text": [
      "\u001b[32m[I 2023-03-14 19:49:24,973]\u001b[0m Trial 18 finished with value: 0.315527144979913 and parameters: {'colsample_bytree': 0.5883228563151464, 'colsample_bynode': 0.9155622657255146, 'max_depth': 9, 'learning_rate': 0.03430375555235966, 'alpha': 4.988248109104449, 'lambda': 4.468698542706674, 'min_child_weight': 37}. Best is trial 18 with value: 0.315527144979913.\u001b[0m\n"
     ]
    },
    {
     "name": "stdout",
     "output_type": "stream",
     "text": [
      "Mean SMAPE: 0.3155\n"
     ]
    },
    {
     "name": "stderr",
     "output_type": "stream",
     "text": [
      "\u001b[32m[I 2023-03-14 19:50:01,766]\u001b[0m Trial 19 finished with value: 0.8859331945999285 and parameters: {'colsample_bytree': 0.5773300076132888, 'colsample_bynode': 0.8847151268331112, 'max_depth': 8, 'learning_rate': 0.021424951740198376, 'alpha': 5.073678663990298, 'lambda': 4.150987577386679, 'min_child_weight': 11}. Best is trial 18 with value: 0.315527144979913.\u001b[0m\n"
     ]
    },
    {
     "name": "stdout",
     "output_type": "stream",
     "text": [
      "Mean SMAPE: 0.8859\n"
     ]
    },
    {
     "name": "stderr",
     "output_type": "stream",
     "text": [
      "\u001b[32m[I 2023-03-14 19:50:37,353]\u001b[0m Trial 20 finished with value: 0.39584091248838166 and parameters: {'colsample_bytree': 0.781973649355837, 'colsample_bynode': 0.4424624425573453, 'max_depth': 9, 'learning_rate': 0.03199835147273825, 'alpha': 4.200717806611307, 'lambda': 5.713394732051283, 'min_child_weight': 35}. Best is trial 18 with value: 0.315527144979913.\u001b[0m\n"
     ]
    },
    {
     "name": "stdout",
     "output_type": "stream",
     "text": [
      "Mean SMAPE: 0.3958\n"
     ]
    },
    {
     "name": "stderr",
     "output_type": "stream",
     "text": [
      "\u001b[32m[I 2023-03-14 19:51:22,080]\u001b[0m Trial 21 finished with value: 0.36987006114431986 and parameters: {'colsample_bytree': 0.5965624031035428, 'colsample_bynode': 0.9207417229022221, 'max_depth': 9, 'learning_rate': 0.03806193014213736, 'alpha': 7.220679973813675, 'lambda': 4.689041264784632, 'min_child_weight': 50}. Best is trial 18 with value: 0.315527144979913.\u001b[0m\n"
     ]
    },
    {
     "name": "stdout",
     "output_type": "stream",
     "text": [
      "Mean SMAPE: 0.3699\n"
     ]
    },
    {
     "name": "stderr",
     "output_type": "stream",
     "text": [
      "\u001b[32m[I 2023-03-14 19:52:02,547]\u001b[0m Trial 22 finished with value: 0.4246261860663479 and parameters: {'colsample_bytree': 0.6755389950457995, 'colsample_bynode': 0.7937964175799626, 'max_depth': 9, 'learning_rate': 0.02992040013461166, 'alpha': 4.830671050216401, 'lambda': 6.37718516440858, 'min_child_weight': 90}. Best is trial 18 with value: 0.315527144979913.\u001b[0m\n"
     ]
    },
    {
     "name": "stdout",
     "output_type": "stream",
     "text": [
      "Mean SMAPE: 0.4246\n"
     ]
    },
    {
     "name": "stderr",
     "output_type": "stream",
     "text": [
      "\u001b[33m[W 2023-03-14 19:52:06,134]\u001b[0m Trial 23 failed with parameters: {'colsample_bytree': 0.5208313996967846, 'colsample_bynode': 0.9120042568617732, 'max_depth': 7, 'learning_rate': 0.04413552365828709, 'alpha': 7.725905284934811, 'lambda': 5.1487578637215226, 'min_child_weight': 65} because of the following error: KeyboardInterrupt().\u001b[0m\n",
      "Traceback (most recent call last):\n",
      "  File \"/opt/homebrew/Caskroom/miniforge/base/lib/python3.9/site-packages/optuna/study/_optimize.py\", line 200, in _run_trial\n",
      "    value_or_values = func(trial)\n",
      "  File \"/var/folders/bb/g8c6d14n37lb8f846cg2t1_m0000gn/T/ipykernel_28597/2937589560.py\", line 5, in <lambda>\n",
      "    study.optimize(lambda trial: xgb_objective(trial, df_train, target_train), n_trials=30)\n",
      "  File \"/var/folders/bb/g8c6d14n37lb8f846cg2t1_m0000gn/T/ipykernel_28597/3957172496.py\", line 22, in xgb_objective\n",
      "    score = smape_cv(model, df_train, target_train)\n",
      "  File \"/var/folders/bb/g8c6d14n37lb8f846cg2t1_m0000gn/T/ipykernel_28597/3551183721.py\", line 21, in smape_cv\n",
      "    model.fit(X_train, y_train)\n",
      "  File \"/opt/homebrew/Caskroom/miniforge/base/lib/python3.9/site-packages/xgboost/core.py\", line 620, in inner_f\n",
      "    return func(**kwargs)\n",
      "  File \"/opt/homebrew/Caskroom/miniforge/base/lib/python3.9/site-packages/xgboost/sklearn.py\", line 1051, in fit\n",
      "    self._Booster = train(\n",
      "  File \"/opt/homebrew/Caskroom/miniforge/base/lib/python3.9/site-packages/xgboost/core.py\", line 620, in inner_f\n",
      "    return func(**kwargs)\n",
      "  File \"/opt/homebrew/Caskroom/miniforge/base/lib/python3.9/site-packages/xgboost/training.py\", line 185, in train\n",
      "    bst.update(dtrain, i, obj)\n",
      "  File \"/opt/homebrew/Caskroom/miniforge/base/lib/python3.9/site-packages/xgboost/core.py\", line 1918, in update\n",
      "    _check_call(_LIB.XGBoosterUpdateOneIter(self.handle,\n",
      "KeyboardInterrupt\n",
      "\u001b[33m[W 2023-03-14 19:52:06,137]\u001b[0m Trial 23 failed with value None.\u001b[0m\n"
     ]
    },
    {
     "ename": "KeyboardInterrupt",
     "evalue": "",
     "output_type": "error",
     "traceback": [
      "\u001b[0;31m---------------------------------------------------------------------------\u001b[0m",
      "\u001b[0;31mKeyboardInterrupt\u001b[0m                         Traceback (most recent call last)",
      "Cell \u001b[0;32mIn[569], line 5\u001b[0m\n\u001b[1;32m      2\u001b[0m study \u001b[39m=\u001b[39m optuna\u001b[39m.\u001b[39mcreate_study(direction\u001b[39m=\u001b[39m\u001b[39m'\u001b[39m\u001b[39mminimize\u001b[39m\u001b[39m'\u001b[39m)\n\u001b[1;32m      4\u001b[0m \u001b[39m# Optimize the study\u001b[39;00m\n\u001b[0;32m----> 5\u001b[0m study\u001b[39m.\u001b[39;49moptimize(\u001b[39mlambda\u001b[39;49;00m trial: xgb_objective(trial, df_train, target_train), n_trials\u001b[39m=\u001b[39;49m\u001b[39m30\u001b[39;49m)\n\u001b[1;32m      7\u001b[0m \u001b[39m# Print the best trial\u001b[39;00m\n\u001b[1;32m      8\u001b[0m \u001b[39mprint\u001b[39m(\u001b[39mf\u001b[39m\u001b[39m\"\u001b[39m\u001b[39mBest trial: \u001b[39m\u001b[39m{\u001b[39;00mstudy\u001b[39m.\u001b[39mbest_trial\u001b[39m.\u001b[39mvalue\u001b[39m}\u001b[39;00m\u001b[39m with parameters \u001b[39m\u001b[39m{\u001b[39;00mstudy\u001b[39m.\u001b[39mbest_trial\u001b[39m.\u001b[39mparams\u001b[39m}\u001b[39;00m\u001b[39m\"\u001b[39m)\n",
      "File \u001b[0;32m/opt/homebrew/Caskroom/miniforge/base/lib/python3.9/site-packages/optuna/study/study.py:425\u001b[0m, in \u001b[0;36mStudy.optimize\u001b[0;34m(self, func, n_trials, timeout, n_jobs, catch, callbacks, gc_after_trial, show_progress_bar)\u001b[0m\n\u001b[1;32m    321\u001b[0m \u001b[39mdef\u001b[39;00m \u001b[39moptimize\u001b[39m(\n\u001b[1;32m    322\u001b[0m     \u001b[39mself\u001b[39m,\n\u001b[1;32m    323\u001b[0m     func: ObjectiveFuncType,\n\u001b[0;32m   (...)\u001b[0m\n\u001b[1;32m    330\u001b[0m     show_progress_bar: \u001b[39mbool\u001b[39m \u001b[39m=\u001b[39m \u001b[39mFalse\u001b[39;00m,\n\u001b[1;32m    331\u001b[0m ) \u001b[39m-\u001b[39m\u001b[39m>\u001b[39m \u001b[39mNone\u001b[39;00m:\n\u001b[1;32m    332\u001b[0m \u001b[39m    \u001b[39m\u001b[39m\"\"\"Optimize an objective function.\u001b[39;00m\n\u001b[1;32m    333\u001b[0m \n\u001b[1;32m    334\u001b[0m \u001b[39m    Optimization is done by choosing a suitable set of hyperparameter values from a given\u001b[39;00m\n\u001b[0;32m   (...)\u001b[0m\n\u001b[1;32m    422\u001b[0m \u001b[39m            If nested invocation of this method occurs.\u001b[39;00m\n\u001b[1;32m    423\u001b[0m \u001b[39m    \"\"\"\u001b[39;00m\n\u001b[0;32m--> 425\u001b[0m     _optimize(\n\u001b[1;32m    426\u001b[0m         study\u001b[39m=\u001b[39;49m\u001b[39mself\u001b[39;49m,\n\u001b[1;32m    427\u001b[0m         func\u001b[39m=\u001b[39;49mfunc,\n\u001b[1;32m    428\u001b[0m         n_trials\u001b[39m=\u001b[39;49mn_trials,\n\u001b[1;32m    429\u001b[0m         timeout\u001b[39m=\u001b[39;49mtimeout,\n\u001b[1;32m    430\u001b[0m         n_jobs\u001b[39m=\u001b[39;49mn_jobs,\n\u001b[1;32m    431\u001b[0m         catch\u001b[39m=\u001b[39;49m\u001b[39mtuple\u001b[39;49m(catch) \u001b[39mif\u001b[39;49;00m \u001b[39misinstance\u001b[39;49m(catch, Iterable) \u001b[39melse\u001b[39;49;00m (catch,),\n\u001b[1;32m    432\u001b[0m         callbacks\u001b[39m=\u001b[39;49mcallbacks,\n\u001b[1;32m    433\u001b[0m         gc_after_trial\u001b[39m=\u001b[39;49mgc_after_trial,\n\u001b[1;32m    434\u001b[0m         show_progress_bar\u001b[39m=\u001b[39;49mshow_progress_bar,\n\u001b[1;32m    435\u001b[0m     )\n",
      "File \u001b[0;32m/opt/homebrew/Caskroom/miniforge/base/lib/python3.9/site-packages/optuna/study/_optimize.py:66\u001b[0m, in \u001b[0;36m_optimize\u001b[0;34m(study, func, n_trials, timeout, n_jobs, catch, callbacks, gc_after_trial, show_progress_bar)\u001b[0m\n\u001b[1;32m     64\u001b[0m \u001b[39mtry\u001b[39;00m:\n\u001b[1;32m     65\u001b[0m     \u001b[39mif\u001b[39;00m n_jobs \u001b[39m==\u001b[39m \u001b[39m1\u001b[39m:\n\u001b[0;32m---> 66\u001b[0m         _optimize_sequential(\n\u001b[1;32m     67\u001b[0m             study,\n\u001b[1;32m     68\u001b[0m             func,\n\u001b[1;32m     69\u001b[0m             n_trials,\n\u001b[1;32m     70\u001b[0m             timeout,\n\u001b[1;32m     71\u001b[0m             catch,\n\u001b[1;32m     72\u001b[0m             callbacks,\n\u001b[1;32m     73\u001b[0m             gc_after_trial,\n\u001b[1;32m     74\u001b[0m             reseed_sampler_rng\u001b[39m=\u001b[39;49m\u001b[39mFalse\u001b[39;49;00m,\n\u001b[1;32m     75\u001b[0m             time_start\u001b[39m=\u001b[39;49m\u001b[39mNone\u001b[39;49;00m,\n\u001b[1;32m     76\u001b[0m             progress_bar\u001b[39m=\u001b[39;49mprogress_bar,\n\u001b[1;32m     77\u001b[0m         )\n\u001b[1;32m     78\u001b[0m     \u001b[39melse\u001b[39;00m:\n\u001b[1;32m     79\u001b[0m         \u001b[39mif\u001b[39;00m n_jobs \u001b[39m==\u001b[39m \u001b[39m-\u001b[39m\u001b[39m1\u001b[39m:\n",
      "File \u001b[0;32m/opt/homebrew/Caskroom/miniforge/base/lib/python3.9/site-packages/optuna/study/_optimize.py:163\u001b[0m, in \u001b[0;36m_optimize_sequential\u001b[0;34m(study, func, n_trials, timeout, catch, callbacks, gc_after_trial, reseed_sampler_rng, time_start, progress_bar)\u001b[0m\n\u001b[1;32m    160\u001b[0m         \u001b[39mbreak\u001b[39;00m\n\u001b[1;32m    162\u001b[0m \u001b[39mtry\u001b[39;00m:\n\u001b[0;32m--> 163\u001b[0m     frozen_trial \u001b[39m=\u001b[39m _run_trial(study, func, catch)\n\u001b[1;32m    164\u001b[0m \u001b[39mfinally\u001b[39;00m:\n\u001b[1;32m    165\u001b[0m     \u001b[39m# The following line mitigates memory problems that can be occurred in some\u001b[39;00m\n\u001b[1;32m    166\u001b[0m     \u001b[39m# environments (e.g., services that use computing containers such as GitHub Actions).\u001b[39;00m\n\u001b[1;32m    167\u001b[0m     \u001b[39m# Please refer to the following PR for further details:\u001b[39;00m\n\u001b[1;32m    168\u001b[0m     \u001b[39m# https://github.com/optuna/optuna/pull/325.\u001b[39;00m\n\u001b[1;32m    169\u001b[0m     \u001b[39mif\u001b[39;00m gc_after_trial:\n",
      "File \u001b[0;32m/opt/homebrew/Caskroom/miniforge/base/lib/python3.9/site-packages/optuna/study/_optimize.py:251\u001b[0m, in \u001b[0;36m_run_trial\u001b[0;34m(study, func, catch)\u001b[0m\n\u001b[1;32m    244\u001b[0m         \u001b[39massert\u001b[39;00m \u001b[39mFalse\u001b[39;00m, \u001b[39m\"\u001b[39m\u001b[39mShould not reach.\u001b[39m\u001b[39m\"\u001b[39m\n\u001b[1;32m    246\u001b[0m \u001b[39mif\u001b[39;00m (\n\u001b[1;32m    247\u001b[0m     frozen_trial\u001b[39m.\u001b[39mstate \u001b[39m==\u001b[39m TrialState\u001b[39m.\u001b[39mFAIL\n\u001b[1;32m    248\u001b[0m     \u001b[39mand\u001b[39;00m func_err \u001b[39mis\u001b[39;00m \u001b[39mnot\u001b[39;00m \u001b[39mNone\u001b[39;00m\n\u001b[1;32m    249\u001b[0m     \u001b[39mand\u001b[39;00m \u001b[39mnot\u001b[39;00m \u001b[39misinstance\u001b[39m(func_err, catch)\n\u001b[1;32m    250\u001b[0m ):\n\u001b[0;32m--> 251\u001b[0m     \u001b[39mraise\u001b[39;00m func_err\n\u001b[1;32m    252\u001b[0m \u001b[39mreturn\u001b[39;00m frozen_trial\n",
      "File \u001b[0;32m/opt/homebrew/Caskroom/miniforge/base/lib/python3.9/site-packages/optuna/study/_optimize.py:200\u001b[0m, in \u001b[0;36m_run_trial\u001b[0;34m(study, func, catch)\u001b[0m\n\u001b[1;32m    198\u001b[0m \u001b[39mwith\u001b[39;00m get_heartbeat_thread(trial\u001b[39m.\u001b[39m_trial_id, study\u001b[39m.\u001b[39m_storage):\n\u001b[1;32m    199\u001b[0m     \u001b[39mtry\u001b[39;00m:\n\u001b[0;32m--> 200\u001b[0m         value_or_values \u001b[39m=\u001b[39m func(trial)\n\u001b[1;32m    201\u001b[0m     \u001b[39mexcept\u001b[39;00m exceptions\u001b[39m.\u001b[39mTrialPruned \u001b[39mas\u001b[39;00m e:\n\u001b[1;32m    202\u001b[0m         \u001b[39m# TODO(mamu): Handle multi-objective cases.\u001b[39;00m\n\u001b[1;32m    203\u001b[0m         state \u001b[39m=\u001b[39m TrialState\u001b[39m.\u001b[39mPRUNED\n",
      "Cell \u001b[0;32mIn[569], line 5\u001b[0m, in \u001b[0;36m<lambda>\u001b[0;34m(trial)\u001b[0m\n\u001b[1;32m      2\u001b[0m study \u001b[39m=\u001b[39m optuna\u001b[39m.\u001b[39mcreate_study(direction\u001b[39m=\u001b[39m\u001b[39m'\u001b[39m\u001b[39mminimize\u001b[39m\u001b[39m'\u001b[39m)\n\u001b[1;32m      4\u001b[0m \u001b[39m# Optimize the study\u001b[39;00m\n\u001b[0;32m----> 5\u001b[0m study\u001b[39m.\u001b[39moptimize(\u001b[39mlambda\u001b[39;00m trial: xgb_objective(trial, df_train, target_train), n_trials\u001b[39m=\u001b[39m\u001b[39m30\u001b[39m)\n\u001b[1;32m      7\u001b[0m \u001b[39m# Print the best trial\u001b[39;00m\n\u001b[1;32m      8\u001b[0m \u001b[39mprint\u001b[39m(\u001b[39mf\u001b[39m\u001b[39m\"\u001b[39m\u001b[39mBest trial: \u001b[39m\u001b[39m{\u001b[39;00mstudy\u001b[39m.\u001b[39mbest_trial\u001b[39m.\u001b[39mvalue\u001b[39m}\u001b[39;00m\u001b[39m with parameters \u001b[39m\u001b[39m{\u001b[39;00mstudy\u001b[39m.\u001b[39mbest_trial\u001b[39m.\u001b[39mparams\u001b[39m}\u001b[39;00m\u001b[39m\"\u001b[39m)\n",
      "Cell \u001b[0;32mIn[567], line 22\u001b[0m, in \u001b[0;36mxgb_objective\u001b[0;34m(trial, df_train, target_train)\u001b[0m\n\u001b[1;32m      7\u001b[0m params \u001b[39m=\u001b[39m {\n\u001b[1;32m      8\u001b[0m     \u001b[39m'\u001b[39m\u001b[39mn_estimators\u001b[39m\u001b[39m'\u001b[39m: \u001b[39m200\u001b[39m,\n\u001b[1;32m      9\u001b[0m     \u001b[39m'\u001b[39m\u001b[39mverbosity\u001b[39m\u001b[39m'\u001b[39m: \u001b[39m0\u001b[39m,\n\u001b[0;32m   (...)\u001b[0m\n\u001b[1;32m     18\u001b[0m     \u001b[39m'\u001b[39m\u001b[39mmin_child_weight\u001b[39m\u001b[39m'\u001b[39m: trial\u001b[39m.\u001b[39msuggest_int(\u001b[39m'\u001b[39m\u001b[39mmin_child_weight\u001b[39m\u001b[39m'\u001b[39m, \u001b[39m5\u001b[39m, \u001b[39m250\u001b[39m),\n\u001b[1;32m     19\u001b[0m }\n\u001b[1;32m     21\u001b[0m model \u001b[39m=\u001b[39m xgb\u001b[39m.\u001b[39mXGBRegressor(\u001b[39m*\u001b[39m\u001b[39m*\u001b[39mparams)\n\u001b[0;32m---> 22\u001b[0m score \u001b[39m=\u001b[39m smape_cv(model, df_train, target_train)\n\u001b[1;32m     23\u001b[0m \u001b[39mreturn\u001b[39;00m score\n",
      "Cell \u001b[0;32mIn[551], line 21\u001b[0m, in \u001b[0;36msmape_cv\u001b[0;34m(model, df_train, target_train)\u001b[0m\n\u001b[1;32m     18\u001b[0m y_valid \u001b[39m=\u001b[39m target_train\u001b[39m.\u001b[39miloc[test_index]\n\u001b[1;32m     20\u001b[0m \u001b[39m# Train the model\u001b[39;00m\n\u001b[0;32m---> 21\u001b[0m model\u001b[39m.\u001b[39;49mfit(X_train, y_train)\n\u001b[1;32m     23\u001b[0m \u001b[39m# Make predictions\u001b[39;00m\n\u001b[1;32m     24\u001b[0m y_pred \u001b[39m=\u001b[39m np\u001b[39m.\u001b[39mexp(model\u001b[39m.\u001b[39mpredict(X_valid)) \u001b[39m*\u001b[39m X_valid[\u001b[39m'\u001b[39m\u001b[39mmicrobusiness_density\u001b[39m\u001b[39m'\u001b[39m]\n",
      "File \u001b[0;32m/opt/homebrew/Caskroom/miniforge/base/lib/python3.9/site-packages/xgboost/core.py:620\u001b[0m, in \u001b[0;36mrequire_keyword_args.<locals>.throw_if.<locals>.inner_f\u001b[0;34m(*args, **kwargs)\u001b[0m\n\u001b[1;32m    618\u001b[0m \u001b[39mfor\u001b[39;00m k, arg \u001b[39min\u001b[39;00m \u001b[39mzip\u001b[39m(sig\u001b[39m.\u001b[39mparameters, args):\n\u001b[1;32m    619\u001b[0m     kwargs[k] \u001b[39m=\u001b[39m arg\n\u001b[0;32m--> 620\u001b[0m \u001b[39mreturn\u001b[39;00m func(\u001b[39m*\u001b[39;49m\u001b[39m*\u001b[39;49mkwargs)\n",
      "File \u001b[0;32m/opt/homebrew/Caskroom/miniforge/base/lib/python3.9/site-packages/xgboost/sklearn.py:1051\u001b[0m, in \u001b[0;36mXGBModel.fit\u001b[0;34m(self, X, y, sample_weight, base_margin, eval_set, eval_metric, early_stopping_rounds, verbose, xgb_model, sample_weight_eval_set, base_margin_eval_set, feature_weights, callbacks)\u001b[0m\n\u001b[1;32m   1040\u001b[0m     obj \u001b[39m=\u001b[39m \u001b[39mNone\u001b[39;00m\n\u001b[1;32m   1042\u001b[0m (\n\u001b[1;32m   1043\u001b[0m     model,\n\u001b[1;32m   1044\u001b[0m     metric,\n\u001b[0;32m   (...)\u001b[0m\n\u001b[1;32m   1049\u001b[0m     xgb_model, eval_metric, params, early_stopping_rounds, callbacks\n\u001b[1;32m   1050\u001b[0m )\n\u001b[0;32m-> 1051\u001b[0m \u001b[39mself\u001b[39m\u001b[39m.\u001b[39m_Booster \u001b[39m=\u001b[39m train(\n\u001b[1;32m   1052\u001b[0m     params,\n\u001b[1;32m   1053\u001b[0m     train_dmatrix,\n\u001b[1;32m   1054\u001b[0m     \u001b[39mself\u001b[39;49m\u001b[39m.\u001b[39;49mget_num_boosting_rounds(),\n\u001b[1;32m   1055\u001b[0m     evals\u001b[39m=\u001b[39;49mevals,\n\u001b[1;32m   1056\u001b[0m     early_stopping_rounds\u001b[39m=\u001b[39;49mearly_stopping_rounds,\n\u001b[1;32m   1057\u001b[0m     evals_result\u001b[39m=\u001b[39;49mevals_result,\n\u001b[1;32m   1058\u001b[0m     obj\u001b[39m=\u001b[39;49mobj,\n\u001b[1;32m   1059\u001b[0m     custom_metric\u001b[39m=\u001b[39;49mmetric,\n\u001b[1;32m   1060\u001b[0m     verbose_eval\u001b[39m=\u001b[39;49mverbose,\n\u001b[1;32m   1061\u001b[0m     xgb_model\u001b[39m=\u001b[39;49mmodel,\n\u001b[1;32m   1062\u001b[0m     callbacks\u001b[39m=\u001b[39;49mcallbacks,\n\u001b[1;32m   1063\u001b[0m )\n\u001b[1;32m   1065\u001b[0m \u001b[39mself\u001b[39m\u001b[39m.\u001b[39m_set_evaluation_result(evals_result)\n\u001b[1;32m   1066\u001b[0m \u001b[39mreturn\u001b[39;00m \u001b[39mself\u001b[39m\n",
      "File \u001b[0;32m/opt/homebrew/Caskroom/miniforge/base/lib/python3.9/site-packages/xgboost/core.py:620\u001b[0m, in \u001b[0;36mrequire_keyword_args.<locals>.throw_if.<locals>.inner_f\u001b[0;34m(*args, **kwargs)\u001b[0m\n\u001b[1;32m    618\u001b[0m \u001b[39mfor\u001b[39;00m k, arg \u001b[39min\u001b[39;00m \u001b[39mzip\u001b[39m(sig\u001b[39m.\u001b[39mparameters, args):\n\u001b[1;32m    619\u001b[0m     kwargs[k] \u001b[39m=\u001b[39m arg\n\u001b[0;32m--> 620\u001b[0m \u001b[39mreturn\u001b[39;00m func(\u001b[39m*\u001b[39;49m\u001b[39m*\u001b[39;49mkwargs)\n",
      "File \u001b[0;32m/opt/homebrew/Caskroom/miniforge/base/lib/python3.9/site-packages/xgboost/training.py:185\u001b[0m, in \u001b[0;36mtrain\u001b[0;34m(params, dtrain, num_boost_round, evals, obj, feval, maximize, early_stopping_rounds, evals_result, verbose_eval, xgb_model, callbacks, custom_metric)\u001b[0m\n\u001b[1;32m    183\u001b[0m \u001b[39mif\u001b[39;00m cb_container\u001b[39m.\u001b[39mbefore_iteration(bst, i, dtrain, evals):\n\u001b[1;32m    184\u001b[0m     \u001b[39mbreak\u001b[39;00m\n\u001b[0;32m--> 185\u001b[0m bst\u001b[39m.\u001b[39;49mupdate(dtrain, i, obj)\n\u001b[1;32m    186\u001b[0m \u001b[39mif\u001b[39;00m cb_container\u001b[39m.\u001b[39mafter_iteration(bst, i, dtrain, evals):\n\u001b[1;32m    187\u001b[0m     \u001b[39mbreak\u001b[39;00m\n",
      "File \u001b[0;32m/opt/homebrew/Caskroom/miniforge/base/lib/python3.9/site-packages/xgboost/core.py:1918\u001b[0m, in \u001b[0;36mBooster.update\u001b[0;34m(self, dtrain, iteration, fobj)\u001b[0m\n\u001b[1;32m   1915\u001b[0m \u001b[39mself\u001b[39m\u001b[39m.\u001b[39m_validate_dmatrix_features(dtrain)\n\u001b[1;32m   1917\u001b[0m \u001b[39mif\u001b[39;00m fobj \u001b[39mis\u001b[39;00m \u001b[39mNone\u001b[39;00m:\n\u001b[0;32m-> 1918\u001b[0m     _check_call(_LIB\u001b[39m.\u001b[39;49mXGBoosterUpdateOneIter(\u001b[39mself\u001b[39;49m\u001b[39m.\u001b[39;49mhandle,\n\u001b[1;32m   1919\u001b[0m                                             ctypes\u001b[39m.\u001b[39;49mc_int(iteration),\n\u001b[1;32m   1920\u001b[0m                                             dtrain\u001b[39m.\u001b[39;49mhandle))\n\u001b[1;32m   1921\u001b[0m \u001b[39melse\u001b[39;00m:\n\u001b[1;32m   1922\u001b[0m     pred \u001b[39m=\u001b[39m \u001b[39mself\u001b[39m\u001b[39m.\u001b[39mpredict(dtrain, output_margin\u001b[39m=\u001b[39m\u001b[39mTrue\u001b[39;00m, training\u001b[39m=\u001b[39m\u001b[39mTrue\u001b[39;00m)\n",
      "\u001b[0;31mKeyboardInterrupt\u001b[0m: "
     ]
    }
   ],
   "source": [
    "# Create the study\n",
    "study = optuna.create_study(direction='minimize')\n",
    "\n",
    "# Optimize the study\n",
    "study.optimize(lambda trial: xgb_objective(trial, df_train, target_train), n_trials=30)\n",
    "\n",
    "# Print the best trial\n",
    "print(f\"Best trial: {study.best_trial.value} with parameters {study.best_trial.params}\")\n"
   ]
  },
  {
   "cell_type": "code",
   "execution_count": 555,
   "metadata": {},
   "outputs": [
    {
     "name": "stderr",
     "output_type": "stream",
     "text": [
      "LGBMRegressor Cross Validations:   0%|          | 0/7 [00:00<?, ?it/s]"
     ]
    },
    {
     "name": "stdout",
     "output_type": "stream",
     "text": [
      "[LightGBM] [Warning] min_data_in_leaf is set=189, min_child_samples=20 will be ignored. Current value: min_data_in_leaf=189\n",
      "[LightGBM] [Warning] lambda_l1 is set=4.135437333012513, reg_alpha=0.0 will be ignored. Current value: lambda_l1=4.135437333012513\n",
      "[LightGBM] [Warning] lambda_l2 is set=1.4608779450861495, reg_lambda=0.0 will be ignored. Current value: lambda_l2=1.4608779450861495\n"
     ]
    },
    {
     "name": "stderr",
     "output_type": "stream",
     "text": [
      "LGBMRegressor Cross Validations:  14%|█▍        | 1/7 [00:00<00:03,  1.62it/s]"
     ]
    },
    {
     "name": "stdout",
     "output_type": "stream",
     "text": [
      "[LightGBM] [Warning] min_data_in_leaf is set=189, min_child_samples=20 will be ignored. Current value: min_data_in_leaf=189\n",
      "[LightGBM] [Warning] lambda_l1 is set=4.135437333012513, reg_alpha=0.0 will be ignored. Current value: lambda_l1=4.135437333012513\n",
      "[LightGBM] [Warning] lambda_l2 is set=1.4608779450861495, reg_lambda=0.0 will be ignored. Current value: lambda_l2=1.4608779450861495\n"
     ]
    },
    {
     "name": "stderr",
     "output_type": "stream",
     "text": [
      "LGBMRegressor Cross Validations:  29%|██▊       | 2/7 [00:01<00:03,  1.33it/s]"
     ]
    },
    {
     "name": "stdout",
     "output_type": "stream",
     "text": [
      "[LightGBM] [Warning] min_data_in_leaf is set=189, min_child_samples=20 will be ignored. Current value: min_data_in_leaf=189\n",
      "[LightGBM] [Warning] lambda_l1 is set=4.135437333012513, reg_alpha=0.0 will be ignored. Current value: lambda_l1=4.135437333012513\n",
      "[LightGBM] [Warning] lambda_l2 is set=1.4608779450861495, reg_lambda=0.0 will be ignored. Current value: lambda_l2=1.4608779450861495\n"
     ]
    },
    {
     "name": "stderr",
     "output_type": "stream",
     "text": [
      "LGBMRegressor Cross Validations:  43%|████▎     | 3/7 [00:02<00:03,  1.11it/s]"
     ]
    },
    {
     "name": "stdout",
     "output_type": "stream",
     "text": [
      "[LightGBM] [Warning] min_data_in_leaf is set=189, min_child_samples=20 will be ignored. Current value: min_data_in_leaf=189\n",
      "[LightGBM] [Warning] lambda_l1 is set=4.135437333012513, reg_alpha=0.0 will be ignored. Current value: lambda_l1=4.135437333012513\n",
      "[LightGBM] [Warning] lambda_l2 is set=1.4608779450861495, reg_lambda=0.0 will be ignored. Current value: lambda_l2=1.4608779450861495\n"
     ]
    },
    {
     "name": "stderr",
     "output_type": "stream",
     "text": [
      "LGBMRegressor Cross Validations:  57%|█████▋    | 4/7 [00:03<00:03,  1.01s/it]"
     ]
    },
    {
     "name": "stdout",
     "output_type": "stream",
     "text": [
      "[LightGBM] [Warning] min_data_in_leaf is set=189, min_child_samples=20 will be ignored. Current value: min_data_in_leaf=189\n",
      "[LightGBM] [Warning] lambda_l1 is set=4.135437333012513, reg_alpha=0.0 will be ignored. Current value: lambda_l1=4.135437333012513\n",
      "[LightGBM] [Warning] lambda_l2 is set=1.4608779450861495, reg_lambda=0.0 will be ignored. Current value: lambda_l2=1.4608779450861495\n"
     ]
    },
    {
     "name": "stderr",
     "output_type": "stream",
     "text": [
      "LGBMRegressor Cross Validations:  71%|███████▏  | 5/7 [00:05<00:02,  1.08s/it]"
     ]
    },
    {
     "name": "stdout",
     "output_type": "stream",
     "text": [
      "1 FOLDS: LGBMRegressor smape: 0.7201\n",
      "2 FOLDS: LGBMRegressor smape: 0.3819\n",
      "3 FOLDS: LGBMRegressor smape: 0.5324\n",
      "4 FOLDS: LGBMRegressor smape: 0.3208\n",
      "5 FOLDS: LGBMRegressor smape: 0.3340\n",
      "\n",
      "LGBMRegressor mean smape: 0.4578\n",
      "==============================\n"
     ]
    },
    {
     "name": "stderr",
     "output_type": "stream",
     "text": [
      "\n"
     ]
    }
   ],
   "source": [
    "from sklearn.linear_model import LinearRegression, ElasticNet, Lasso, Ridge\n",
    "from sklearn.tree import DecisionTreeRegressor\n",
    "from sklearn.ensemble import RandomForestRegressor\n",
    "import xgboost as xgb\n",
    "\n",
    "\n",
    "LGBM = lgb.LGBMRegressor(**params)\n",
    "\n",
    "def smape_cv2(model):\n",
    "    tscv = TimeSeriesSplit(n_splits=5)\n",
    "    smape_list = []\n",
    "    model_name = model.__class__.__name__\n",
    "    for _, (train_index, test_index) in tqdm(enumerate(tscv.split(df_train), start=1), \n",
    "                                             desc=f'{model_name} Cross Validations', total=7):\n",
    "        X_train, X_test = df_train.iloc[train_index], df_train.iloc[test_index]\n",
    "        y_train, y_test = target_train.iloc[train_index], target_train.iloc[test_index]\n",
    "        clf = model.fit(X_train, y_train)\n",
    "        pred = clf.predict(X_test)\n",
    "        pred =  np.exp(pred) * X_test['microbusiness_density']\n",
    "        y_test = np.exp(y_test) * X_test['microbusiness_density']\n",
    "        smape = smape_loss(y_test, pred) \n",
    "        smape_list.append(smape)\n",
    "    return model_name, smape_list\n",
    "\n",
    "def print_smape_score(model):\n",
    "    # print cv and save the average\n",
    "    model_name, score = smape_cv2(model)\n",
    "    for i, r in enumerate(score, start=1):\n",
    "        print(f'{i} FOLDS: {model_name} smape: {r:.4f}')\n",
    "    print(f'\\n{model_name} mean smape: {np.mean(score):.4f}')\n",
    "    print('='*30)\n",
    "    return model_name, np.mean(score)\n",
    "\n",
    "models = []\n",
    "scores = []\n",
    "for model in [LGBM]:\n",
    "    model_name, mean_score = print_smape_score(model)\n",
    "    models.append(model_name)\n",
    "    scores.append(mean_score)"
   ]
  },
  {
   "cell_type": "code",
   "execution_count": 213,
   "metadata": {},
   "outputs": [],
   "source": [
    "model = xgb.XGBRegressor(**params)"
   ]
  },
  {
   "cell_type": "code",
   "execution_count": 556,
   "metadata": {},
   "outputs": [
    {
     "name": "stdout",
     "output_type": "stream",
     "text": [
      "[LightGBM] [Warning] min_data_in_leaf is set=189, min_child_samples=20 will be ignored. Current value: min_data_in_leaf=189\n",
      "[LightGBM] [Warning] lambda_l1 is set=4.135437333012513, reg_alpha=0.0 will be ignored. Current value: lambda_l1=4.135437333012513\n",
      "[LightGBM] [Warning] lambda_l2 is set=1.4608779450861495, reg_lambda=0.0 will be ignored. Current value: lambda_l2=1.4608779450861495\n"
     ]
    }
   ],
   "source": [
    "x_test = df_train[df_train.idx == 40]\n",
    "model.fit(df_train, target_train)\n",
    "\n",
    "y_pred = np.exp(model.predict(x_test)) * x_test.microbusiness_density\n",
    "y_true = np.exp(x_test.md_log_diff_3) * x_test.microbusiness_density\n",
    "y_base = x_test.microbusiness_density"
   ]
  },
  {
   "cell_type": "code",
   "execution_count": 557,
   "metadata": {},
   "outputs": [],
   "source": [
    "y_pred = y_pred.reset_index('row_id')\n",
    "y_base = y_base.reset_index()\n",
    "y_base = y_base.rename(columns={'microbusiness_density': 'y_base'})\n",
    "y_true = y_true.reset_index()\n",
    "y_true = y_true.rename(columns={0: 'y_true'})"
   ]
  },
  {
   "cell_type": "code",
   "execution_count": 558,
   "metadata": {},
   "outputs": [
    {
     "data": {
      "text/html": [
       "<div>\n",
       "<style scoped>\n",
       "    .dataframe tbody tr th:only-of-type {\n",
       "        vertical-align: middle;\n",
       "    }\n",
       "\n",
       "    .dataframe tbody tr th {\n",
       "        vertical-align: top;\n",
       "    }\n",
       "\n",
       "    .dataframe thead th {\n",
       "        text-align: right;\n",
       "    }\n",
       "</style>\n",
       "<table border=\"1\" class=\"dataframe\">\n",
       "  <thead>\n",
       "    <tr style=\"text-align: right;\">\n",
       "      <th></th>\n",
       "      <th>row_id</th>\n",
       "      <th>microbusiness_density</th>\n",
       "    </tr>\n",
       "  </thead>\n",
       "  <tbody>\n",
       "    <tr>\n",
       "      <th>0</th>\n",
       "      <td>1001_2022-12-01</td>\n",
       "      <td>3.471754</td>\n",
       "    </tr>\n",
       "    <tr>\n",
       "      <th>1</th>\n",
       "      <td>1003_2022-12-01</td>\n",
       "      <td>8.249109</td>\n",
       "    </tr>\n",
       "    <tr>\n",
       "      <th>2</th>\n",
       "      <td>1005_2022-12-01</td>\n",
       "      <td>1.252116</td>\n",
       "    </tr>\n",
       "    <tr>\n",
       "      <th>3</th>\n",
       "      <td>1007_2022-12-01</td>\n",
       "      <td>1.287124</td>\n",
       "    </tr>\n",
       "    <tr>\n",
       "      <th>4</th>\n",
       "      <td>1009_2022-12-01</td>\n",
       "      <td>1.851950</td>\n",
       "    </tr>\n",
       "    <tr>\n",
       "      <th>...</th>\n",
       "      <td>...</td>\n",
       "      <td>...</td>\n",
       "    </tr>\n",
       "    <tr>\n",
       "      <th>3130</th>\n",
       "      <td>56037_2022-12-01</td>\n",
       "      <td>2.877461</td>\n",
       "    </tr>\n",
       "    <tr>\n",
       "      <th>3131</th>\n",
       "      <td>56039_2022-12-01</td>\n",
       "      <td>26.267223</td>\n",
       "    </tr>\n",
       "    <tr>\n",
       "      <th>3132</th>\n",
       "      <td>56041_2022-12-01</td>\n",
       "      <td>4.050750</td>\n",
       "    </tr>\n",
       "    <tr>\n",
       "      <th>3133</th>\n",
       "      <td>56043_2022-12-01</td>\n",
       "      <td>3.060968</td>\n",
       "    </tr>\n",
       "    <tr>\n",
       "      <th>3134</th>\n",
       "      <td>56045_2022-12-01</td>\n",
       "      <td>1.803414</td>\n",
       "    </tr>\n",
       "  </tbody>\n",
       "</table>\n",
       "<p>3135 rows × 2 columns</p>\n",
       "</div>"
      ],
      "text/plain": [
       "                row_id  microbusiness_density\n",
       "0      1001_2022-12-01               3.471754\n",
       "1      1003_2022-12-01               8.249109\n",
       "2      1005_2022-12-01               1.252116\n",
       "3      1007_2022-12-01               1.287124\n",
       "4      1009_2022-12-01               1.851950\n",
       "...                ...                    ...\n",
       "3130  56037_2022-12-01               2.877461\n",
       "3131  56039_2022-12-01              26.267223\n",
       "3132  56041_2022-12-01               4.050750\n",
       "3133  56043_2022-12-01               3.060968\n",
       "3134  56045_2022-12-01               1.803414\n",
       "\n",
       "[3135 rows x 2 columns]"
      ]
     },
     "execution_count": 558,
     "metadata": {},
     "output_type": "execute_result"
    }
   ],
   "source": [
    "y_pred"
   ]
  },
  {
   "cell_type": "code",
   "execution_count": 559,
   "metadata": {},
   "outputs": [
    {
     "name": "stdout",
     "output_type": "stream",
     "text": [
      "1.8284295961187311 1.8374568832227278\n"
     ]
    }
   ],
   "source": [
    "clip_err = True\n",
    "\n",
    "if clip_err:\n",
    "    df_record = y_pred.merge(y_base, on = 'row_id', how='inner')\n",
    "    df_record = df_record.merge(y_true, on = 'row_id', how='inner')\n",
    "    def smape_(y_true, y_pred):\n",
    "        return 100  * np.sum(2 * np.abs(y_pred - y_true) / (np.abs(y_true) + np.abs(y_pred)))\n",
    "    \n",
    "    base_err = df_record.apply(lambda x: smape_(x.y_true, x.y_base), axis=1)\n",
    "    pred_err = df_record.apply(lambda x: smape_(x.y_true, x.microbusiness_density), axis=1)\n",
    "    blacklist = base_err[(base_err + 1e-3) < pred_err].index\n",
    "    y_pred.iloc[blacklist] = y_base.iloc[blacklist]\n",
    "    avg_base_err = base_err.mean()\n",
    "    avg_pred_err = pred_err.mean()\n",
    "    print(avg_base_err, avg_pred_err)\n",
    "    df_sub = pd.read_csv('sample_submission.csv')\n",
    "    df_sub = df_sub.drop(columns='microbusiness_density')\n",
    "    df_sub['cfips'] = df_sub.row_id.str.split('_', expand=True)[0]\n",
    "    y_pred['cfips'] = y_pred.row_id.str.split('_', expand=True)[0]\n",
    "    merged_df = df_sub.merge(y_pred, on='cfips', how='left', suffixes=('', '_drop'))\n",
    "    merged_df = merged_df.loc[:,~merged_df.columns.str.endswith('_drop')]\n",
    "    # merged_df = merged_df.drop(columns='cfips')\n",
    "else:\n",
    "    df_sub = pd.read_csv('sample_submission.csv')\n",
    "    df_sub = df_sub.drop(columns='microbusiness_density')\n",
    "    df_sub['cfips'] = df_sub.row_id.str.split('_', expand=True)[0]\n",
    "    y_pred['cfips'] = y_pred.row_id.str.split('_', expand=True)[0]\n",
    "    merged_df = df_sub.merge(y_pred, on='cfips', how='left', suffixes=('', '_drop'))\n",
    "    merged_df = merged_df.loc[:,~merged_df.columns.str.endswith('_drop')]\n",
    "    # merged_df = merged_df.drop(columns='cfips')"
   ]
  },
  {
   "cell_type": "code",
   "execution_count": 560,
   "metadata": {},
   "outputs": [
    {
     "data": {
      "text/html": [
       "<div>\n",
       "<style scoped>\n",
       "    .dataframe tbody tr th:only-of-type {\n",
       "        vertical-align: middle;\n",
       "    }\n",
       "\n",
       "    .dataframe tbody tr th {\n",
       "        vertical-align: top;\n",
       "    }\n",
       "\n",
       "    .dataframe thead th {\n",
       "        text-align: right;\n",
       "    }\n",
       "</style>\n",
       "<table border=\"1\" class=\"dataframe\">\n",
       "  <thead>\n",
       "    <tr style=\"text-align: right;\">\n",
       "      <th></th>\n",
       "      <th>row_id</th>\n",
       "      <th>cfips</th>\n",
       "      <th>microbusiness_density</th>\n",
       "    </tr>\n",
       "  </thead>\n",
       "  <tbody>\n",
       "    <tr>\n",
       "      <th>0</th>\n",
       "      <td>1001_2022-11-01</td>\n",
       "      <td>1001</td>\n",
       "      <td>3.471754</td>\n",
       "    </tr>\n",
       "    <tr>\n",
       "      <th>1</th>\n",
       "      <td>1003_2022-11-01</td>\n",
       "      <td>1003</td>\n",
       "      <td>8.249109</td>\n",
       "    </tr>\n",
       "    <tr>\n",
       "      <th>2</th>\n",
       "      <td>1005_2022-11-01</td>\n",
       "      <td>1005</td>\n",
       "      <td>1.252272</td>\n",
       "    </tr>\n",
       "    <tr>\n",
       "      <th>3</th>\n",
       "      <td>1007_2022-11-01</td>\n",
       "      <td>1007</td>\n",
       "      <td>1.287240</td>\n",
       "    </tr>\n",
       "    <tr>\n",
       "      <th>4</th>\n",
       "      <td>1009_2022-11-01</td>\n",
       "      <td>1009</td>\n",
       "      <td>1.852060</td>\n",
       "    </tr>\n",
       "    <tr>\n",
       "      <th>...</th>\n",
       "      <td>...</td>\n",
       "      <td>...</td>\n",
       "      <td>...</td>\n",
       "    </tr>\n",
       "    <tr>\n",
       "      <th>25075</th>\n",
       "      <td>56037_2023-06-01</td>\n",
       "      <td>56037</td>\n",
       "      <td>2.877461</td>\n",
       "    </tr>\n",
       "    <tr>\n",
       "      <th>25076</th>\n",
       "      <td>56039_2023-06-01</td>\n",
       "      <td>56039</td>\n",
       "      <td>26.267223</td>\n",
       "    </tr>\n",
       "    <tr>\n",
       "      <th>25077</th>\n",
       "      <td>56041_2023-06-01</td>\n",
       "      <td>56041</td>\n",
       "      <td>4.050750</td>\n",
       "    </tr>\n",
       "    <tr>\n",
       "      <th>25078</th>\n",
       "      <td>56043_2023-06-01</td>\n",
       "      <td>56043</td>\n",
       "      <td>3.060380</td>\n",
       "    </tr>\n",
       "    <tr>\n",
       "      <th>25079</th>\n",
       "      <td>56045_2023-06-01</td>\n",
       "      <td>56045</td>\n",
       "      <td>1.803414</td>\n",
       "    </tr>\n",
       "  </tbody>\n",
       "</table>\n",
       "<p>25080 rows × 3 columns</p>\n",
       "</div>"
      ],
      "text/plain": [
       "                 row_id  cfips  microbusiness_density\n",
       "0       1001_2022-11-01   1001               3.471754\n",
       "1       1003_2022-11-01   1003               8.249109\n",
       "2       1005_2022-11-01   1005               1.252272\n",
       "3       1007_2022-11-01   1007               1.287240\n",
       "4       1009_2022-11-01   1009               1.852060\n",
       "...                 ...    ...                    ...\n",
       "25075  56037_2023-06-01  56037               2.877461\n",
       "25076  56039_2023-06-01  56039              26.267223\n",
       "25077  56041_2023-06-01  56041               4.050750\n",
       "25078  56043_2023-06-01  56043               3.060380\n",
       "25079  56045_2023-06-01  56045               1.803414\n",
       "\n",
       "[25080 rows x 3 columns]"
      ]
     },
     "execution_count": 560,
     "metadata": {},
     "output_type": "execute_result"
    }
   ],
   "source": [
    "merged_df"
   ]
  },
  {
   "cell_type": "code",
   "execution_count": 561,
   "metadata": {},
   "outputs": [
    {
     "name": "stderr",
     "output_type": "stream",
     "text": [
      "/var/folders/bb/g8c6d14n37lb8f846cg2t1_m0000gn/T/ipykernel_28597/2667666172.py:2: DtypeWarning: Columns (102) have mixed types. Specify dtype option on import or set low_memory=False.\n",
      "  df2020 = pd.read_csv('ACSST5Y2020.S0101-Data.csv', usecols=COLS)\n"
     ]
    },
    {
     "data": {
      "text/html": [
       "<div>\n",
       "<style scoped>\n",
       "    .dataframe tbody tr th:only-of-type {\n",
       "        vertical-align: middle;\n",
       "    }\n",
       "\n",
       "    .dataframe tbody tr th {\n",
       "        vertical-align: top;\n",
       "    }\n",
       "\n",
       "    .dataframe thead th {\n",
       "        text-align: right;\n",
       "    }\n",
       "</style>\n",
       "<table border=\"1\" class=\"dataframe\">\n",
       "  <thead>\n",
       "    <tr style=\"text-align: right;\">\n",
       "      <th></th>\n",
       "      <th>GEO_ID</th>\n",
       "      <th>NAME</th>\n",
       "      <th>S0101_C01_026E</th>\n",
       "    </tr>\n",
       "  </thead>\n",
       "  <tbody>\n",
       "    <tr>\n",
       "      <th>1</th>\n",
       "      <td>0500000US01001</td>\n",
       "      <td>Autauga County, Alabama</td>\n",
       "      <td>42496</td>\n",
       "    </tr>\n",
       "    <tr>\n",
       "      <th>2</th>\n",
       "      <td>0500000US01003</td>\n",
       "      <td>Baldwin County, Alabama</td>\n",
       "      <td>171296</td>\n",
       "    </tr>\n",
       "    <tr>\n",
       "      <th>3</th>\n",
       "      <td>0500000US01005</td>\n",
       "      <td>Barbour County, Alabama</td>\n",
       "      <td>19804</td>\n",
       "    </tr>\n",
       "    <tr>\n",
       "      <th>4</th>\n",
       "      <td>0500000US01007</td>\n",
       "      <td>Bibb County, Alabama</td>\n",
       "      <td>17790</td>\n",
       "    </tr>\n",
       "    <tr>\n",
       "      <th>5</th>\n",
       "      <td>0500000US01009</td>\n",
       "      <td>Blount County, Alabama</td>\n",
       "      <td>44383</td>\n",
       "    </tr>\n",
       "    <tr>\n",
       "      <th>...</th>\n",
       "      <td>...</td>\n",
       "      <td>...</td>\n",
       "      <td>...</td>\n",
       "    </tr>\n",
       "    <tr>\n",
       "      <th>3217</th>\n",
       "      <td>0500000US72145</td>\n",
       "      <td>Vega Baja Municipio, Puerto Rico</td>\n",
       "      <td>41383</td>\n",
       "    </tr>\n",
       "    <tr>\n",
       "      <th>3218</th>\n",
       "      <td>0500000US72147</td>\n",
       "      <td>Vieques Municipio, Puerto Rico</td>\n",
       "      <td>6884</td>\n",
       "    </tr>\n",
       "    <tr>\n",
       "      <th>3219</th>\n",
       "      <td>0500000US72149</td>\n",
       "      <td>Villalba Municipio, Puerto Rico</td>\n",
       "      <td>17344</td>\n",
       "    </tr>\n",
       "    <tr>\n",
       "      <th>3220</th>\n",
       "      <td>0500000US72151</td>\n",
       "      <td>Yabucoa Municipio, Puerto Rico</td>\n",
       "      <td>26803</td>\n",
       "    </tr>\n",
       "    <tr>\n",
       "      <th>3221</th>\n",
       "      <td>0500000US72153</td>\n",
       "      <td>Yauco Municipio, Puerto Rico</td>\n",
       "      <td>28215</td>\n",
       "    </tr>\n",
       "  </tbody>\n",
       "</table>\n",
       "<p>3221 rows × 3 columns</p>\n",
       "</div>"
      ],
      "text/plain": [
       "              GEO_ID                              NAME  S0101_C01_026E\n",
       "1     0500000US01001           Autauga County, Alabama           42496\n",
       "2     0500000US01003           Baldwin County, Alabama          171296\n",
       "3     0500000US01005           Barbour County, Alabama           19804\n",
       "4     0500000US01007              Bibb County, Alabama           17790\n",
       "5     0500000US01009            Blount County, Alabama           44383\n",
       "...              ...                               ...             ...\n",
       "3217  0500000US72145  Vega Baja Municipio, Puerto Rico           41383\n",
       "3218  0500000US72147    Vieques Municipio, Puerto Rico            6884\n",
       "3219  0500000US72149   Villalba Municipio, Puerto Rico           17344\n",
       "3220  0500000US72151    Yabucoa Municipio, Puerto Rico           26803\n",
       "3221  0500000US72153      Yauco Municipio, Puerto Rico           28215\n",
       "\n",
       "[3221 rows x 3 columns]"
      ]
     },
     "execution_count": 561,
     "metadata": {},
     "output_type": "execute_result"
    }
   ],
   "source": [
    "COLS = ['GEO_ID','NAME','S0101_C01_026E']\n",
    "df2020 = pd.read_csv('ACSST5Y2020.S0101-Data.csv', usecols=COLS)\n",
    "df2020 = df2020.iloc[1:]\n",
    "df2020['S0101_C01_026E'] = df2020['S0101_C01_026E'].astype('int')\n",
    "df2020\n"
   ]
  },
  {
   "cell_type": "code",
   "execution_count": 562,
   "metadata": {},
   "outputs": [
    {
     "name": "stderr",
     "output_type": "stream",
     "text": [
      "/var/folders/bb/g8c6d14n37lb8f846cg2t1_m0000gn/T/ipykernel_28597/1346287853.py:1: DtypeWarning: Columns (102) have mixed types. Specify dtype option on import or set low_memory=False.\n",
      "  df2021 = pd.read_csv('ACSST5Y2021.S0101-Data.csv', usecols=COLS)\n"
     ]
    },
    {
     "data": {
      "text/html": [
       "<div>\n",
       "<style scoped>\n",
       "    .dataframe tbody tr th:only-of-type {\n",
       "        vertical-align: middle;\n",
       "    }\n",
       "\n",
       "    .dataframe tbody tr th {\n",
       "        vertical-align: top;\n",
       "    }\n",
       "\n",
       "    .dataframe thead th {\n",
       "        text-align: right;\n",
       "    }\n",
       "</style>\n",
       "<table border=\"1\" class=\"dataframe\">\n",
       "  <thead>\n",
       "    <tr style=\"text-align: right;\">\n",
       "      <th></th>\n",
       "      <th>GEO_ID</th>\n",
       "      <th>NAME</th>\n",
       "      <th>S0101_C01_026E</th>\n",
       "    </tr>\n",
       "  </thead>\n",
       "  <tbody>\n",
       "    <tr>\n",
       "      <th>1</th>\n",
       "      <td>0500000US01001</td>\n",
       "      <td>Autauga County, Alabama</td>\n",
       "      <td>44438</td>\n",
       "    </tr>\n",
       "    <tr>\n",
       "      <th>2</th>\n",
       "      <td>0500000US01003</td>\n",
       "      <td>Baldwin County, Alabama</td>\n",
       "      <td>178105</td>\n",
       "    </tr>\n",
       "    <tr>\n",
       "      <th>3</th>\n",
       "      <td>0500000US01005</td>\n",
       "      <td>Barbour County, Alabama</td>\n",
       "      <td>19995</td>\n",
       "    </tr>\n",
       "    <tr>\n",
       "      <th>4</th>\n",
       "      <td>0500000US01007</td>\n",
       "      <td>Bibb County, Alabama</td>\n",
       "      <td>17800</td>\n",
       "    </tr>\n",
       "    <tr>\n",
       "      <th>5</th>\n",
       "      <td>0500000US01009</td>\n",
       "      <td>Blount County, Alabama</td>\n",
       "      <td>45201</td>\n",
       "    </tr>\n",
       "    <tr>\n",
       "      <th>...</th>\n",
       "      <td>...</td>\n",
       "      <td>...</td>\n",
       "      <td>...</td>\n",
       "    </tr>\n",
       "    <tr>\n",
       "      <th>3217</th>\n",
       "      <td>0500000US72145</td>\n",
       "      <td>Vega Baja Municipio, Puerto Rico</td>\n",
       "      <td>44604</td>\n",
       "    </tr>\n",
       "    <tr>\n",
       "      <th>3218</th>\n",
       "      <td>0500000US72147</td>\n",
       "      <td>Vieques Municipio, Puerto Rico</td>\n",
       "      <td>6760</td>\n",
       "    </tr>\n",
       "    <tr>\n",
       "      <th>3219</th>\n",
       "      <td>0500000US72149</td>\n",
       "      <td>Villalba Municipio, Puerto Rico</td>\n",
       "      <td>17811</td>\n",
       "    </tr>\n",
       "    <tr>\n",
       "      <th>3220</th>\n",
       "      <td>0500000US72151</td>\n",
       "      <td>Yabucoa Municipio, Puerto Rico</td>\n",
       "      <td>25533</td>\n",
       "    </tr>\n",
       "    <tr>\n",
       "      <th>3221</th>\n",
       "      <td>0500000US72153</td>\n",
       "      <td>Yauco Municipio, Puerto Rico</td>\n",
       "      <td>28555</td>\n",
       "    </tr>\n",
       "  </tbody>\n",
       "</table>\n",
       "<p>3221 rows × 3 columns</p>\n",
       "</div>"
      ],
      "text/plain": [
       "              GEO_ID                              NAME  S0101_C01_026E\n",
       "1     0500000US01001           Autauga County, Alabama           44438\n",
       "2     0500000US01003           Baldwin County, Alabama          178105\n",
       "3     0500000US01005           Barbour County, Alabama           19995\n",
       "4     0500000US01007              Bibb County, Alabama           17800\n",
       "5     0500000US01009            Blount County, Alabama           45201\n",
       "...              ...                               ...             ...\n",
       "3217  0500000US72145  Vega Baja Municipio, Puerto Rico           44604\n",
       "3218  0500000US72147    Vieques Municipio, Puerto Rico            6760\n",
       "3219  0500000US72149   Villalba Municipio, Puerto Rico           17811\n",
       "3220  0500000US72151    Yabucoa Municipio, Puerto Rico           25533\n",
       "3221  0500000US72153      Yauco Municipio, Puerto Rico           28555\n",
       "\n",
       "[3221 rows x 3 columns]"
      ]
     },
     "execution_count": 562,
     "metadata": {},
     "output_type": "execute_result"
    }
   ],
   "source": [
    "df2021 = pd.read_csv('ACSST5Y2021.S0101-Data.csv', usecols=COLS)\n",
    "df2021 = df2021.iloc[1:]\n",
    "df2021['S0101_C01_026E'] = df2021['S0101_C01_026E'].astype('int')\n",
    "df2021"
   ]
  },
  {
   "cell_type": "code",
   "execution_count": 563,
   "metadata": {},
   "outputs": [],
   "source": [
    "df2020['cfips'] = df2020.GEO_ID.apply(lambda x: int(x.split('US')[-1]) )\n",
    "adult2020 = df2020.set_index('cfips').S0101_C01_026E.to_dict()\n",
    "\n",
    "df2021['cfips'] = df2021.GEO_ID.apply(lambda x: int(x.split('US')[-1]) )\n",
    "adult2021 = df2021.set_index('cfips').S0101_C01_026E.to_dict()"
   ]
  },
  {
   "cell_type": "code",
   "execution_count": 564,
   "metadata": {},
   "outputs": [
    {
     "data": {
      "text/html": [
       "<div>\n",
       "<style scoped>\n",
       "    .dataframe tbody tr th:only-of-type {\n",
       "        vertical-align: middle;\n",
       "    }\n",
       "\n",
       "    .dataframe tbody tr th {\n",
       "        vertical-align: top;\n",
       "    }\n",
       "\n",
       "    .dataframe thead th {\n",
       "        text-align: right;\n",
       "    }\n",
       "</style>\n",
       "<table border=\"1\" class=\"dataframe\">\n",
       "  <thead>\n",
       "    <tr style=\"text-align: right;\">\n",
       "      <th></th>\n",
       "      <th>GEO_ID</th>\n",
       "      <th>NAME</th>\n",
       "      <th>S0101_C01_026E</th>\n",
       "      <th>cfips</th>\n",
       "    </tr>\n",
       "  </thead>\n",
       "  <tbody>\n",
       "    <tr>\n",
       "      <th>1</th>\n",
       "      <td>0500000US01001</td>\n",
       "      <td>Autauga County, Alabama</td>\n",
       "      <td>42496</td>\n",
       "      <td>1001</td>\n",
       "    </tr>\n",
       "    <tr>\n",
       "      <th>2</th>\n",
       "      <td>0500000US01003</td>\n",
       "      <td>Baldwin County, Alabama</td>\n",
       "      <td>171296</td>\n",
       "      <td>1003</td>\n",
       "    </tr>\n",
       "    <tr>\n",
       "      <th>3</th>\n",
       "      <td>0500000US01005</td>\n",
       "      <td>Barbour County, Alabama</td>\n",
       "      <td>19804</td>\n",
       "      <td>1005</td>\n",
       "    </tr>\n",
       "    <tr>\n",
       "      <th>4</th>\n",
       "      <td>0500000US01007</td>\n",
       "      <td>Bibb County, Alabama</td>\n",
       "      <td>17790</td>\n",
       "      <td>1007</td>\n",
       "    </tr>\n",
       "    <tr>\n",
       "      <th>5</th>\n",
       "      <td>0500000US01009</td>\n",
       "      <td>Blount County, Alabama</td>\n",
       "      <td>44383</td>\n",
       "      <td>1009</td>\n",
       "    </tr>\n",
       "    <tr>\n",
       "      <th>...</th>\n",
       "      <td>...</td>\n",
       "      <td>...</td>\n",
       "      <td>...</td>\n",
       "      <td>...</td>\n",
       "    </tr>\n",
       "    <tr>\n",
       "      <th>3217</th>\n",
       "      <td>0500000US72145</td>\n",
       "      <td>Vega Baja Municipio, Puerto Rico</td>\n",
       "      <td>41383</td>\n",
       "      <td>72145</td>\n",
       "    </tr>\n",
       "    <tr>\n",
       "      <th>3218</th>\n",
       "      <td>0500000US72147</td>\n",
       "      <td>Vieques Municipio, Puerto Rico</td>\n",
       "      <td>6884</td>\n",
       "      <td>72147</td>\n",
       "    </tr>\n",
       "    <tr>\n",
       "      <th>3219</th>\n",
       "      <td>0500000US72149</td>\n",
       "      <td>Villalba Municipio, Puerto Rico</td>\n",
       "      <td>17344</td>\n",
       "      <td>72149</td>\n",
       "    </tr>\n",
       "    <tr>\n",
       "      <th>3220</th>\n",
       "      <td>0500000US72151</td>\n",
       "      <td>Yabucoa Municipio, Puerto Rico</td>\n",
       "      <td>26803</td>\n",
       "      <td>72151</td>\n",
       "    </tr>\n",
       "    <tr>\n",
       "      <th>3221</th>\n",
       "      <td>0500000US72153</td>\n",
       "      <td>Yauco Municipio, Puerto Rico</td>\n",
       "      <td>28215</td>\n",
       "      <td>72153</td>\n",
       "    </tr>\n",
       "  </tbody>\n",
       "</table>\n",
       "<p>3221 rows × 4 columns</p>\n",
       "</div>"
      ],
      "text/plain": [
       "              GEO_ID                              NAME  S0101_C01_026E  cfips\n",
       "1     0500000US01001           Autauga County, Alabama           42496   1001\n",
       "2     0500000US01003           Baldwin County, Alabama          171296   1003\n",
       "3     0500000US01005           Barbour County, Alabama           19804   1005\n",
       "4     0500000US01007              Bibb County, Alabama           17790   1007\n",
       "5     0500000US01009            Blount County, Alabama           44383   1009\n",
       "...              ...                               ...             ...    ...\n",
       "3217  0500000US72145  Vega Baja Municipio, Puerto Rico           41383  72145\n",
       "3218  0500000US72147    Vieques Municipio, Puerto Rico            6884  72147\n",
       "3219  0500000US72149   Villalba Municipio, Puerto Rico           17344  72149\n",
       "3220  0500000US72151    Yabucoa Municipio, Puerto Rico           26803  72151\n",
       "3221  0500000US72153      Yauco Municipio, Puerto Rico           28215  72153\n",
       "\n",
       "[3221 rows x 4 columns]"
      ]
     },
     "execution_count": 564,
     "metadata": {},
     "output_type": "execute_result"
    }
   ],
   "source": [
    "df2020"
   ]
  },
  {
   "cell_type": "code",
   "execution_count": 565,
   "metadata": {},
   "outputs": [
    {
     "data": {
      "text/html": [
       "<div>\n",
       "<style scoped>\n",
       "    .dataframe tbody tr th:only-of-type {\n",
       "        vertical-align: middle;\n",
       "    }\n",
       "\n",
       "    .dataframe tbody tr th {\n",
       "        vertical-align: top;\n",
       "    }\n",
       "\n",
       "    .dataframe thead th {\n",
       "        text-align: right;\n",
       "    }\n",
       "</style>\n",
       "<table border=\"1\" class=\"dataframe\">\n",
       "  <thead>\n",
       "    <tr style=\"text-align: right;\">\n",
       "      <th></th>\n",
       "      <th>row_id</th>\n",
       "      <th>cfips</th>\n",
       "      <th>microbusiness_density</th>\n",
       "      <th>adult2020</th>\n",
       "      <th>adult2021</th>\n",
       "    </tr>\n",
       "  </thead>\n",
       "  <tbody>\n",
       "    <tr>\n",
       "      <th>0</th>\n",
       "      <td>1001_2022-11-01</td>\n",
       "      <td>1001</td>\n",
       "      <td>3.471754</td>\n",
       "      <td>42496</td>\n",
       "      <td>44438</td>\n",
       "    </tr>\n",
       "    <tr>\n",
       "      <th>1</th>\n",
       "      <td>1003_2022-11-01</td>\n",
       "      <td>1003</td>\n",
       "      <td>8.249109</td>\n",
       "      <td>171296</td>\n",
       "      <td>178105</td>\n",
       "    </tr>\n",
       "    <tr>\n",
       "      <th>2</th>\n",
       "      <td>1005_2022-11-01</td>\n",
       "      <td>1005</td>\n",
       "      <td>1.252272</td>\n",
       "      <td>19804</td>\n",
       "      <td>19995</td>\n",
       "    </tr>\n",
       "    <tr>\n",
       "      <th>3</th>\n",
       "      <td>1007_2022-11-01</td>\n",
       "      <td>1007</td>\n",
       "      <td>1.287240</td>\n",
       "      <td>17790</td>\n",
       "      <td>17800</td>\n",
       "    </tr>\n",
       "    <tr>\n",
       "      <th>4</th>\n",
       "      <td>1009_2022-11-01</td>\n",
       "      <td>1009</td>\n",
       "      <td>1.852060</td>\n",
       "      <td>44383</td>\n",
       "      <td>45201</td>\n",
       "    </tr>\n",
       "    <tr>\n",
       "      <th>...</th>\n",
       "      <td>...</td>\n",
       "      <td>...</td>\n",
       "      <td>...</td>\n",
       "      <td>...</td>\n",
       "      <td>...</td>\n",
       "    </tr>\n",
       "    <tr>\n",
       "      <th>25075</th>\n",
       "      <td>56037_2023-06-01</td>\n",
       "      <td>56037</td>\n",
       "      <td>2.877461</td>\n",
       "      <td>32049</td>\n",
       "      <td>31514</td>\n",
       "    </tr>\n",
       "    <tr>\n",
       "      <th>25076</th>\n",
       "      <td>56039_2023-06-01</td>\n",
       "      <td>56039</td>\n",
       "      <td>26.267223</td>\n",
       "      <td>19164</td>\n",
       "      <td>19169</td>\n",
       "    </tr>\n",
       "    <tr>\n",
       "      <th>25077</th>\n",
       "      <td>56041_2023-06-01</td>\n",
       "      <td>56041</td>\n",
       "      <td>4.050750</td>\n",
       "      <td>14516</td>\n",
       "      <td>14641</td>\n",
       "    </tr>\n",
       "    <tr>\n",
       "      <th>25078</th>\n",
       "      <td>56043_2023-06-01</td>\n",
       "      <td>56043</td>\n",
       "      <td>3.060380</td>\n",
       "      <td>6045</td>\n",
       "      <td>6000</td>\n",
       "    </tr>\n",
       "    <tr>\n",
       "      <th>25079</th>\n",
       "      <td>56045_2023-06-01</td>\n",
       "      <td>56045</td>\n",
       "      <td>1.803414</td>\n",
       "      <td>5601</td>\n",
       "      <td>5499</td>\n",
       "    </tr>\n",
       "  </tbody>\n",
       "</table>\n",
       "<p>25080 rows × 5 columns</p>\n",
       "</div>"
      ],
      "text/plain": [
       "                 row_id  cfips  microbusiness_density  adult2020  adult2021\n",
       "0       1001_2022-11-01   1001               3.471754      42496      44438\n",
       "1       1003_2022-11-01   1003               8.249109     171296     178105\n",
       "2       1005_2022-11-01   1005               1.252272      19804      19995\n",
       "3       1007_2022-11-01   1007               1.287240      17790      17800\n",
       "4       1009_2022-11-01   1009               1.852060      44383      45201\n",
       "...                 ...    ...                    ...        ...        ...\n",
       "25075  56037_2023-06-01  56037               2.877461      32049      31514\n",
       "25076  56039_2023-06-01  56039              26.267223      19164      19169\n",
       "25077  56041_2023-06-01  56041               4.050750      14516      14641\n",
       "25078  56043_2023-06-01  56043               3.060380       6045       6000\n",
       "25079  56045_2023-06-01  56045               1.803414       5601       5499\n",
       "\n",
       "[25080 rows x 5 columns]"
      ]
     },
     "execution_count": 565,
     "metadata": {},
     "output_type": "execute_result"
    }
   ],
   "source": [
    "merged_df.cfips = merged_df.cfips.astype(int)\n",
    "merged_df['adult2020'] = merged_df.cfips.map(adult2020)\n",
    "merged_df['adult2021'] = merged_df.cfips.map(adult2021)\n",
    "merged_df"
   ]
  },
  {
   "cell_type": "code",
   "execution_count": 566,
   "metadata": {},
   "outputs": [
    {
     "data": {
      "text/html": [
       "<div>\n",
       "<style scoped>\n",
       "    .dataframe tbody tr th:only-of-type {\n",
       "        vertical-align: middle;\n",
       "    }\n",
       "\n",
       "    .dataframe tbody tr th {\n",
       "        vertical-align: top;\n",
       "    }\n",
       "\n",
       "    .dataframe thead th {\n",
       "        text-align: right;\n",
       "    }\n",
       "</style>\n",
       "<table border=\"1\" class=\"dataframe\">\n",
       "  <thead>\n",
       "    <tr style=\"text-align: right;\">\n",
       "      <th></th>\n",
       "      <th>row_id</th>\n",
       "      <th>microbusiness_density</th>\n",
       "    </tr>\n",
       "  </thead>\n",
       "  <tbody>\n",
       "    <tr>\n",
       "      <th>0</th>\n",
       "      <td>1001_2022-11-01</td>\n",
       "      <td>3.320034</td>\n",
       "    </tr>\n",
       "    <tr>\n",
       "      <th>1</th>\n",
       "      <td>1003_2022-11-01</td>\n",
       "      <td>7.933743</td>\n",
       "    </tr>\n",
       "    <tr>\n",
       "      <th>2</th>\n",
       "      <td>1005_2022-11-01</td>\n",
       "      <td>1.240310</td>\n",
       "    </tr>\n",
       "    <tr>\n",
       "      <th>3</th>\n",
       "      <td>1007_2022-11-01</td>\n",
       "      <td>1.286517</td>\n",
       "    </tr>\n",
       "    <tr>\n",
       "      <th>4</th>\n",
       "      <td>1009_2022-11-01</td>\n",
       "      <td>1.818544</td>\n",
       "    </tr>\n",
       "  </tbody>\n",
       "</table>\n",
       "</div>"
      ],
      "text/plain": [
       "            row_id  microbusiness_density\n",
       "0  1001_2022-11-01               3.320034\n",
       "1  1003_2022-11-01               7.933743\n",
       "2  1005_2022-11-01               1.240310\n",
       "3  1007_2022-11-01               1.286517\n",
       "4  1009_2022-11-01               1.818544"
      ]
     },
     "execution_count": 566,
     "metadata": {},
     "output_type": "execute_result"
    }
   ],
   "source": [
    "merged_df.microbusiness_density = merged_df.microbusiness_density * merged_df.adult2020 / merged_df.adult2021\n",
    "merged_df = merged_df.drop(['adult2020','adult2021','cfips'], axis=1)\n",
    "merged_df.to_csv('lgbm_MAY.csv',index=False)\n",
    "merged_df.head()"
   ]
  },
  {
   "cell_type": "code",
   "execution_count": null,
   "metadata": {},
   "outputs": [],
   "source": []
  }
 ],
 "metadata": {
  "kernelspec": {
   "display_name": "base",
   "language": "python",
   "name": "python3"
  },
  "language_info": {
   "codemirror_mode": {
    "name": "ipython",
    "version": 3
   },
   "file_extension": ".py",
   "mimetype": "text/x-python",
   "name": "python",
   "nbconvert_exporter": "python",
   "pygments_lexer": "ipython3",
   "version": "3.9.16"
  },
  "orig_nbformat": 4,
  "vscode": {
   "interpreter": {
    "hash": "c6e4e9f98eb68ad3b7c296f83d20e6de614cb42e90992a65aa266555a3137d0d"
   }
  }
 },
 "nbformat": 4,
 "nbformat_minor": 2
}
